{
 "cells": [
  {
   "cell_type": "markdown",
   "metadata": {},
   "source": [
    "# XGBoosting"
   ]
  },
  {
   "cell_type": "markdown",
   "metadata": {},
   "source": [
    "Leitura dos datasets tratados"
   ]
  },
  {
   "cell_type": "code",
   "execution_count": 52,
   "metadata": {},
   "outputs": [],
   "source": [
    "import sklearn as skl\n",
    "import pandas as pd\n",
    "import matplotlib.pyplot as plt\n",
    "import seaborn as sns\n",
    "import re # Used in Data Processing\n",
    "from sklearn import preprocessing\n",
    "\n",
    "allowed_nans = ['', '#N/A', '#N/A N/A', '#NA', '-1.#IND', '-1.#QNAN',\n",
    "                '-NaN', '-nan', '1.#IND', '1.#QNAN', '<NA>', 'N/A', 'NA',\n",
    "                'NULL', 'NaN', 'n/a', 'nan', 'null']\n",
    "\n",
    "treino = pd.read_csv('datasets/treinoTratado.csv', na_values=allowed_nans, keep_default_na=False)\n",
    "teste = pd.read_csv('datasets/testeTratado.csv', na_values=allowed_nans, keep_default_na=False)"
   ]
  },
  {
   "cell_type": "markdown",
   "metadata": {},
   "source": [
    "## Construção e modelação"
   ]
  },
  {
   "cell_type": "code",
   "execution_count": 53,
   "metadata": {},
   "outputs": [],
   "source": [
    "#treino.drop('humidity', inplace=True, axis=1)\n",
    "#teste.drop('humidity', inplace=True, axis=1)\n",
    "\n",
    "#treino.drop('Horario Economico (kWh)', inplace=True, axis=1)\n",
    "#teste.drop('Horario Economico (kWh)', inplace=True, axis=1)\n",
    "\n",
    "#treino.drop('Hour', inplace=True, axis=1)\n",
    "#teste.drop('Hour', inplace=True, axis=1)\n",
    "\n",
    "label_encoder = preprocessing.LabelEncoder() \n",
    "\n",
    "treino['Date']= label_encoder.fit_transform(treino['Date'])\n",
    "teste['Date']= label_encoder.fit_transform(teste['Date'])\n",
    "\n",
    "treino['Month']= label_encoder.fit_transform(treino['Month'])\n",
    "teste['Month']= label_encoder.fit_transform(teste['Month'])\n",
    "\n",
    "treino['Season']= label_encoder.fit_transform(treino['Season'])\n",
    "teste['Season']= label_encoder.fit_transform(teste['Season'])\n",
    "\n",
    "treino['weather_description']= label_encoder.fit_transform(treino['weather_description'])\n",
    "teste['weather_description']= label_encoder.fit_transform(teste['weather_description'])\n",
    "\n",
    "# Para o xgb temos que ter a feature target encoded tbm \n",
    "treino['Injeçao na rede (kWh)']= label_encoder.fit_transform(treino['Injeçao na rede (kWh)'])"
   ]
  },
  {
   "cell_type": "code",
   "execution_count": 54,
   "metadata": {},
   "outputs": [],
   "source": [
    "X_treino = treino.drop('Injeçao na rede (kWh)', axis=1)\n",
    "y_treino = treino['Injeçao na rede (kWh)']\n",
    "\n",
    "X_teste = teste\n"
   ]
  },
  {
   "cell_type": "code",
   "execution_count": 55,
   "metadata": {},
   "outputs": [
    {
     "name": "stdout",
     "output_type": "stream",
     "text": [
      "Fitting 10 folds for each of 1 candidates, totalling 10 fits\n",
      "[CV] END ....learning_rate=0.1, max_depth=3, n_estimators=10; total time=   0.0s\n",
      "[CV] END ....learning_rate=0.1, max_depth=3, n_estimators=10; total time=   0.0s\n",
      "[CV] END ....learning_rate=0.1, max_depth=3, n_estimators=10; total time=   0.0s\n",
      "[CV] END ....learning_rate=0.1, max_depth=3, n_estimators=10; total time=   0.0s\n",
      "[CV] END ....learning_rate=0.1, max_depth=3, n_estimators=10; total time=   0.0s\n",
      "[CV] END ....learning_rate=0.1, max_depth=3, n_estimators=10; total time=   0.0s\n",
      "[CV] END ....learning_rate=0.1, max_depth=3, n_estimators=10; total time=   0.0s\n",
      "[CV] END ....learning_rate=0.1, max_depth=3, n_estimators=10; total time=   0.0s\n",
      "[CV] END ....learning_rate=0.1, max_depth=3, n_estimators=10; total time=   0.0s\n",
      "[CV] END ....learning_rate=0.1, max_depth=3, n_estimators=10; total time=   0.0s\n"
     ]
    },
    {
     "data": {
      "text/plain": [
       "(0.84453841827109, {'learning_rate': 0.1, 'max_depth': 3, 'n_estimators': 10})"
      ]
     },
     "execution_count": 55,
     "metadata": {},
     "output_type": "execute_result"
    }
   ],
   "source": [
    "from sklearn.model_selection import GridSearchCV\n",
    "import xgboost as xgb\n",
    "\n",
    "xgb_estimator = xgb.XGBClassifier(random_state=2023)\n",
    "\n",
    "params = {\n",
    "'n_estimators': [10,50,100], 'learning_rate': [0.05, 0.1], 'max_depth': list(range(1,16))\n",
    "}\n",
    "grid = GridSearchCV(estimator=xgb_estimator,\n",
    "                    param_grid=params,\n",
    "                    cv=10,\n",
    "                    n_jobs=1,\n",
    "                    verbose=2)\n",
    "grid.fit(X_treino, y_treino)\n",
    "grid.best_score_, grid.best_params_"
   ]
  },
  {
   "cell_type": "code",
   "execution_count": 56,
   "metadata": {},
   "outputs": [],
   "source": [
    "predictions = grid.predict(X_teste)\n",
    "\n",
    "predictions = label_encoder.inverse_transform(predictions)\n",
    "predict_data = {'Result': predictions}\n",
    "df = pd.DataFrame(predict_data)\n",
    "df.index += 1\n",
    "\n",
    "df.to_csv(f'predictions/xgbPrediction.csv')"
   ]
  }
 ],
 "metadata": {
  "kernelspec": {
   "display_name": "DAA",
   "language": "python",
   "name": "python3"
  },
  "language_info": {
   "codemirror_mode": {
    "name": "ipython",
    "version": 3
   },
   "file_extension": ".py",
   "mimetype": "text/x-python",
   "name": "python",
   "nbconvert_exporter": "python",
   "pygments_lexer": "ipython3",
   "version": "3.10.0"
  }
 },
 "nbformat": 4,
 "nbformat_minor": 2
}
