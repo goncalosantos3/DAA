{
 "cells": [
  {
   "cell_type": "markdown",
   "metadata": {},
   "source": [
    "# Decision Trees"
   ]
  },
  {
   "cell_type": "markdown",
   "metadata": {},
   "source": [
    "Leitura dos datasets tratados"
   ]
  },
  {
   "cell_type": "code",
   "execution_count": 18,
   "metadata": {},
   "outputs": [],
   "source": [
    "import sklearn as skl\n",
    "import pandas as pd\n",
    "import matplotlib.pyplot as plt\n",
    "import seaborn as sns\n",
    "import re # Used in Data Processing\n",
    "from sklearn import preprocessing\n",
    "\n",
    "allowed_nans = ['', '#N/A', '#N/A N/A', '#NA', '-1.#IND', '-1.#QNAN',\n",
    "                '-NaN', '-nan', '1.#IND', '1.#QNAN', '<NA>', 'N/A', 'NA',\n",
    "                'NULL', 'NaN', 'n/a', 'nan', 'null']\n",
    "\n",
    "treino = pd.read_csv('datasets/treinoTratado.csv', na_values=allowed_nans, keep_default_na=False)\n",
    "teste = pd.read_csv('datasets/testeTratado.csv', na_values=allowed_nans, keep_default_na=False)\n"
   ]
  },
  {
   "cell_type": "markdown",
   "metadata": {},
   "source": [
    "## Construção e modelação"
   ]
  },
  {
   "cell_type": "code",
   "execution_count": 19,
   "metadata": {},
   "outputs": [],
   "source": [
    "\n",
    "\n",
    "label_encoder = preprocessing.LabelEncoder() \n",
    "\n",
    "treino['Date']= label_encoder.fit_transform(treino['Date'])\n",
    "teste['Date']= label_encoder.fit_transform(teste['Date'])\n",
    "\n",
    "treino['Month']= label_encoder.fit_transform(treino['Month'])\n",
    "teste['Month']= label_encoder.fit_transform(teste['Month'])\n",
    "\n",
    "treino['Season']= label_encoder.fit_transform(treino['Season'])\n",
    "teste['Season']= label_encoder.fit_transform(teste['Season'])\n",
    "\n",
    "treino['weather_description']= label_encoder.fit_transform(treino['weather_description'])\n",
    "teste['weather_description']= label_encoder.fit_transform(teste['weather_description'])"
   ]
  },
  {
   "cell_type": "code",
   "execution_count": 20,
   "metadata": {},
   "outputs": [],
   "source": [
    "X_treino = treino.drop('Injeçao na rede (kWh)', axis=1)\n",
    "y_treino = treino['Injeçao na rede (kWh)']\n",
    "\n",
    "X_teste = teste"
   ]
  },
  {
   "cell_type": "code",
   "execution_count": 21,
   "metadata": {},
   "outputs": [
    {
     "name": "stdout",
     "output_type": "stream",
     "text": [
      "Fitting 10 folds for each of 1 candidates, totalling 10 fits\n",
      "[CV] END .....................................max_iter=20000; total time=  22.5s\n",
      "[CV] END .....................................max_iter=20000; total time=  18.0s\n",
      "[CV] END .....................................max_iter=20000; total time=  22.7s\n",
      "[CV] END .....................................max_iter=20000; total time=  28.0s\n",
      "[CV] END .....................................max_iter=20000; total time=  22.0s\n",
      "[CV] END .....................................max_iter=20000; total time=  18.7s\n",
      "[CV] END .....................................max_iter=20000; total time=  22.2s\n",
      "[CV] END .....................................max_iter=20000; total time=  17.6s\n",
      "[CV] END .....................................max_iter=20000; total time=  20.5s\n",
      "[CV] END .....................................max_iter=20000; total time=  28.3s\n"
     ]
    },
    {
     "data": {
      "text/plain": [
       "(0.8180200997222775, {'max_iter': 20000})"
      ]
     },
     "execution_count": 21,
     "metadata": {},
     "output_type": "execute_result"
    }
   ],
   "source": [
    "from sklearn.model_selection import GridSearchCV\n",
    "from sklearn.linear_model import LogisticRegression\n",
    "\n",
    "clf = LogisticRegression(random_state=183)\n",
    "\n",
    "params =  {'max_iter': [20000]}\n",
    "grid = GridSearchCV(estimator=clf,\n",
    "                    param_grid=params,\n",
    "                    cv=10,\n",
    "                    n_jobs=1,\n",
    "                    verbose=2)\n",
    "grid.fit(X_treino, y_treino)\n",
    "grid.best_score_, grid.best_params_"
   ]
  },
  {
   "cell_type": "code",
   "execution_count": 22,
   "metadata": {},
   "outputs": [],
   "source": [
    "predictions = grid.predict(X_teste)\n",
    "\n",
    "predict_data = {'Result': predictions}\n",
    "df = pd.DataFrame(predict_data)\n",
    "df.index += 1\n",
    "df.to_csv(f'predictions/logRegPrediction.csv')"
   ]
  }
 ],
 "metadata": {
  "kernelspec": {
   "display_name": "DAA",
   "language": "python",
   "name": "python3"
  },
  "language_info": {
   "codemirror_mode": {
    "name": "ipython",
    "version": 3
   },
   "file_extension": ".py",
   "mimetype": "text/x-python",
   "name": "python",
   "nbconvert_exporter": "python",
   "pygments_lexer": "ipython3",
   "version": "3.10.0"
  }
 },
 "nbformat": 4,
 "nbformat_minor": 2
}
