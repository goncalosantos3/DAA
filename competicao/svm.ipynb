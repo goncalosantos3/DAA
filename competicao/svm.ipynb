{
 "cells": [
  {
   "cell_type": "markdown",
   "metadata": {},
   "source": [
    "# Support Vector Machines"
   ]
  },
  {
   "cell_type": "markdown",
   "metadata": {},
   "source": [
    "Leitura dos datasets tratados"
   ]
  },
  {
   "cell_type": "code",
   "execution_count": 1,
   "metadata": {},
   "outputs": [],
   "source": [
    "import sklearn as skl\n",
    "import pandas as pd\n",
    "import matplotlib.pyplot as plt\n",
    "import seaborn as sns\n",
    "from sklearn import preprocessing\n",
    "\n",
    "allowed_nans = ['', '#N/A', '#N/A N/A', '#NA', '-1.#IND', '-1.#QNAN',\n",
    "                '-NaN', '-nan', '1.#IND', '1.#QNAN', '<NA>', 'N/A', 'NA',\n",
    "                'NULL', 'NaN', 'n/a', 'nan', 'null']\n",
    "\n",
    "treino = pd.read_csv('datasets/treinoTratado.csv', na_values=allowed_nans, keep_default_na=False)\n",
    "teste = pd.read_csv('datasets/testeTratado.csv', na_values=allowed_nans, keep_default_na=False)"
   ]
  },
  {
   "cell_type": "markdown",
   "metadata": {},
   "source": [
    "## Construção e Modelação"
   ]
  },
  {
   "cell_type": "code",
   "execution_count": 2,
   "metadata": {},
   "outputs": [],
   "source": [
    "label_encoder = preprocessing.LabelEncoder() \n",
    "\n",
    "treino['Date']= label_encoder.fit_transform(treino['Date'])\n",
    "teste['Date']= label_encoder.fit_transform(teste['Date'])\n",
    "\n",
    "treino['Month']= label_encoder.fit_transform(treino['Month'])\n",
    "teste['Month']= label_encoder.fit_transform(teste['Month'])\n",
    "\n",
    "treino['Season']= label_encoder.fit_transform(treino['Season'])\n",
    "teste['Season']= label_encoder.fit_transform(teste['Season'])\n",
    "\n",
    "treino['weather_description']= label_encoder.fit_transform(treino['weather_description'])\n",
    "teste['weather_description']= label_encoder.fit_transform(teste['weather_description'])"
   ]
  },
  {
   "cell_type": "code",
   "execution_count": 3,
   "metadata": {},
   "outputs": [],
   "source": [
    "X_treino = treino.drop('Injeçao na rede (kWh)', axis=1)\n",
    "y_treino = treino['Injeçao na rede (kWh)']\n",
    "\n",
    "X_teste = teste"
   ]
  },
  {
   "cell_type": "code",
   "execution_count": 4,
   "metadata": {},
   "outputs": [
    {
     "name": "stdout",
     "output_type": "stream",
     "text": [
      "Fitting 5 folds for each of 15 candidates, totalling 75 fits\n",
      "[CV] END .........................C=0.1, gamma=1, kernel=rbf; total time=  10.7s\n",
      "[CV] END .........................C=0.1, gamma=1, kernel=rbf; total time=  10.6s\n",
      "[CV] END .........................C=0.1, gamma=1, kernel=rbf; total time=  11.0s\n",
      "[CV] END .........................C=0.1, gamma=1, kernel=rbf; total time=  12.7s\n",
      "[CV] END .........................C=0.1, gamma=1, kernel=rbf; total time=  12.6s\n",
      "[CV] END .......................C=0.1, gamma=0.1, kernel=rbf; total time=  12.3s\n",
      "[CV] END .......................C=0.1, gamma=0.1, kernel=rbf; total time=  11.1s\n",
      "[CV] END .......................C=0.1, gamma=0.1, kernel=rbf; total time=  10.8s\n",
      "[CV] END .......................C=0.1, gamma=0.1, kernel=rbf; total time=  11.3s\n",
      "[CV] END .......................C=0.1, gamma=0.1, kernel=rbf; total time=  11.4s\n",
      "[CV] END ......................C=0.1, gamma=0.01, kernel=rbf; total time=   6.7s\n",
      "[CV] END ......................C=0.1, gamma=0.01, kernel=rbf; total time=   6.4s\n",
      "[CV] END ......................C=0.1, gamma=0.01, kernel=rbf; total time=   7.2s\n",
      "[CV] END ......................C=0.1, gamma=0.01, kernel=rbf; total time=   6.5s\n",
      "[CV] END ......................C=0.1, gamma=0.01, kernel=rbf; total time=   6.7s\n",
      "[CV] END ...........................C=1, gamma=1, kernel=rbf; total time=  11.3s\n",
      "[CV] END ...........................C=1, gamma=1, kernel=rbf; total time=  11.9s\n",
      "[CV] END ...........................C=1, gamma=1, kernel=rbf; total time=  11.3s\n",
      "[CV] END ...........................C=1, gamma=1, kernel=rbf; total time=  11.3s\n",
      "[CV] END ...........................C=1, gamma=1, kernel=rbf; total time=  12.2s\n",
      "[CV] END .........................C=1, gamma=0.1, kernel=rbf; total time=  12.4s\n",
      "[CV] END .........................C=1, gamma=0.1, kernel=rbf; total time=  12.6s\n",
      "[CV] END .........................C=1, gamma=0.1, kernel=rbf; total time=  12.3s\n",
      "[CV] END .........................C=1, gamma=0.1, kernel=rbf; total time=  12.4s\n",
      "[CV] END .........................C=1, gamma=0.1, kernel=rbf; total time=  13.1s\n",
      "[CV] END ........................C=1, gamma=0.01, kernel=rbf; total time=   7.4s\n",
      "[CV] END ........................C=1, gamma=0.01, kernel=rbf; total time=   7.0s\n",
      "[CV] END ........................C=1, gamma=0.01, kernel=rbf; total time=   6.8s\n",
      "[CV] END ........................C=1, gamma=0.01, kernel=rbf; total time=   7.2s\n",
      "[CV] END ........................C=1, gamma=0.01, kernel=rbf; total time=   7.9s\n",
      "[CV] END ..........................C=10, gamma=1, kernel=rbf; total time=  13.5s\n",
      "[CV] END ..........................C=10, gamma=1, kernel=rbf; total time=  12.3s\n",
      "[CV] END ..........................C=10, gamma=1, kernel=rbf; total time=  12.8s\n",
      "[CV] END ..........................C=10, gamma=1, kernel=rbf; total time=  12.3s\n",
      "[CV] END ..........................C=10, gamma=1, kernel=rbf; total time=  12.2s\n",
      "[CV] END ........................C=10, gamma=0.1, kernel=rbf; total time=  14.4s\n",
      "[CV] END ........................C=10, gamma=0.1, kernel=rbf; total time=  13.8s\n",
      "[CV] END ........................C=10, gamma=0.1, kernel=rbf; total time=  14.4s\n",
      "[CV] END ........................C=10, gamma=0.1, kernel=rbf; total time=  13.8s\n",
      "[CV] END ........................C=10, gamma=0.1, kernel=rbf; total time=  15.8s\n",
      "[CV] END .......................C=10, gamma=0.01, kernel=rbf; total time=   6.1s\n",
      "[CV] END .......................C=10, gamma=0.01, kernel=rbf; total time=   6.1s\n",
      "[CV] END .......................C=10, gamma=0.01, kernel=rbf; total time=   6.0s\n",
      "[CV] END .......................C=10, gamma=0.01, kernel=rbf; total time=   6.0s\n",
      "[CV] END .......................C=10, gamma=0.01, kernel=rbf; total time=   6.9s\n",
      "[CV] END .........................C=100, gamma=1, kernel=rbf; total time=  12.2s\n",
      "[CV] END .........................C=100, gamma=1, kernel=rbf; total time=  11.9s\n",
      "[CV] END .........................C=100, gamma=1, kernel=rbf; total time=  12.6s\n",
      "[CV] END .........................C=100, gamma=1, kernel=rbf; total time=  11.9s\n",
      "[CV] END .........................C=100, gamma=1, kernel=rbf; total time=  12.0s\n",
      "[CV] END .......................C=100, gamma=0.1, kernel=rbf; total time=  13.7s\n",
      "[CV] END .......................C=100, gamma=0.1, kernel=rbf; total time=  14.3s\n",
      "[CV] END .......................C=100, gamma=0.1, kernel=rbf; total time=  14.4s\n",
      "[CV] END .......................C=100, gamma=0.1, kernel=rbf; total time=  14.4s\n",
      "[CV] END .......................C=100, gamma=0.1, kernel=rbf; total time=  14.8s\n",
      "[CV] END ......................C=100, gamma=0.01, kernel=rbf; total time=   6.1s\n",
      "[CV] END ......................C=100, gamma=0.01, kernel=rbf; total time=   6.2s\n",
      "[CV] END ......................C=100, gamma=0.01, kernel=rbf; total time=   5.8s\n",
      "[CV] END ......................C=100, gamma=0.01, kernel=rbf; total time=   6.3s\n",
      "[CV] END ......................C=100, gamma=0.01, kernel=rbf; total time=   7.3s\n",
      "[CV] END .........................C=100, gamma=1, kernel=rbf; total time=  12.9s\n",
      "[CV] END .........................C=100, gamma=1, kernel=rbf; total time=  12.4s\n",
      "[CV] END .........................C=100, gamma=1, kernel=rbf; total time=  13.6s\n",
      "[CV] END .........................C=100, gamma=1, kernel=rbf; total time=  12.4s\n",
      "[CV] END .........................C=100, gamma=1, kernel=rbf; total time=  12.5s\n",
      "[CV] END .......................C=100, gamma=0.1, kernel=rbf; total time=  14.3s\n",
      "[CV] END .......................C=100, gamma=0.1, kernel=rbf; total time=  14.4s\n",
      "[CV] END .......................C=100, gamma=0.1, kernel=rbf; total time=  15.5s\n",
      "[CV] END .......................C=100, gamma=0.1, kernel=rbf; total time=  13.1s\n",
      "[CV] END .......................C=100, gamma=0.1, kernel=rbf; total time=  13.1s\n",
      "[CV] END ......................C=100, gamma=0.01, kernel=rbf; total time=   5.5s\n",
      "[CV] END ......................C=100, gamma=0.01, kernel=rbf; total time=   5.6s\n",
      "[CV] END ......................C=100, gamma=0.01, kernel=rbf; total time=   5.2s\n",
      "[CV] END ......................C=100, gamma=0.01, kernel=rbf; total time=   5.5s\n",
      "[CV] END ......................C=100, gamma=0.01, kernel=rbf; total time=   6.4s\n"
     ]
    },
    {
     "data": {
      "text/plain": [
       "(0.705973128541924, {'C': 0.1, 'gamma': 1, 'kernel': 'rbf'})"
      ]
     },
     "execution_count": 4,
     "metadata": {},
     "output_type": "execute_result"
    }
   ],
   "source": [
    "from sklearn.model_selection import GridSearchCV\n",
    "from sklearn import svm\n",
    "\n",
    "svm_model = svm.SVC(random_state=2023)\n",
    "\n",
    "# gamma: [1, 0.1, 0.01, 0.001, 0.0001]\n",
    "\n",
    "params = {\n",
    "    'C': [0.1, 1, 10, 100, 100], 'gamma': [1, 0.1, 0.01], 'kernel': ['rbf']\n",
    "}\n",
    "\n",
    "grid = GridSearchCV(estimator=svm_model,\n",
    "                    param_grid=params,\n",
    "                    cv=5,\n",
    "                    n_jobs=1,\n",
    "                    verbose=2)\n",
    "\n",
    "grid.fit(X_treino, y_treino)\n",
    "grid.best_score_, grid.best_params_"
   ]
  },
  {
   "cell_type": "code",
   "execution_count": 5,
   "metadata": {},
   "outputs": [],
   "source": [
    "predictions = grid.predict(X_teste)\n",
    "\n",
    "predict_data = {'Result': predictions}\n",
    "df = pd.DataFrame(predict_data)\n",
    "df.index += 1\n",
    "df.index.name = 'RowId'\n",
    "\n",
    "df.to_csv(f'predictions/svmPrediction.csv')"
   ]
  }
 ],
 "metadata": {
  "kernelspec": {
   "display_name": "DAA",
   "language": "python",
   "name": "python3"
  },
  "language_info": {
   "codemirror_mode": {
    "name": "ipython",
    "version": 3
   },
   "file_extension": ".py",
   "mimetype": "text/x-python",
   "name": "python",
   "nbconvert_exporter": "python",
   "pygments_lexer": "ipython3",
   "version": "3.10.0"
  }
 },
 "nbformat": 4,
 "nbformat_minor": 2
}
