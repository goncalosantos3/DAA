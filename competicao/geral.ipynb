{
 "cells": [
  {
   "cell_type": "markdown",
   "metadata": {},
   "source": [
    "# Dataset de competição"
   ]
  },
  {
   "cell_type": "markdown",
   "metadata": {},
   "source": [
    "## Fase 0: Imports e Leitura dos Dados"
   ]
  },
  {
   "cell_type": "code",
   "execution_count": 1,
   "metadata": {},
   "outputs": [],
   "source": [
    "import sklearn as skl\n",
    "import pandas as pd\n",
    "import matplotlib.pyplot as plt\n",
    "import seaborn as sns\n",
    "import re # Used in Data Processing\n",
    "from sklearn import preprocessing\n",
    "\n",
    "# Definir o número máximo de colunas do pandas para 40\n",
    "pd.set_option('display.max_columns', 40)"
   ]
  },
  {
   "cell_type": "markdown",
   "metadata": {},
   "source": [
    "The following configuration was implemented to avoid pandas from considering that the 'None' value in the column 'Injeçao na rede (kWh)' is NaN."
   ]
  },
  {
   "cell_type": "code",
   "execution_count": 2,
   "metadata": {},
   "outputs": [],
   "source": [
    "allowed_nans = ['', '#N/A', '#N/A N/A', '#NA', '-1.#IND', '-1.#QNAN',\n",
    "                '-NaN', '-nan', '1.#IND', '1.#QNAN', '<NA>', 'N/A', 'NA',\n",
    "                'NULL', 'NaN', 'n/a', 'nan', 'null']\n",
    "\n",
    "treino = pd.read_csv('datasets/treino.csv', na_values=allowed_nans, keep_default_na=False)\n",
    "teste = pd.read_csv('datasets/teste.csv', na_values=allowed_nans, keep_default_na=False)"
   ]
  },
  {
   "cell_type": "markdown",
   "metadata": {},
   "source": [
    "## Fase 1: Exploração Simples dos Dados"
   ]
  },
  {
   "cell_type": "code",
   "execution_count": 3,
   "metadata": {},
   "outputs": [
    {
     "data": {
      "text/plain": [
       "(11016, 21)"
      ]
     },
     "execution_count": 3,
     "metadata": {},
     "output_type": "execute_result"
    }
   ],
   "source": [
    "treino.shape"
   ]
  },
  {
   "cell_type": "code",
   "execution_count": 4,
   "metadata": {},
   "outputs": [
    {
     "data": {
      "text/plain": [
       "Index(['dt', 'dt_iso', 'city_name', 'temp', 'feels_like', 'temp_min',\n",
       "       'temp_max', 'pressure', 'sea_level', 'grnd_level', 'humidity',\n",
       "       'wind_speed', 'rain_1h', 'clouds_all', 'weather_description', 'Data',\n",
       "       'Hora', 'Normal (kWh)', 'Horario Economico (kWh)', 'Autoconsumo (kWh)',\n",
       "       'Injeçao na rede (kWh)'],\n",
       "      dtype='object')"
      ]
     },
     "execution_count": 4,
     "metadata": {},
     "output_type": "execute_result"
    }
   ],
   "source": [
    "treino.columns"
   ]
  },
  {
   "cell_type": "code",
   "execution_count": 5,
   "metadata": {},
   "outputs": [
    {
     "data": {
      "text/html": [
       "<div>\n",
       "<style scoped>\n",
       "    .dataframe tbody tr th:only-of-type {\n",
       "        vertical-align: middle;\n",
       "    }\n",
       "\n",
       "    .dataframe tbody tr th {\n",
       "        vertical-align: top;\n",
       "    }\n",
       "\n",
       "    .dataframe thead th {\n",
       "        text-align: right;\n",
       "    }\n",
       "</style>\n",
       "<table border=\"1\" class=\"dataframe\">\n",
       "  <thead>\n",
       "    <tr style=\"text-align: right;\">\n",
       "      <th></th>\n",
       "      <th>dt</th>\n",
       "      <th>dt_iso</th>\n",
       "      <th>city_name</th>\n",
       "      <th>temp</th>\n",
       "      <th>feels_like</th>\n",
       "      <th>temp_min</th>\n",
       "      <th>temp_max</th>\n",
       "      <th>pressure</th>\n",
       "      <th>sea_level</th>\n",
       "      <th>grnd_level</th>\n",
       "      <th>humidity</th>\n",
       "      <th>wind_speed</th>\n",
       "      <th>rain_1h</th>\n",
       "      <th>clouds_all</th>\n",
       "      <th>weather_description</th>\n",
       "      <th>Data</th>\n",
       "      <th>Hora</th>\n",
       "      <th>Normal (kWh)</th>\n",
       "      <th>Horario Economico (kWh)</th>\n",
       "      <th>Autoconsumo (kWh)</th>\n",
       "      <th>Injeçao na rede (kWh)</th>\n",
       "    </tr>\n",
       "  </thead>\n",
       "  <tbody>\n",
       "    <tr>\n",
       "      <th>0</th>\n",
       "      <td>1632873600</td>\n",
       "      <td>2021-09-29 00:00:00+00:00</td>\n",
       "      <td>local</td>\n",
       "      <td>13.97</td>\n",
       "      <td>13.54</td>\n",
       "      <td>11.45</td>\n",
       "      <td>14.04</td>\n",
       "      <td>1027</td>\n",
       "      <td>1027.9</td>\n",
       "      <td>1004.4</td>\n",
       "      <td>81</td>\n",
       "      <td>1.96</td>\n",
       "      <td>NaN</td>\n",
       "      <td>87</td>\n",
       "      <td>overcast clouds</td>\n",
       "      <td>2021-09-29</td>\n",
       "      <td>0</td>\n",
       "      <td>0.0</td>\n",
       "      <td>0.0</td>\n",
       "      <td>0.0</td>\n",
       "      <td>None</td>\n",
       "    </tr>\n",
       "    <tr>\n",
       "      <th>1</th>\n",
       "      <td>1632877200</td>\n",
       "      <td>2021-09-29 01:00:00+00:00</td>\n",
       "      <td>local</td>\n",
       "      <td>13.48</td>\n",
       "      <td>13.02</td>\n",
       "      <td>13.43</td>\n",
       "      <td>13.90</td>\n",
       "      <td>1028</td>\n",
       "      <td>1027.9</td>\n",
       "      <td>1004.4</td>\n",
       "      <td>82</td>\n",
       "      <td>1.83</td>\n",
       "      <td>NaN</td>\n",
       "      <td>91</td>\n",
       "      <td>overcast clouds</td>\n",
       "      <td>2021-09-29</td>\n",
       "      <td>1</td>\n",
       "      <td>0.0</td>\n",
       "      <td>0.0</td>\n",
       "      <td>0.0</td>\n",
       "      <td>None</td>\n",
       "    </tr>\n",
       "    <tr>\n",
       "      <th>2</th>\n",
       "      <td>1632880800</td>\n",
       "      <td>2021-09-29 02:00:00+00:00</td>\n",
       "      <td>local</td>\n",
       "      <td>12.93</td>\n",
       "      <td>12.47</td>\n",
       "      <td>12.72</td>\n",
       "      <td>13.43</td>\n",
       "      <td>1027</td>\n",
       "      <td>1027.8</td>\n",
       "      <td>1004.3</td>\n",
       "      <td>84</td>\n",
       "      <td>1.96</td>\n",
       "      <td>NaN</td>\n",
       "      <td>93</td>\n",
       "      <td>overcast clouds</td>\n",
       "      <td>2021-09-29</td>\n",
       "      <td>2</td>\n",
       "      <td>0.0</td>\n",
       "      <td>0.0</td>\n",
       "      <td>0.0</td>\n",
       "      <td>None</td>\n",
       "    </tr>\n",
       "    <tr>\n",
       "      <th>3</th>\n",
       "      <td>1632884400</td>\n",
       "      <td>2021-09-29 03:00:00+00:00</td>\n",
       "      <td>local</td>\n",
       "      <td>12.61</td>\n",
       "      <td>12.15</td>\n",
       "      <td>10.34</td>\n",
       "      <td>12.93</td>\n",
       "      <td>1027</td>\n",
       "      <td>1027.6</td>\n",
       "      <td>1004.1</td>\n",
       "      <td>85</td>\n",
       "      <td>1.85</td>\n",
       "      <td>NaN</td>\n",
       "      <td>95</td>\n",
       "      <td>overcast clouds</td>\n",
       "      <td>2021-09-29</td>\n",
       "      <td>3</td>\n",
       "      <td>0.0</td>\n",
       "      <td>0.0</td>\n",
       "      <td>0.0</td>\n",
       "      <td>None</td>\n",
       "    </tr>\n",
       "    <tr>\n",
       "      <th>4</th>\n",
       "      <td>1632888000</td>\n",
       "      <td>2021-09-29 04:00:00+00:00</td>\n",
       "      <td>local</td>\n",
       "      <td>12.61</td>\n",
       "      <td>12.17</td>\n",
       "      <td>9.79</td>\n",
       "      <td>12.93</td>\n",
       "      <td>1027</td>\n",
       "      <td>1027.8</td>\n",
       "      <td>1004.3</td>\n",
       "      <td>86</td>\n",
       "      <td>1.83</td>\n",
       "      <td>NaN</td>\n",
       "      <td>93</td>\n",
       "      <td>overcast clouds</td>\n",
       "      <td>2021-09-29</td>\n",
       "      <td>4</td>\n",
       "      <td>0.0</td>\n",
       "      <td>0.0</td>\n",
       "      <td>0.0</td>\n",
       "      <td>None</td>\n",
       "    </tr>\n",
       "  </tbody>\n",
       "</table>\n",
       "</div>"
      ],
      "text/plain": [
       "           dt                     dt_iso city_name   temp  feels_like  \\\n",
       "0  1632873600  2021-09-29 00:00:00+00:00     local  13.97       13.54   \n",
       "1  1632877200  2021-09-29 01:00:00+00:00     local  13.48       13.02   \n",
       "2  1632880800  2021-09-29 02:00:00+00:00     local  12.93       12.47   \n",
       "3  1632884400  2021-09-29 03:00:00+00:00     local  12.61       12.15   \n",
       "4  1632888000  2021-09-29 04:00:00+00:00     local  12.61       12.17   \n",
       "\n",
       "   temp_min  temp_max  pressure  sea_level  grnd_level  humidity  wind_speed  \\\n",
       "0     11.45     14.04      1027     1027.9      1004.4        81        1.96   \n",
       "1     13.43     13.90      1028     1027.9      1004.4        82        1.83   \n",
       "2     12.72     13.43      1027     1027.8      1004.3        84        1.96   \n",
       "3     10.34     12.93      1027     1027.6      1004.1        85        1.85   \n",
       "4      9.79     12.93      1027     1027.8      1004.3        86        1.83   \n",
       "\n",
       "   rain_1h  clouds_all weather_description        Data  Hora  Normal (kWh)  \\\n",
       "0      NaN          87     overcast clouds  2021-09-29     0           0.0   \n",
       "1      NaN          91     overcast clouds  2021-09-29     1           0.0   \n",
       "2      NaN          93     overcast clouds  2021-09-29     2           0.0   \n",
       "3      NaN          95     overcast clouds  2021-09-29     3           0.0   \n",
       "4      NaN          93     overcast clouds  2021-09-29     4           0.0   \n",
       "\n",
       "   Horario Economico (kWh)  Autoconsumo (kWh) Injeçao na rede (kWh)  \n",
       "0                      0.0                0.0                  None  \n",
       "1                      0.0                0.0                  None  \n",
       "2                      0.0                0.0                  None  \n",
       "3                      0.0                0.0                  None  \n",
       "4                      0.0                0.0                  None  "
      ]
     },
     "execution_count": 5,
     "metadata": {},
     "output_type": "execute_result"
    }
   ],
   "source": [
    "treino.head()"
   ]
  },
  {
   "cell_type": "code",
   "execution_count": 6,
   "metadata": {},
   "outputs": [
    {
     "data": {
      "text/html": [
       "<div>\n",
       "<style scoped>\n",
       "    .dataframe tbody tr th:only-of-type {\n",
       "        vertical-align: middle;\n",
       "    }\n",
       "\n",
       "    .dataframe tbody tr th {\n",
       "        vertical-align: top;\n",
       "    }\n",
       "\n",
       "    .dataframe thead th {\n",
       "        text-align: right;\n",
       "    }\n",
       "</style>\n",
       "<table border=\"1\" class=\"dataframe\">\n",
       "  <thead>\n",
       "    <tr style=\"text-align: right;\">\n",
       "      <th></th>\n",
       "      <th>dt</th>\n",
       "      <th>temp</th>\n",
       "      <th>feels_like</th>\n",
       "      <th>temp_min</th>\n",
       "      <th>temp_max</th>\n",
       "      <th>pressure</th>\n",
       "      <th>sea_level</th>\n",
       "      <th>grnd_level</th>\n",
       "      <th>humidity</th>\n",
       "      <th>wind_speed</th>\n",
       "      <th>rain_1h</th>\n",
       "      <th>clouds_all</th>\n",
       "      <th>Hora</th>\n",
       "      <th>Normal (kWh)</th>\n",
       "      <th>Horario Economico (kWh)</th>\n",
       "      <th>Autoconsumo (kWh)</th>\n",
       "    </tr>\n",
       "  </thead>\n",
       "  <tbody>\n",
       "    <tr>\n",
       "      <th>count</th>\n",
       "      <td>1.101600e+04</td>\n",
       "      <td>11016.000000</td>\n",
       "      <td>11016.000000</td>\n",
       "      <td>11016.000000</td>\n",
       "      <td>11016.000000</td>\n",
       "      <td>11016.000000</td>\n",
       "      <td>11016.000000</td>\n",
       "      <td>11016.000000</td>\n",
       "      <td>11016.000000</td>\n",
       "      <td>11016.000000</td>\n",
       "      <td>2284.000000</td>\n",
       "      <td>11016.000000</td>\n",
       "      <td>11016.000000</td>\n",
       "      <td>11016.000000</td>\n",
       "      <td>11016.000000</td>\n",
       "      <td>11016.000000</td>\n",
       "    </tr>\n",
       "    <tr>\n",
       "      <th>mean</th>\n",
       "      <td>1.652701e+09</td>\n",
       "      <td>16.182991</td>\n",
       "      <td>15.826868</td>\n",
       "      <td>14.195064</td>\n",
       "      <td>17.288098</td>\n",
       "      <td>1018.396605</td>\n",
       "      <td>1018.590151</td>\n",
       "      <td>995.558696</td>\n",
       "      <td>76.570715</td>\n",
       "      <td>2.672039</td>\n",
       "      <td>0.896642</td>\n",
       "      <td>54.000908</td>\n",
       "      <td>11.500000</td>\n",
       "      <td>0.202278</td>\n",
       "      <td>0.159714</td>\n",
       "      <td>0.117314</td>\n",
       "    </tr>\n",
       "    <tr>\n",
       "      <th>std</th>\n",
       "      <td>1.144868e+07</td>\n",
       "      <td>5.756972</td>\n",
       "      <td>6.264860</td>\n",
       "      <td>4.956014</td>\n",
       "      <td>6.164689</td>\n",
       "      <td>6.203379</td>\n",
       "      <td>6.199122</td>\n",
       "      <td>5.931816</td>\n",
       "      <td>16.268260</td>\n",
       "      <td>1.476158</td>\n",
       "      <td>1.079381</td>\n",
       "      <td>40.553002</td>\n",
       "      <td>6.922501</td>\n",
       "      <td>0.349478</td>\n",
       "      <td>0.271792</td>\n",
       "      <td>0.176762</td>\n",
       "    </tr>\n",
       "    <tr>\n",
       "      <th>min</th>\n",
       "      <td>1.632874e+09</td>\n",
       "      <td>0.320000</td>\n",
       "      <td>-2.190000</td>\n",
       "      <td>-0.640000</td>\n",
       "      <td>1.330000</td>\n",
       "      <td>994.000000</td>\n",
       "      <td>994.500000</td>\n",
       "      <td>971.700000</td>\n",
       "      <td>19.000000</td>\n",
       "      <td>0.060000</td>\n",
       "      <td>0.100000</td>\n",
       "      <td>0.000000</td>\n",
       "      <td>0.000000</td>\n",
       "      <td>0.000000</td>\n",
       "      <td>0.000000</td>\n",
       "      <td>0.000000</td>\n",
       "    </tr>\n",
       "    <tr>\n",
       "      <th>25%</th>\n",
       "      <td>1.642787e+09</td>\n",
       "      <td>12.080000</td>\n",
       "      <td>11.507500</td>\n",
       "      <td>10.720000</td>\n",
       "      <td>12.890000</td>\n",
       "      <td>1015.000000</td>\n",
       "      <td>1014.900000</td>\n",
       "      <td>992.100000</td>\n",
       "      <td>66.000000</td>\n",
       "      <td>1.620000</td>\n",
       "      <td>0.210000</td>\n",
       "      <td>7.000000</td>\n",
       "      <td>5.750000</td>\n",
       "      <td>0.000000</td>\n",
       "      <td>0.000000</td>\n",
       "      <td>0.000000</td>\n",
       "    </tr>\n",
       "    <tr>\n",
       "      <th>50%</th>\n",
       "      <td>1.652701e+09</td>\n",
       "      <td>15.625000</td>\n",
       "      <td>15.230000</td>\n",
       "      <td>14.230000</td>\n",
       "      <td>16.260000</td>\n",
       "      <td>1018.000000</td>\n",
       "      <td>1018.400000</td>\n",
       "      <td>995.500000</td>\n",
       "      <td>81.000000</td>\n",
       "      <td>2.400000</td>\n",
       "      <td>0.460000</td>\n",
       "      <td>60.000000</td>\n",
       "      <td>11.500000</td>\n",
       "      <td>0.000000</td>\n",
       "      <td>0.000000</td>\n",
       "      <td>0.000000</td>\n",
       "    </tr>\n",
       "    <tr>\n",
       "      <th>75%</th>\n",
       "      <td>1.662614e+09</td>\n",
       "      <td>19.270000</td>\n",
       "      <td>19.260000</td>\n",
       "      <td>17.490000</td>\n",
       "      <td>20.340000</td>\n",
       "      <td>1022.000000</td>\n",
       "      <td>1022.700000</td>\n",
       "      <td>999.500000</td>\n",
       "      <td>91.000000</td>\n",
       "      <td>3.420000</td>\n",
       "      <td>1.092500</td>\n",
       "      <td>98.000000</td>\n",
       "      <td>17.250000</td>\n",
       "      <td>0.314000</td>\n",
       "      <td>0.288000</td>\n",
       "      <td>0.227000</td>\n",
       "    </tr>\n",
       "    <tr>\n",
       "      <th>max</th>\n",
       "      <td>1.672528e+09</td>\n",
       "      <td>40.850000</td>\n",
       "      <td>41.330000</td>\n",
       "      <td>36.720000</td>\n",
       "      <td>41.450000</td>\n",
       "      <td>1034.000000</td>\n",
       "      <td>1033.900000</td>\n",
       "      <td>1010.200000</td>\n",
       "      <td>100.000000</td>\n",
       "      <td>11.100000</td>\n",
       "      <td>7.450000</td>\n",
       "      <td>100.000000</td>\n",
       "      <td>23.000000</td>\n",
       "      <td>3.251000</td>\n",
       "      <td>6.978000</td>\n",
       "      <td>1.192000</td>\n",
       "    </tr>\n",
       "  </tbody>\n",
       "</table>\n",
       "</div>"
      ],
      "text/plain": [
       "                 dt          temp    feels_like      temp_min      temp_max  \\\n",
       "count  1.101600e+04  11016.000000  11016.000000  11016.000000  11016.000000   \n",
       "mean   1.652701e+09     16.182991     15.826868     14.195064     17.288098   \n",
       "std    1.144868e+07      5.756972      6.264860      4.956014      6.164689   \n",
       "min    1.632874e+09      0.320000     -2.190000     -0.640000      1.330000   \n",
       "25%    1.642787e+09     12.080000     11.507500     10.720000     12.890000   \n",
       "50%    1.652701e+09     15.625000     15.230000     14.230000     16.260000   \n",
       "75%    1.662614e+09     19.270000     19.260000     17.490000     20.340000   \n",
       "max    1.672528e+09     40.850000     41.330000     36.720000     41.450000   \n",
       "\n",
       "           pressure     sea_level    grnd_level      humidity    wind_speed  \\\n",
       "count  11016.000000  11016.000000  11016.000000  11016.000000  11016.000000   \n",
       "mean    1018.396605   1018.590151    995.558696     76.570715      2.672039   \n",
       "std        6.203379      6.199122      5.931816     16.268260      1.476158   \n",
       "min      994.000000    994.500000    971.700000     19.000000      0.060000   \n",
       "25%     1015.000000   1014.900000    992.100000     66.000000      1.620000   \n",
       "50%     1018.000000   1018.400000    995.500000     81.000000      2.400000   \n",
       "75%     1022.000000   1022.700000    999.500000     91.000000      3.420000   \n",
       "max     1034.000000   1033.900000   1010.200000    100.000000     11.100000   \n",
       "\n",
       "           rain_1h    clouds_all          Hora  Normal (kWh)  \\\n",
       "count  2284.000000  11016.000000  11016.000000  11016.000000   \n",
       "mean      0.896642     54.000908     11.500000      0.202278   \n",
       "std       1.079381     40.553002      6.922501      0.349478   \n",
       "min       0.100000      0.000000      0.000000      0.000000   \n",
       "25%       0.210000      7.000000      5.750000      0.000000   \n",
       "50%       0.460000     60.000000     11.500000      0.000000   \n",
       "75%       1.092500     98.000000     17.250000      0.314000   \n",
       "max       7.450000    100.000000     23.000000      3.251000   \n",
       "\n",
       "       Horario Economico (kWh)  Autoconsumo (kWh)  \n",
       "count             11016.000000       11016.000000  \n",
       "mean                  0.159714           0.117314  \n",
       "std                   0.271792           0.176762  \n",
       "min                   0.000000           0.000000  \n",
       "25%                   0.000000           0.000000  \n",
       "50%                   0.000000           0.000000  \n",
       "75%                   0.288000           0.227000  \n",
       "max                   6.978000           1.192000  "
      ]
     },
     "execution_count": 6,
     "metadata": {},
     "output_type": "execute_result"
    }
   ],
   "source": [
    "treino.describe()"
   ]
  },
  {
   "cell_type": "code",
   "execution_count": 7,
   "metadata": {},
   "outputs": [
    {
     "data": {
      "text/plain": [
       "False"
      ]
     },
     "execution_count": 7,
     "metadata": {},
     "output_type": "execute_result"
    }
   ],
   "source": [
    "treino.duplicated().any()"
   ]
  },
  {
   "cell_type": "code",
   "execution_count": 8,
   "metadata": {},
   "outputs": [
    {
     "data": {
      "text/plain": [
       "dt                         False\n",
       "dt_iso                     False\n",
       "city_name                  False\n",
       "temp                       False\n",
       "feels_like                 False\n",
       "temp_min                   False\n",
       "temp_max                   False\n",
       "pressure                   False\n",
       "sea_level                  False\n",
       "grnd_level                 False\n",
       "humidity                   False\n",
       "wind_speed                 False\n",
       "rain_1h                     True\n",
       "clouds_all                 False\n",
       "weather_description        False\n",
       "Data                       False\n",
       "Hora                       False\n",
       "Normal (kWh)               False\n",
       "Horario Economico (kWh)    False\n",
       "Autoconsumo (kWh)          False\n",
       "Injeçao na rede (kWh)      False\n",
       "dtype: bool"
      ]
     },
     "execution_count": 8,
     "metadata": {},
     "output_type": "execute_result"
    }
   ],
   "source": [
    "treino.isna().any()"
   ]
  },
  {
   "cell_type": "code",
   "execution_count": 9,
   "metadata": {},
   "outputs": [
    {
     "data": {
      "text/plain": [
       "dt                           int64\n",
       "dt_iso                      object\n",
       "city_name                   object\n",
       "temp                       float64\n",
       "feels_like                 float64\n",
       "temp_min                   float64\n",
       "temp_max                   float64\n",
       "pressure                     int64\n",
       "sea_level                  float64\n",
       "grnd_level                 float64\n",
       "humidity                     int64\n",
       "wind_speed                 float64\n",
       "rain_1h                    float64\n",
       "clouds_all                   int64\n",
       "weather_description         object\n",
       "Data                        object\n",
       "Hora                         int64\n",
       "Normal (kWh)               float64\n",
       "Horario Economico (kWh)    float64\n",
       "Autoconsumo (kWh)          float64\n",
       "Injeçao na rede (kWh)       object\n",
       "dtype: object"
      ]
     },
     "execution_count": 9,
     "metadata": {},
     "output_type": "execute_result"
    }
   ],
   "source": [
    "treino.dtypes"
   ]
  },
  {
   "cell_type": "code",
   "execution_count": 10,
   "metadata": {},
   "outputs": [
    {
     "data": {
      "text/plain": [
       "Normal (kWh)\n",
       "0.000    6018\n",
       "0.001      23\n",
       "0.008      19\n",
       "0.252      17\n",
       "0.016      17\n",
       "         ... \n",
       "1.479       1\n",
       "1.024       1\n",
       "0.839       1\n",
       "0.832       1\n",
       "1.327       1\n",
       "Name: count, Length: 1282, dtype: int64"
      ]
     },
     "execution_count": 10,
     "metadata": {},
     "output_type": "execute_result"
    }
   ],
   "source": [
    "treino['Normal (kWh)'].value_counts()"
   ]
  },
  {
   "cell_type": "code",
   "execution_count": 11,
   "metadata": {},
   "outputs": [
    {
     "data": {
      "text/plain": [
       "weather_description\n",
       "sky is clear            3010\n",
       "overcast clouds         2430\n",
       "light rain              1662\n",
       "broken clouds           1413\n",
       "scattered clouds        1148\n",
       "few clouds               731\n",
       "moderate rain            562\n",
       "heavy intensity rain      60\n",
       "Name: count, dtype: int64"
      ]
     },
     "execution_count": 11,
     "metadata": {},
     "output_type": "execute_result"
    }
   ],
   "source": [
    "treino['weather_description'].value_counts()"
   ]
  },
  {
   "cell_type": "code",
   "execution_count": 12,
   "metadata": {},
   "outputs": [
    {
     "data": {
      "text/plain": [
       "8732"
      ]
     },
     "execution_count": 12,
     "metadata": {},
     "output_type": "execute_result"
    }
   ],
   "source": [
    "treino['rain_1h'].isna().sum()"
   ]
  },
  {
   "cell_type": "code",
   "execution_count": 13,
   "metadata": {},
   "outputs": [
    {
     "data": {
      "text/plain": [
       "weather_description\n",
       "sky is clear        3010\n",
       "overcast clouds     2430\n",
       "broken clouds       1413\n",
       "scattered clouds    1148\n",
       "few clouds           731\n",
       "Name: count, dtype: int64"
      ]
     },
     "execution_count": 13,
     "metadata": {},
     "output_type": "execute_result"
    }
   ],
   "source": [
    "treino[treino['rain_1h'].isnull()]['weather_description'].value_counts()"
   ]
  },
  {
   "cell_type": "code",
   "execution_count": 14,
   "metadata": {},
   "outputs": [
    {
     "data": {
      "text/plain": [
       "weather_description\n",
       "light rain              1662\n",
       "moderate rain            562\n",
       "heavy intensity rain      60\n",
       "Name: count, dtype: int64"
      ]
     },
     "execution_count": 14,
     "metadata": {},
     "output_type": "execute_result"
    }
   ],
   "source": [
    "treino[treino['rain_1h'].notnull()]['weather_description'].value_counts()"
   ]
  },
  {
   "cell_type": "markdown",
   "metadata": {},
   "source": [
    "When the feature \"rain_1h\" is a missing value, the values of the feature \"weather_description\" are one of the above, none of the values represent rain, so we can conclude that when the \"rain_1h\" is null it represents the value 0."
   ]
  },
  {
   "cell_type": "code",
   "execution_count": 15,
   "metadata": {},
   "outputs": [
    {
     "data": {
      "text/plain": [
       "city_name\n",
       "local    11016\n",
       "Name: count, dtype: int64"
      ]
     },
     "execution_count": 15,
     "metadata": {},
     "output_type": "execute_result"
    }
   ],
   "source": [
    "treino['city_name'].value_counts()"
   ]
  },
  {
   "cell_type": "code",
   "execution_count": 16,
   "metadata": {},
   "outputs": [
    {
     "data": {
      "text/plain": [
       "1"
      ]
     },
     "execution_count": 16,
     "metadata": {},
     "output_type": "execute_result"
    }
   ],
   "source": [
    "treino['city_name'].nunique()"
   ]
  },
  {
   "cell_type": "markdown",
   "metadata": {},
   "source": [
    "'city_name' is a useless column because it only has 1 value. "
   ]
  },
  {
   "cell_type": "code",
   "execution_count": 17,
   "metadata": {},
   "outputs": [
    {
     "data": {
      "text/plain": [
       "0"
      ]
     },
     "execution_count": 17,
     "metadata": {},
     "output_type": "execute_result"
    }
   ],
   "source": [
    "treino['dt_iso'].isna().sum()"
   ]
  },
  {
   "cell_type": "markdown",
   "metadata": {},
   "source": [
    "'dt_iso' has 0 missing values so it can replace the columns 'Data' and 'Hora' that have some missing values."
   ]
  },
  {
   "cell_type": "markdown",
   "metadata": {},
   "source": [
    "### Outlier detection"
   ]
  },
  {
   "cell_type": "markdown",
   "metadata": {},
   "source": [
    "Checking for outliers in the features: \"Normal (kWH)\", \"Horario Economico (kWh)\" and \"Autoconsumo (kWh)\". This information lets us decide which way we are going to handle the missing values in this features."
   ]
  },
  {
   "cell_type": "code",
   "execution_count": 18,
   "metadata": {},
   "outputs": [
    {
     "data": {
      "text/plain": [
       "<Axes: >"
      ]
     },
     "execution_count": 18,
     "metadata": {},
     "output_type": "execute_result"
    },
    {
     "data": {
      "image/png": "[encoded data removed]",
      "text/plain": [
       "<Figure size 640x480 with 1 Axes>"
      ]
     },
     "metadata": {},
     "output_type": "display_data"
    }
   ],
   "source": [
    "tc = treino.copy()\n",
    "columns_to_drop = ['Data', 'Hora', 'Injeçao na rede (kWh)', 'dt', 'dt_iso', 'city_name', 'temp' ,'feels_like', 'temp_min', 'temp_max', 'pressure', 'sea_level', 'grnd_level', 'humidity', 'wind_speed', 'rain_1h', 'clouds_all', 'weather_description']\n",
    "tc.drop(columns_to_drop, inplace=True, axis=1)\n",
    "tc.boxplot()"
   ]
  },
  {
   "cell_type": "markdown",
   "metadata": {},
   "source": [
    "All 3 features have outliers, the best way to treat their missing values is by using the median and not the mean."
   ]
  },
  {
   "cell_type": "code",
   "execution_count": 19,
   "metadata": {},
   "outputs": [
    {
     "data": {
      "text/plain": [
       "2377"
      ]
     },
     "execution_count": 19,
     "metadata": {},
     "output_type": "execute_result"
    }
   ],
   "source": [
    "columns = ['Normal (kWh)', 'Horario Economico (kWh)', 'Autoconsumo (kWh)', 'temp', 'feels_like',\n",
    "           'temp_min', 'temp_max', 'pressure', 'sea_level', 'grnd_level', 'humidity', 'wind_speed', 'rain_1h']\n",
    "\n",
    "# Function to detect outliers using IQR (Inter Quartile Range) \n",
    "def detect_outliers_iqr(column):\n",
    "    Q1 = column.quantile(0.25)\n",
    "    Q3 = column.quantile(0.75)\n",
    "    IQR = Q3 - Q1\n",
    "    lower_bound = Q1 - 1.5 * IQR\n",
    "    upper_bound = Q3 + 1.5 * IQR\n",
    "    outliers = (column < lower_bound) | (column > upper_bound)\n",
    "    return outliers\n",
    "\n",
    "# Detect outliers in each column of the DataFrame\n",
    "outliers = treino[columns].apply(detect_outliers_iqr)\n",
    "rows_with_outliers = outliers.any(axis=1)\n",
    "indexes_with_outliers = treino.index[rows_with_outliers].tolist()\n",
    "len(indexes_with_outliers)"
   ]
  },
  {
   "cell_type": "markdown",
   "metadata": {},
   "source": [
    "There are 2366 rows containing outliers in all the dataset."
   ]
  },
  {
   "cell_type": "code",
   "execution_count": 20,
   "metadata": {},
   "outputs": [
    {
     "data": {
      "text/plain": [
       "dt                            0\n",
       "dt_iso                        0\n",
       "city_name                     0\n",
       "temp                          0\n",
       "feels_like                    0\n",
       "temp_min                      0\n",
       "temp_max                      0\n",
       "pressure                      0\n",
       "sea_level                     0\n",
       "grnd_level                    0\n",
       "humidity                      0\n",
       "wind_speed                    0\n",
       "rain_1h                    8732\n",
       "clouds_all                    0\n",
       "weather_description           0\n",
       "Data                          0\n",
       "Hora                          0\n",
       "Normal (kWh)                  0\n",
       "Horario Economico (kWh)       0\n",
       "Autoconsumo (kWh)             0\n",
       "Injeçao na rede (kWh)         0\n",
       "dtype: int64"
      ]
     },
     "execution_count": 20,
     "metadata": {},
     "output_type": "execute_result"
    }
   ],
   "source": [
    "treino.isna().sum()"
   ]
  },
  {
   "cell_type": "code",
   "execution_count": 21,
   "metadata": {},
   "outputs": [
    {
     "data": {
      "text/plain": [
       "dt                          504\n",
       "dt_iso                        0\n",
       "city_name                   504\n",
       "temp                          0\n",
       "feels_like                    0\n",
       "temp_min                      0\n",
       "temp_max                      0\n",
       "pressure                    504\n",
       "sea_level                     0\n",
       "grnd_level                    0\n",
       "humidity                      0\n",
       "wind_speed                    0\n",
       "rain_1h                    2050\n",
       "clouds_all                    0\n",
       "weather_description         504\n",
       "Data                          0\n",
       "Hora                          0\n",
       "Normal (kWh)                  0\n",
       "Horario Economico (kWh)       0\n",
       "Autoconsumo (kWh)             0\n",
       "dtype: int64"
      ]
     },
     "execution_count": 21,
     "metadata": {},
     "output_type": "execute_result"
    }
   ],
   "source": [
    "teste.isna().sum()"
   ]
  },
  {
   "cell_type": "markdown",
   "metadata": {},
   "source": [
    "## Fase 2: Tratamento dos Dados"
   ]
  },
  {
   "cell_type": "markdown",
   "metadata": {},
   "source": [
    "The column 'city_name' only has 1 possible value so it is useless and must the removed from the dataset. "
   ]
  },
  {
   "cell_type": "code",
   "execution_count": 22,
   "metadata": {},
   "outputs": [],
   "source": [
    "treino.drop('city_name', inplace=True, axis=1)\n",
    "teste.drop('city_name', inplace=True, axis=1)"
   ]
  },
  {
   "cell_type": "markdown",
   "metadata": {},
   "source": [
    "Like it was stated before, the features 'sea_level' and 'grnd_level' have 100% missing value presence and so must be removed."
   ]
  },
  {
   "cell_type": "code",
   "execution_count": 23,
   "metadata": {},
   "outputs": [],
   "source": [
    "# treino.drop('sea_level', inplace=True, axis=1)\n",
    "# treino.drop('grnd_level', inplace=True, axis=1)\n",
    "#  \n",
    "# teste.drop('sea_level', inplace=True, axis=1)\n",
    "# teste.drop('grnd_level', inplace=True, axis=1)"
   ]
  },
  {
   "cell_type": "markdown",
   "metadata": {},
   "source": [
    "The column 'dt_iso' will replace the columns 'Data' and 'Hora'. The 'dt_iso' column is going to also be split into two new columns: 'Date' and 'Hour'."
   ]
  },
  {
   "cell_type": "code",
   "execution_count": 24,
   "metadata": {},
   "outputs": [
    {
     "data": {
      "text/html": [
       "<div>\n",
       "<style scoped>\n",
       "    .dataframe tbody tr th:only-of-type {\n",
       "        vertical-align: middle;\n",
       "    }\n",
       "\n",
       "    .dataframe tbody tr th {\n",
       "        vertical-align: top;\n",
       "    }\n",
       "\n",
       "    .dataframe thead th {\n",
       "        text-align: right;\n",
       "    }\n",
       "</style>\n",
       "<table border=\"1\" class=\"dataframe\">\n",
       "  <thead>\n",
       "    <tr style=\"text-align: right;\">\n",
       "      <th></th>\n",
       "      <th>dt</th>\n",
       "      <th>Date</th>\n",
       "      <th>Hour</th>\n",
       "      <th>temp</th>\n",
       "      <th>feels_like</th>\n",
       "      <th>temp_min</th>\n",
       "      <th>temp_max</th>\n",
       "      <th>pressure</th>\n",
       "      <th>sea_level</th>\n",
       "      <th>grnd_level</th>\n",
       "      <th>humidity</th>\n",
       "      <th>wind_speed</th>\n",
       "      <th>rain_1h</th>\n",
       "      <th>clouds_all</th>\n",
       "      <th>weather_description</th>\n",
       "      <th>Normal (kWh)</th>\n",
       "      <th>Horario Economico (kWh)</th>\n",
       "      <th>Autoconsumo (kWh)</th>\n",
       "      <th>Injeçao na rede (kWh)</th>\n",
       "    </tr>\n",
       "  </thead>\n",
       "  <tbody>\n",
       "    <tr>\n",
       "      <th>0</th>\n",
       "      <td>1632873600</td>\n",
       "      <td>2021-09-29</td>\n",
       "      <td>0</td>\n",
       "      <td>13.97</td>\n",
       "      <td>13.54</td>\n",
       "      <td>11.45</td>\n",
       "      <td>14.04</td>\n",
       "      <td>1027</td>\n",
       "      <td>1027.9</td>\n",
       "      <td>1004.4</td>\n",
       "      <td>81</td>\n",
       "      <td>1.96</td>\n",
       "      <td>NaN</td>\n",
       "      <td>87</td>\n",
       "      <td>overcast clouds</td>\n",
       "      <td>0.000</td>\n",
       "      <td>0.000</td>\n",
       "      <td>0.0</td>\n",
       "      <td>None</td>\n",
       "    </tr>\n",
       "    <tr>\n",
       "      <th>1</th>\n",
       "      <td>1632877200</td>\n",
       "      <td>2021-09-29</td>\n",
       "      <td>1</td>\n",
       "      <td>13.48</td>\n",
       "      <td>13.02</td>\n",
       "      <td>13.43</td>\n",
       "      <td>13.90</td>\n",
       "      <td>1028</td>\n",
       "      <td>1027.9</td>\n",
       "      <td>1004.4</td>\n",
       "      <td>82</td>\n",
       "      <td>1.83</td>\n",
       "      <td>NaN</td>\n",
       "      <td>91</td>\n",
       "      <td>overcast clouds</td>\n",
       "      <td>0.000</td>\n",
       "      <td>0.000</td>\n",
       "      <td>0.0</td>\n",
       "      <td>None</td>\n",
       "    </tr>\n",
       "    <tr>\n",
       "      <th>2</th>\n",
       "      <td>1632880800</td>\n",
       "      <td>2021-09-29</td>\n",
       "      <td>2</td>\n",
       "      <td>12.93</td>\n",
       "      <td>12.47</td>\n",
       "      <td>12.72</td>\n",
       "      <td>13.43</td>\n",
       "      <td>1027</td>\n",
       "      <td>1027.8</td>\n",
       "      <td>1004.3</td>\n",
       "      <td>84</td>\n",
       "      <td>1.96</td>\n",
       "      <td>NaN</td>\n",
       "      <td>93</td>\n",
       "      <td>overcast clouds</td>\n",
       "      <td>0.000</td>\n",
       "      <td>0.000</td>\n",
       "      <td>0.0</td>\n",
       "      <td>None</td>\n",
       "    </tr>\n",
       "    <tr>\n",
       "      <th>3</th>\n",
       "      <td>1632884400</td>\n",
       "      <td>2021-09-29</td>\n",
       "      <td>3</td>\n",
       "      <td>12.61</td>\n",
       "      <td>12.15</td>\n",
       "      <td>10.34</td>\n",
       "      <td>12.93</td>\n",
       "      <td>1027</td>\n",
       "      <td>1027.6</td>\n",
       "      <td>1004.1</td>\n",
       "      <td>85</td>\n",
       "      <td>1.85</td>\n",
       "      <td>NaN</td>\n",
       "      <td>95</td>\n",
       "      <td>overcast clouds</td>\n",
       "      <td>0.000</td>\n",
       "      <td>0.000</td>\n",
       "      <td>0.0</td>\n",
       "      <td>None</td>\n",
       "    </tr>\n",
       "    <tr>\n",
       "      <th>4</th>\n",
       "      <td>1632888000</td>\n",
       "      <td>2021-09-29</td>\n",
       "      <td>4</td>\n",
       "      <td>12.61</td>\n",
       "      <td>12.17</td>\n",
       "      <td>9.79</td>\n",
       "      <td>12.93</td>\n",
       "      <td>1027</td>\n",
       "      <td>1027.8</td>\n",
       "      <td>1004.3</td>\n",
       "      <td>86</td>\n",
       "      <td>1.83</td>\n",
       "      <td>NaN</td>\n",
       "      <td>93</td>\n",
       "      <td>overcast clouds</td>\n",
       "      <td>0.000</td>\n",
       "      <td>0.000</td>\n",
       "      <td>0.0</td>\n",
       "      <td>None</td>\n",
       "    </tr>\n",
       "    <tr>\n",
       "      <th>...</th>\n",
       "      <td>...</td>\n",
       "      <td>...</td>\n",
       "      <td>...</td>\n",
       "      <td>...</td>\n",
       "      <td>...</td>\n",
       "      <td>...</td>\n",
       "      <td>...</td>\n",
       "      <td>...</td>\n",
       "      <td>...</td>\n",
       "      <td>...</td>\n",
       "      <td>...</td>\n",
       "      <td>...</td>\n",
       "      <td>...</td>\n",
       "      <td>...</td>\n",
       "      <td>...</td>\n",
       "      <td>...</td>\n",
       "      <td>...</td>\n",
       "      <td>...</td>\n",
       "      <td>...</td>\n",
       "    </tr>\n",
       "    <tr>\n",
       "      <th>11011</th>\n",
       "      <td>1672513200</td>\n",
       "      <td>2022-12-31</td>\n",
       "      <td>19</td>\n",
       "      <td>15.70</td>\n",
       "      <td>15.57</td>\n",
       "      <td>15.57</td>\n",
       "      <td>15.72</td>\n",
       "      <td>1018</td>\n",
       "      <td>1018.4</td>\n",
       "      <td>995.3</td>\n",
       "      <td>86</td>\n",
       "      <td>5.56</td>\n",
       "      <td>3.58</td>\n",
       "      <td>100</td>\n",
       "      <td>moderate rain</td>\n",
       "      <td>1.693</td>\n",
       "      <td>0.000</td>\n",
       "      <td>0.0</td>\n",
       "      <td>None</td>\n",
       "    </tr>\n",
       "    <tr>\n",
       "      <th>11012</th>\n",
       "      <td>1672516800</td>\n",
       "      <td>2022-12-31</td>\n",
       "      <td>20</td>\n",
       "      <td>15.55</td>\n",
       "      <td>15.43</td>\n",
       "      <td>12.72</td>\n",
       "      <td>15.70</td>\n",
       "      <td>1018</td>\n",
       "      <td>1018.8</td>\n",
       "      <td>995.7</td>\n",
       "      <td>87</td>\n",
       "      <td>4.47</td>\n",
       "      <td>4.20</td>\n",
       "      <td>100</td>\n",
       "      <td>heavy intensity rain</td>\n",
       "      <td>1.327</td>\n",
       "      <td>0.000</td>\n",
       "      <td>0.0</td>\n",
       "      <td>None</td>\n",
       "    </tr>\n",
       "    <tr>\n",
       "      <th>11013</th>\n",
       "      <td>1672520400</td>\n",
       "      <td>2022-12-31</td>\n",
       "      <td>21</td>\n",
       "      <td>13.45</td>\n",
       "      <td>13.28</td>\n",
       "      <td>12.23</td>\n",
       "      <td>13.99</td>\n",
       "      <td>1019</td>\n",
       "      <td>1019.0</td>\n",
       "      <td>995.9</td>\n",
       "      <td>93</td>\n",
       "      <td>3.29</td>\n",
       "      <td>4.23</td>\n",
       "      <td>100</td>\n",
       "      <td>heavy intensity rain</td>\n",
       "      <td>0.757</td>\n",
       "      <td>0.000</td>\n",
       "      <td>0.0</td>\n",
       "      <td>None</td>\n",
       "    </tr>\n",
       "    <tr>\n",
       "      <th>11014</th>\n",
       "      <td>1672524000</td>\n",
       "      <td>2022-12-31</td>\n",
       "      <td>22</td>\n",
       "      <td>12.93</td>\n",
       "      <td>12.73</td>\n",
       "      <td>12.23</td>\n",
       "      <td>13.43</td>\n",
       "      <td>1019</td>\n",
       "      <td>1019.0</td>\n",
       "      <td>995.9</td>\n",
       "      <td>94</td>\n",
       "      <td>1.49</td>\n",
       "      <td>3.90</td>\n",
       "      <td>100</td>\n",
       "      <td>moderate rain</td>\n",
       "      <td>0.000</td>\n",
       "      <td>0.675</td>\n",
       "      <td>0.0</td>\n",
       "      <td>None</td>\n",
       "    </tr>\n",
       "    <tr>\n",
       "      <th>11015</th>\n",
       "      <td>1672527600</td>\n",
       "      <td>2022-12-31</td>\n",
       "      <td>23</td>\n",
       "      <td>12.93</td>\n",
       "      <td>12.76</td>\n",
       "      <td>12.23</td>\n",
       "      <td>13.43</td>\n",
       "      <td>1019</td>\n",
       "      <td>1018.8</td>\n",
       "      <td>995.7</td>\n",
       "      <td>95</td>\n",
       "      <td>1.93</td>\n",
       "      <td>4.07</td>\n",
       "      <td>100</td>\n",
       "      <td>heavy intensity rain</td>\n",
       "      <td>0.000</td>\n",
       "      <td>0.403</td>\n",
       "      <td>0.0</td>\n",
       "      <td>None</td>\n",
       "    </tr>\n",
       "  </tbody>\n",
       "</table>\n",
       "<p>11016 rows × 19 columns</p>\n",
       "</div>"
      ],
      "text/plain": [
       "               dt        Date  Hour   temp  feels_like  temp_min  temp_max  \\\n",
       "0      1632873600  2021-09-29     0  13.97       13.54     11.45     14.04   \n",
       "1      1632877200  2021-09-29     1  13.48       13.02     13.43     13.90   \n",
       "2      1632880800  2021-09-29     2  12.93       12.47     12.72     13.43   \n",
       "3      1632884400  2021-09-29     3  12.61       12.15     10.34     12.93   \n",
       "4      1632888000  2021-09-29     4  12.61       12.17      9.79     12.93   \n",
       "...           ...         ...   ...    ...         ...       ...       ...   \n",
       "11011  1672513200  2022-12-31    19  15.70       15.57     15.57     15.72   \n",
       "11012  1672516800  2022-12-31    20  15.55       15.43     12.72     15.70   \n",
       "11013  1672520400  2022-12-31    21  13.45       13.28     12.23     13.99   \n",
       "11014  1672524000  2022-12-31    22  12.93       12.73     12.23     13.43   \n",
       "11015  1672527600  2022-12-31    23  12.93       12.76     12.23     13.43   \n",
       "\n",
       "       pressure  sea_level  grnd_level  humidity  wind_speed  rain_1h  \\\n",
       "0          1027     1027.9      1004.4        81        1.96      NaN   \n",
       "1          1028     1027.9      1004.4        82        1.83      NaN   \n",
       "2          1027     1027.8      1004.3        84        1.96      NaN   \n",
       "3          1027     1027.6      1004.1        85        1.85      NaN   \n",
       "4          1027     1027.8      1004.3        86        1.83      NaN   \n",
       "...         ...        ...         ...       ...         ...      ...   \n",
       "11011      1018     1018.4       995.3        86        5.56     3.58   \n",
       "11012      1018     1018.8       995.7        87        4.47     4.20   \n",
       "11013      1019     1019.0       995.9        93        3.29     4.23   \n",
       "11014      1019     1019.0       995.9        94        1.49     3.90   \n",
       "11015      1019     1018.8       995.7        95        1.93     4.07   \n",
       "\n",
       "       clouds_all   weather_description  Normal (kWh)  \\\n",
       "0              87       overcast clouds         0.000   \n",
       "1              91       overcast clouds         0.000   \n",
       "2              93       overcast clouds         0.000   \n",
       "3              95       overcast clouds         0.000   \n",
       "4              93       overcast clouds         0.000   \n",
       "...           ...                   ...           ...   \n",
       "11011         100         moderate rain         1.693   \n",
       "11012         100  heavy intensity rain         1.327   \n",
       "11013         100  heavy intensity rain         0.757   \n",
       "11014         100         moderate rain         0.000   \n",
       "11015         100  heavy intensity rain         0.000   \n",
       "\n",
       "       Horario Economico (kWh)  Autoconsumo (kWh) Injeçao na rede (kWh)  \n",
       "0                        0.000                0.0                  None  \n",
       "1                        0.000                0.0                  None  \n",
       "2                        0.000                0.0                  None  \n",
       "3                        0.000                0.0                  None  \n",
       "4                        0.000                0.0                  None  \n",
       "...                        ...                ...                   ...  \n",
       "11011                    0.000                0.0                  None  \n",
       "11012                    0.000                0.0                  None  \n",
       "11013                    0.000                0.0                  None  \n",
       "11014                    0.675                0.0                  None  \n",
       "11015                    0.403                0.0                  None  \n",
       "\n",
       "[11016 rows x 19 columns]"
      ]
     },
     "execution_count": 24,
     "metadata": {},
     "output_type": "execute_result"
    }
   ],
   "source": [
    "def toDate(d):\n",
    "    return re.search(r'\\d+\\-\\d+\\-\\d+', d).group()\n",
    "\n",
    "def toHour(h):\n",
    "    return re.search(r'(\\d+)\\:\\d+\\:\\d+', h).group(1)\n",
    "\n",
    "treino.drop('Data', inplace=True, axis=1)\n",
    "treino.drop('Hora', inplace=True, axis=1)\n",
    "hour = treino['dt_iso']\n",
    "treino.insert(0, 'Hour', hour)\n",
    "treino.rename(columns = {'dt_iso':'Date'}, inplace = True)\n",
    "\n",
    "dates = treino['Date'].apply(toDate)\n",
    "treino['Date'] = dates\n",
    "hours = treino['Hour'].apply(toHour)\n",
    "treino['Hour'] = hours\n",
    "treino['Hour'] = treino['Hour'].astype(int)\n",
    "\n",
    "dates = treino.pop('Date') \n",
    "treino.insert(0, 'Date', dates) \n",
    "dts = treino.pop('dt') \n",
    "treino.insert(0, 'dt', dts)\n",
    "treino"
   ]
  },
  {
   "cell_type": "markdown",
   "metadata": {},
   "source": [
    "For the \"teste\" dataset, we use the columns \"Data\" e \"Hora\" to replace the missing values from the \"dt_iso\" column, basically we do the opposite of the \"treino\" dataset."
   ]
  },
  {
   "cell_type": "code",
   "execution_count": 25,
   "metadata": {},
   "outputs": [
    {
     "data": {
      "text/html": [
       "<div>\n",
       "<style scoped>\n",
       "    .dataframe tbody tr th:only-of-type {\n",
       "        vertical-align: middle;\n",
       "    }\n",
       "\n",
       "    .dataframe tbody tr th {\n",
       "        vertical-align: top;\n",
       "    }\n",
       "\n",
       "    .dataframe thead th {\n",
       "        text-align: right;\n",
       "    }\n",
       "</style>\n",
       "<table border=\"1\" class=\"dataframe\">\n",
       "  <thead>\n",
       "    <tr style=\"text-align: right;\">\n",
       "      <th></th>\n",
       "      <th>dt</th>\n",
       "      <th>temp</th>\n",
       "      <th>feels_like</th>\n",
       "      <th>temp_min</th>\n",
       "      <th>temp_max</th>\n",
       "      <th>pressure</th>\n",
       "      <th>sea_level</th>\n",
       "      <th>grnd_level</th>\n",
       "      <th>humidity</th>\n",
       "      <th>wind_speed</th>\n",
       "      <th>rain_1h</th>\n",
       "      <th>clouds_all</th>\n",
       "      <th>weather_description</th>\n",
       "      <th>Date</th>\n",
       "      <th>Hour</th>\n",
       "      <th>Normal (kWh)</th>\n",
       "      <th>Horario Economico (kWh)</th>\n",
       "      <th>Autoconsumo (kWh)</th>\n",
       "    </tr>\n",
       "  </thead>\n",
       "  <tbody>\n",
       "    <tr>\n",
       "      <th>0</th>\n",
       "      <td>1.672531e+09</td>\n",
       "      <td>12.93</td>\n",
       "      <td>12.76</td>\n",
       "      <td>12.72</td>\n",
       "      <td>13.43</td>\n",
       "      <td>1019.0</td>\n",
       "      <td>1019.0</td>\n",
       "      <td>995.8</td>\n",
       "      <td>95</td>\n",
       "      <td>2.02</td>\n",
       "      <td>3.72</td>\n",
       "      <td>100.0</td>\n",
       "      <td>moderate rain</td>\n",
       "      <td>2023-01-01</td>\n",
       "      <td>0</td>\n",
       "      <td>0.000</td>\n",
       "      <td>0.467</td>\n",
       "      <td>0.000</td>\n",
       "    </tr>\n",
       "    <tr>\n",
       "      <th>1</th>\n",
       "      <td>1.672535e+09</td>\n",
       "      <td>13.49</td>\n",
       "      <td>13.38</td>\n",
       "      <td>13.43</td>\n",
       "      <td>13.90</td>\n",
       "      <td>1018.0</td>\n",
       "      <td>1018.1</td>\n",
       "      <td>994.9</td>\n",
       "      <td>95</td>\n",
       "      <td>2.18</td>\n",
       "      <td>3.26</td>\n",
       "      <td>100.0</td>\n",
       "      <td>moderate rain</td>\n",
       "      <td>2023-01-01</td>\n",
       "      <td>1</td>\n",
       "      <td>0.000</td>\n",
       "      <td>0.577</td>\n",
       "      <td>0.000</td>\n",
       "    </tr>\n",
       "    <tr>\n",
       "      <th>2</th>\n",
       "      <td>1.672538e+09</td>\n",
       "      <td>13.55</td>\n",
       "      <td>13.44</td>\n",
       "      <td>13.48</td>\n",
       "      <td>14.82</td>\n",
       "      <td>1017.0</td>\n",
       "      <td>1016.8</td>\n",
       "      <td>993.7</td>\n",
       "      <td>95</td>\n",
       "      <td>2.88</td>\n",
       "      <td>2.44</td>\n",
       "      <td>100.0</td>\n",
       "      <td>moderate rain</td>\n",
       "      <td>2023-01-01</td>\n",
       "      <td>2</td>\n",
       "      <td>0.000</td>\n",
       "      <td>0.346</td>\n",
       "      <td>0.000</td>\n",
       "    </tr>\n",
       "    <tr>\n",
       "      <th>3</th>\n",
       "      <td>1.672542e+09</td>\n",
       "      <td>13.61</td>\n",
       "      <td>13.51</td>\n",
       "      <td>12.01</td>\n",
       "      <td>14.82</td>\n",
       "      <td>1016.0</td>\n",
       "      <td>1016.2</td>\n",
       "      <td>993.1</td>\n",
       "      <td>95</td>\n",
       "      <td>3.63</td>\n",
       "      <td>1.74</td>\n",
       "      <td>100.0</td>\n",
       "      <td>moderate rain</td>\n",
       "      <td>2023-01-01</td>\n",
       "      <td>3</td>\n",
       "      <td>0.000</td>\n",
       "      <td>0.270</td>\n",
       "      <td>0.000</td>\n",
       "    </tr>\n",
       "    <tr>\n",
       "      <th>4</th>\n",
       "      <td>1.672546e+09</td>\n",
       "      <td>13.59</td>\n",
       "      <td>13.49</td>\n",
       "      <td>12.01</td>\n",
       "      <td>14.82</td>\n",
       "      <td>1015.0</td>\n",
       "      <td>1015.3</td>\n",
       "      <td>992.3</td>\n",
       "      <td>95</td>\n",
       "      <td>4.58</td>\n",
       "      <td>1.13</td>\n",
       "      <td>100.0</td>\n",
       "      <td>moderate rain</td>\n",
       "      <td>2023-01-01</td>\n",
       "      <td>4</td>\n",
       "      <td>0.000</td>\n",
       "      <td>0.252</td>\n",
       "      <td>0.000</td>\n",
       "    </tr>\n",
       "    <tr>\n",
       "      <th>...</th>\n",
       "      <td>...</td>\n",
       "      <td>...</td>\n",
       "      <td>...</td>\n",
       "      <td>...</td>\n",
       "      <td>...</td>\n",
       "      <td>...</td>\n",
       "      <td>...</td>\n",
       "      <td>...</td>\n",
       "      <td>...</td>\n",
       "      <td>...</td>\n",
       "      <td>...</td>\n",
       "      <td>...</td>\n",
       "      <td>...</td>\n",
       "      <td>...</td>\n",
       "      <td>...</td>\n",
       "      <td>...</td>\n",
       "      <td>...</td>\n",
       "      <td>...</td>\n",
       "    </tr>\n",
       "    <tr>\n",
       "      <th>2251</th>\n",
       "      <td>NaN</td>\n",
       "      <td>20.10</td>\n",
       "      <td>18.10</td>\n",
       "      <td>3.60</td>\n",
       "      <td>20.40</td>\n",
       "      <td>NaN</td>\n",
       "      <td>1015.1</td>\n",
       "      <td>992.6</td>\n",
       "      <td>35</td>\n",
       "      <td>1.20</td>\n",
       "      <td>NaN</td>\n",
       "      <td>0.0</td>\n",
       "      <td>NaN</td>\n",
       "      <td>2023-04-04</td>\n",
       "      <td>19</td>\n",
       "      <td>0.953</td>\n",
       "      <td>0.000</td>\n",
       "      <td>0.012</td>\n",
       "    </tr>\n",
       "    <tr>\n",
       "      <th>2252</th>\n",
       "      <td>NaN</td>\n",
       "      <td>13.60</td>\n",
       "      <td>11.50</td>\n",
       "      <td>3.60</td>\n",
       "      <td>20.40</td>\n",
       "      <td>NaN</td>\n",
       "      <td>1016.1</td>\n",
       "      <td>993.1</td>\n",
       "      <td>63</td>\n",
       "      <td>2.47</td>\n",
       "      <td>NaN</td>\n",
       "      <td>0.0</td>\n",
       "      <td>NaN</td>\n",
       "      <td>2023-04-04</td>\n",
       "      <td>20</td>\n",
       "      <td>0.915</td>\n",
       "      <td>0.000</td>\n",
       "      <td>0.000</td>\n",
       "    </tr>\n",
       "    <tr>\n",
       "      <th>2253</th>\n",
       "      <td>NaN</td>\n",
       "      <td>12.60</td>\n",
       "      <td>10.60</td>\n",
       "      <td>3.60</td>\n",
       "      <td>20.40</td>\n",
       "      <td>NaN</td>\n",
       "      <td>1017.0</td>\n",
       "      <td>993.9</td>\n",
       "      <td>67</td>\n",
       "      <td>2.22</td>\n",
       "      <td>NaN</td>\n",
       "      <td>2.0</td>\n",
       "      <td>NaN</td>\n",
       "      <td>2023-04-04</td>\n",
       "      <td>21</td>\n",
       "      <td>0.479</td>\n",
       "      <td>0.000</td>\n",
       "      <td>0.000</td>\n",
       "    </tr>\n",
       "    <tr>\n",
       "      <th>2254</th>\n",
       "      <td>NaN</td>\n",
       "      <td>11.70</td>\n",
       "      <td>9.50</td>\n",
       "      <td>3.60</td>\n",
       "      <td>20.40</td>\n",
       "      <td>NaN</td>\n",
       "      <td>1017.5</td>\n",
       "      <td>994.3</td>\n",
       "      <td>68</td>\n",
       "      <td>2.41</td>\n",
       "      <td>NaN</td>\n",
       "      <td>1.0</td>\n",
       "      <td>NaN</td>\n",
       "      <td>2023-04-04</td>\n",
       "      <td>22</td>\n",
       "      <td>0.000</td>\n",
       "      <td>0.497</td>\n",
       "      <td>0.000</td>\n",
       "    </tr>\n",
       "    <tr>\n",
       "      <th>2255</th>\n",
       "      <td>NaN</td>\n",
       "      <td>9.70</td>\n",
       "      <td>7.50</td>\n",
       "      <td>3.60</td>\n",
       "      <td>20.40</td>\n",
       "      <td>NaN</td>\n",
       "      <td>1017.9</td>\n",
       "      <td>994.5</td>\n",
       "      <td>77</td>\n",
       "      <td>2.24</td>\n",
       "      <td>NaN</td>\n",
       "      <td>0.0</td>\n",
       "      <td>NaN</td>\n",
       "      <td>2023-04-04</td>\n",
       "      <td>23</td>\n",
       "      <td>0.000</td>\n",
       "      <td>0.487</td>\n",
       "      <td>0.000</td>\n",
       "    </tr>\n",
       "  </tbody>\n",
       "</table>\n",
       "<p>2256 rows × 18 columns</p>\n",
       "</div>"
      ],
      "text/plain": [
       "                dt   temp  feels_like  temp_min  temp_max  pressure  \\\n",
       "0     1.672531e+09  12.93       12.76     12.72     13.43    1019.0   \n",
       "1     1.672535e+09  13.49       13.38     13.43     13.90    1018.0   \n",
       "2     1.672538e+09  13.55       13.44     13.48     14.82    1017.0   \n",
       "3     1.672542e+09  13.61       13.51     12.01     14.82    1016.0   \n",
       "4     1.672546e+09  13.59       13.49     12.01     14.82    1015.0   \n",
       "...            ...    ...         ...       ...       ...       ...   \n",
       "2251           NaN  20.10       18.10      3.60     20.40       NaN   \n",
       "2252           NaN  13.60       11.50      3.60     20.40       NaN   \n",
       "2253           NaN  12.60       10.60      3.60     20.40       NaN   \n",
       "2254           NaN  11.70        9.50      3.60     20.40       NaN   \n",
       "2255           NaN   9.70        7.50      3.60     20.40       NaN   \n",
       "\n",
       "      sea_level  grnd_level  humidity  wind_speed  rain_1h  clouds_all  \\\n",
       "0        1019.0       995.8        95        2.02     3.72       100.0   \n",
       "1        1018.1       994.9        95        2.18     3.26       100.0   \n",
       "2        1016.8       993.7        95        2.88     2.44       100.0   \n",
       "3        1016.2       993.1        95        3.63     1.74       100.0   \n",
       "4        1015.3       992.3        95        4.58     1.13       100.0   \n",
       "...         ...         ...       ...         ...      ...         ...   \n",
       "2251     1015.1       992.6        35        1.20      NaN         0.0   \n",
       "2252     1016.1       993.1        63        2.47      NaN         0.0   \n",
       "2253     1017.0       993.9        67        2.22      NaN         2.0   \n",
       "2254     1017.5       994.3        68        2.41      NaN         1.0   \n",
       "2255     1017.9       994.5        77        2.24      NaN         0.0   \n",
       "\n",
       "     weather_description        Date  Hour  Normal (kWh)  \\\n",
       "0          moderate rain  2023-01-01     0         0.000   \n",
       "1          moderate rain  2023-01-01     1         0.000   \n",
       "2          moderate rain  2023-01-01     2         0.000   \n",
       "3          moderate rain  2023-01-01     3         0.000   \n",
       "4          moderate rain  2023-01-01     4         0.000   \n",
       "...                  ...         ...   ...           ...   \n",
       "2251                 NaN  2023-04-04    19         0.953   \n",
       "2252                 NaN  2023-04-04    20         0.915   \n",
       "2253                 NaN  2023-04-04    21         0.479   \n",
       "2254                 NaN  2023-04-04    22         0.000   \n",
       "2255                 NaN  2023-04-04    23         0.000   \n",
       "\n",
       "      Horario Economico (kWh)  Autoconsumo (kWh)  \n",
       "0                       0.467              0.000  \n",
       "1                       0.577              0.000  \n",
       "2                       0.346              0.000  \n",
       "3                       0.270              0.000  \n",
       "4                       0.252              0.000  \n",
       "...                       ...                ...  \n",
       "2251                    0.000              0.012  \n",
       "2252                    0.000              0.000  \n",
       "2253                    0.000              0.000  \n",
       "2254                    0.497              0.000  \n",
       "2255                    0.487              0.000  \n",
       "\n",
       "[2256 rows x 18 columns]"
      ]
     },
     "execution_count": 25,
     "metadata": {},
     "output_type": "execute_result"
    }
   ],
   "source": [
    "teste.drop('dt_iso', inplace=True, axis=1)\n",
    "teste.rename(columns = {'Data':'Date'}, inplace = True)\n",
    "teste.rename(columns = {'Hora':'Hour'}, inplace = True)\n",
    "teste['Hour'] = teste['Hour'].astype(int)\n",
    "\n",
    "dts = teste.pop('dt') \n",
    "teste.insert(0, 'dt', dts)\n",
    "teste"
   ]
  },
  {
   "cell_type": "markdown",
   "metadata": {},
   "source": [
    "The \"dt\" column is a timestamp (an id for the time), and so it is useless and must be removed"
   ]
  },
  {
   "cell_type": "code",
   "execution_count": 26,
   "metadata": {},
   "outputs": [],
   "source": [
    "treino.drop('dt', inplace=True, axis=1)\n",
    "teste.drop('dt', inplace=True, axis=1)"
   ]
  },
  {
   "cell_type": "markdown",
   "metadata": {},
   "source": [
    "Another 2 columns that we can create are the column 'Month', representing the current month of the instance, and the column 'Season', representing the current season of the instance."
   ]
  },
  {
   "cell_type": "code",
   "execution_count": 27,
   "metadata": {},
   "outputs": [],
   "source": [
    "monthsL = ['January', 'February', 'March', 'April', 'May', 'June', 'July', 'August', 'September', 'October', 'November', 'December']\n",
    "\n",
    "def toMonth(m):\n",
    "    return monthsL[int(re.search(r'\\-(\\d+)\\-', m).group(1))-1]\n",
    "\n",
    "def toSeason(s):\n",
    "    m = int(re.search(r'\\-(\\d+)\\-', s).group(1))\n",
    "    if m >= 3 and m <= 5:\n",
    "        return 'Spring'\n",
    "    if m >= 6 and m <= 8:\n",
    "        return 'Summer'\n",
    "    if m >= 9 and m <= 11:\n",
    "        return 'Autumn'\n",
    "    if (m >= 1 and m <= 2) or m == 12:\n",
    "        return 'Winter'\n",
    "\n",
    "# Treino\n",
    "months = treino['Date'].apply(toMonth)\n",
    "seasons = treino['Date'].apply(toSeason)\n",
    "\n",
    "treino.insert(2, 'Season', seasons)\n",
    "treino.insert(3, 'Month', months)\n",
    "\n",
    "# Teste\n",
    "months = teste['Date'].apply(toMonth)\n",
    "seasons = teste['Date'].apply(toSeason)\n",
    "\n",
    "teste.insert(2, 'Season', seasons)\n",
    "teste.insert(3, 'Month', months)"
   ]
  },
  {
   "cell_type": "code",
   "execution_count": 28,
   "metadata": {},
   "outputs": [
    {
     "data": {
      "text/plain": [
       "(8639, 20)"
      ]
     },
     "execution_count": 28,
     "metadata": {},
     "output_type": "execute_result"
    }
   ],
   "source": [
    "# Remoção das linhas com outliers\n",
    "treino.drop(indexes_with_outliers, inplace=True)\n",
    "treino.shape"
   ]
  },
  {
   "cell_type": "markdown",
   "metadata": {},
   "source": [
    "Filling the \"rain_1h\" missing values with the value 0."
   ]
  },
  {
   "cell_type": "code",
   "execution_count": 29,
   "metadata": {},
   "outputs": [],
   "source": [
    "treino['rain_1h'] = treino['rain_1h'].fillna(0)\n",
    "teste['rain_1h'] = teste['rain_1h'].fillna(0)"
   ]
  },
  {
   "cell_type": "markdown",
   "metadata": {},
   "source": [
    "The feature \"weather_description\" in the \"teste\" dataset has 504 entries with missing values. For now, we will use the mode to treat this missing values"
   ]
  },
  {
   "cell_type": "code",
   "execution_count": 30,
   "metadata": {},
   "outputs": [
    {
     "data": {
      "text/plain": [
       "array(['sky is clear', 'sky is clear', 'light rain', 'light rain',\n",
       "       'light rain', 'light rain', 'light rain', 'light rain',\n",
       "       'light rain', 'light rain', 'light rain', 'light rain',\n",
       "       'light rain', 'light rain', 'light rain', 'light rain',\n",
       "       'light rain', 'light rain', 'light rain', 'light rain',\n",
       "       'light rain', 'light rain', 'scattered clouds', 'scattered clouds',\n",
       "       'scattered clouds', 'scattered clouds', 'scattered clouds',\n",
       "       'scattered clouds', 'scattered clouds', 'scattered clouds',\n",
       "       'scattered clouds', 'scattered clouds', 'scattered clouds',\n",
       "       'scattered clouds', 'scattered clouds', 'scattered clouds',\n",
       "       'light rain', 'light rain', 'broken clouds', 'light rain',\n",
       "       'light rain', 'light rain', 'light rain', 'light rain',\n",
       "       'light rain', 'light rain', 'light rain', 'light rain',\n",
       "       'scattered clouds', 'light rain', 'light rain', 'light rain',\n",
       "       'light rain', 'light rain', 'light rain', 'light rain',\n",
       "       'light rain', 'light rain', 'overcast clouds', 'light rain',\n",
       "       'scattered clouds', 'broken clouds', 'broken clouds', 'light rain',\n",
       "       'broken clouds', 'scattered clouds', 'scattered clouds',\n",
       "       'broken clouds', 'broken clouds', 'broken clouds',\n",
       "       'scattered clouds', 'light rain', 'overcast clouds',\n",
       "       'overcast clouds', 'light rain', 'light rain', 'light rain',\n",
       "       'overcast clouds', 'overcast clouds', 'overcast clouds',\n",
       "       'light rain', 'overcast clouds', 'overcast clouds',\n",
       "       'overcast clouds', 'overcast clouds', 'scattered clouds',\n",
       "       'scattered clouds', 'light rain', 'broken clouds',\n",
       "       'scattered clouds', 'scattered clouds', 'few clouds', 'few clouds',\n",
       "       'scattered clouds', 'scattered clouds', 'sky is clear',\n",
       "       'scattered clouds', 'scattered clouds', 'scattered clouds',\n",
       "       'scattered clouds', 'scattered clouds', 'scattered clouds',\n",
       "       'scattered clouds', 'light rain', 'light rain', 'light rain',\n",
       "       'scattered clouds', 'scattered clouds', 'scattered clouds',\n",
       "       'scattered clouds', 'scattered clouds', 'scattered clouds',\n",
       "       'scattered clouds', 'scattered clouds', 'light rain',\n",
       "       'scattered clouds', 'few clouds', 'light rain', 'sky is clear',\n",
       "       'sky is clear', 'scattered clouds', 'few clouds',\n",
       "       'scattered clouds', 'scattered clouds', 'scattered clouds',\n",
       "       'scattered clouds', 'scattered clouds', 'scattered clouds',\n",
       "       'scattered clouds', 'scattered clouds', 'scattered clouds',\n",
       "       'scattered clouds', 'scattered clouds', 'scattered clouds',\n",
       "       'scattered clouds', 'light rain', 'light rain', 'light rain',\n",
       "       'light rain', 'light rain', 'light rain', 'few clouds',\n",
       "       'few clouds', 'scattered clouds', 'light rain', 'overcast clouds',\n",
       "       'overcast clouds', 'overcast clouds', 'overcast clouds',\n",
       "       'overcast clouds', 'overcast clouds', 'overcast clouds',\n",
       "       'overcast clouds', 'scattered clouds', 'scattered clouds',\n",
       "       'scattered clouds', 'light rain', 'scattered clouds',\n",
       "       'scattered clouds', 'few clouds', 'few clouds', 'scattered clouds',\n",
       "       'few clouds', 'scattered clouds', 'scattered clouds',\n",
       "       'scattered clouds', 'scattered clouds', 'scattered clouds',\n",
       "       'scattered clouds', 'light rain', 'light rain', 'overcast clouds',\n",
       "       'overcast clouds', 'overcast clouds', 'overcast clouds',\n",
       "       'overcast clouds', 'light rain', 'overcast clouds', 'light rain',\n",
       "       'light rain', 'light rain', 'light rain', 'light rain',\n",
       "       'light rain', 'light rain', 'light rain', 'overcast clouds',\n",
       "       'overcast clouds', 'light rain', 'light rain', 'light rain',\n",
       "       'light rain', 'light rain', 'light rain', 'light rain',\n",
       "       'light rain', 'light rain', 'light rain', 'light rain',\n",
       "       'light rain', 'overcast clouds', 'light rain', 'light rain',\n",
       "       'light rain', 'light rain', 'light rain', 'light rain',\n",
       "       'light rain', 'light rain', 'light rain', 'light rain',\n",
       "       'light rain', 'light rain', 'light rain', 'light rain',\n",
       "       'light rain', 'light rain', 'light rain', 'light rain',\n",
       "       'light rain', 'light rain', 'overcast clouds', 'overcast clouds',\n",
       "       'overcast clouds', 'scattered clouds', 'few clouds',\n",
       "       'scattered clouds', 'few clouds', 'few clouds', 'few clouds',\n",
       "       'light rain', 'light rain', 'light rain', 'light rain',\n",
       "       'light rain', 'light rain', 'light rain', 'light rain',\n",
       "       'sky is clear', 'sky is clear', 'sky is clear', 'scattered clouds',\n",
       "       'few clouds', 'scattered clouds', 'light rain', 'overcast clouds',\n",
       "       'light rain', 'overcast clouds', 'broken clouds',\n",
       "       'scattered clouds', 'broken clouds', 'overcast clouds',\n",
       "       'overcast clouds', 'overcast clouds', 'overcast clouds',\n",
       "       'overcast clouds', 'light rain', 'light rain', 'overcast clouds',\n",
       "       'overcast clouds', 'overcast clouds', 'overcast clouds',\n",
       "       'overcast clouds', 'scattered clouds', 'light rain',\n",
       "       'scattered clouds', 'light rain', 'light rain', 'light rain',\n",
       "       'light rain', 'few clouds', 'scattered clouds', 'broken clouds',\n",
       "       'scattered clouds', 'scattered clouds', 'broken clouds',\n",
       "       'broken clouds', 'scattered clouds', 'few clouds',\n",
       "       'scattered clouds', 'few clouds', 'light rain', 'light rain',\n",
       "       'light rain', 'light rain', 'few clouds', 'few clouds',\n",
       "       'scattered clouds', 'scattered clouds', 'few clouds',\n",
       "       'sky is clear', 'light rain', 'light rain', 'light rain',\n",
       "       'light rain', 'sky is clear', 'light rain', 'light rain',\n",
       "       'light rain', 'light rain', 'light rain', 'light rain',\n",
       "       'light rain', 'light rain', 'few clouds', 'scattered clouds',\n",
       "       'scattered clouds', 'scattered clouds', 'scattered clouds',\n",
       "       'scattered clouds', 'scattered clouds', 'few clouds', 'light rain',\n",
       "       'light rain', 'sky is clear', 'scattered clouds',\n",
       "       'scattered clouds', 'light rain', 'few clouds', 'few clouds',\n",
       "       'few clouds', 'scattered clouds', 'scattered clouds',\n",
       "       'scattered clouds', 'scattered clouds', 'broken clouds',\n",
       "       'broken clouds', 'scattered clouds', 'light rain', 'light rain',\n",
       "       'light rain', 'light rain', 'few clouds', 'light rain',\n",
       "       'scattered clouds', 'broken clouds', 'broken clouds',\n",
       "       'scattered clouds', 'scattered clouds', 'broken clouds',\n",
       "       'broken clouds', 'overcast clouds', 'broken clouds',\n",
       "       'overcast clouds', 'broken clouds', 'broken clouds',\n",
       "       'broken clouds', 'broken clouds', 'scattered clouds',\n",
       "       'scattered clouds', 'scattered clouds', 'light rain', 'light rain',\n",
       "       'overcast clouds', 'overcast clouds', 'overcast clouds',\n",
       "       'broken clouds', 'overcast clouds', 'light rain',\n",
       "       'overcast clouds', 'overcast clouds', 'overcast clouds',\n",
       "       'light rain', 'light rain', 'overcast clouds', 'overcast clouds',\n",
       "       'overcast clouds', 'overcast clouds', 'overcast clouds',\n",
       "       'broken clouds', 'broken clouds', 'overcast clouds',\n",
       "       'overcast clouds', 'overcast clouds', 'overcast clouds',\n",
       "       'overcast clouds', 'overcast clouds', 'overcast clouds',\n",
       "       'overcast clouds', 'light rain', 'overcast clouds',\n",
       "       'overcast clouds', 'overcast clouds', 'overcast clouds',\n",
       "       'overcast clouds', 'overcast clouds', 'overcast clouds',\n",
       "       'overcast clouds', 'overcast clouds', 'overcast clouds',\n",
       "       'overcast clouds', 'overcast clouds', 'overcast clouds',\n",
       "       'overcast clouds', 'broken clouds', 'overcast clouds',\n",
       "       'overcast clouds', 'overcast clouds', 'overcast clouds',\n",
       "       'overcast clouds', 'broken clouds', 'broken clouds',\n",
       "       'broken clouds', 'few clouds', 'scattered clouds',\n",
       "       'scattered clouds', 'light rain', 'overcast clouds',\n",
       "       'overcast clouds', 'overcast clouds', 'overcast clouds',\n",
       "       'light rain', 'light rain', 'overcast clouds', 'overcast clouds',\n",
       "       'overcast clouds', 'overcast clouds', 'light rain', 'light rain',\n",
       "       'overcast clouds', 'overcast clouds', 'overcast clouds',\n",
       "       'overcast clouds', 'overcast clouds', 'overcast clouds',\n",
       "       'few clouds', 'light rain', 'light rain', 'light rain',\n",
       "       'light rain', 'sky is clear', 'light rain', 'sky is clear',\n",
       "       'light rain', 'few clouds', 'scattered clouds', 'scattered clouds',\n",
       "       'light rain', 'light rain', 'light rain', 'light rain',\n",
       "       'light rain', 'light rain', 'light rain', 'light rain',\n",
       "       'light rain', 'scattered clouds', 'scattered clouds',\n",
       "       'scattered clouds', 'scattered clouds', 'scattered clouds',\n",
       "       'scattered clouds', 'scattered clouds', 'scattered clouds',\n",
       "       'few clouds', 'sky is clear', 'sky is clear', 'few clouds',\n",
       "       'scattered clouds', 'scattered clouds', 'scattered clouds',\n",
       "       'scattered clouds', 'scattered clouds', 'broken clouds',\n",
       "       'scattered clouds', 'scattered clouds', 'scattered clouds',\n",
       "       'scattered clouds', 'broken clouds', 'broken clouds',\n",
       "       'scattered clouds', 'scattered clouds', 'scattered clouds',\n",
       "       'broken clouds', 'overcast clouds', 'overcast clouds',\n",
       "       'broken clouds', 'scattered clouds', 'scattered clouds',\n",
       "       'broken clouds', 'broken clouds', 'overcast clouds',\n",
       "       'scattered clouds', 'scattered clouds', 'few clouds', 'light rain',\n",
       "       'light rain', 'sky is clear', 'light rain', 'light rain',\n",
       "       'light rain', 'light rain', 'light rain', 'light rain',\n",
       "       'light rain', 'light rain', 'light rain', 'light rain',\n",
       "       'light rain', 'light rain', 'light rain', 'light rain',\n",
       "       'light rain', 'light rain'], dtype=object)"
      ]
     },
     "execution_count": 30,
     "metadata": {},
     "output_type": "execute_result"
    }
   ],
   "source": [
    "# teste['weather_description'].fillna(teste['weather_description'].mode()[0], inplace=True)\n",
    "from sklearn.tree import DecisionTreeClassifier\n",
    "\n",
    "label_encoder_wd = preprocessing.LabelEncoder() \n",
    "\n",
    "teste_wd = teste.copy()\n",
    "\n",
    "teste_wd['Date'] = label_encoder_wd.fit_transform(teste_wd['Date'])\n",
    "teste_wd['Season'] = label_encoder_wd.fit_transform(teste_wd['Season'])\n",
    "teste_wd['Month'] = label_encoder_wd.fit_transform(teste_wd['Month'])\n",
    "\n",
    "treino_wd = teste_wd.dropna()\n",
    "teste_wd = teste_wd[teste_wd['weather_description'].isnull()]\n",
    "\n",
    "X_treino_wd = treino_wd.drop('weather_description', axis=1)\n",
    "y_treino_wd = treino_wd['weather_description']\n",
    "\n",
    "X_teste_wd = teste_wd.drop('weather_description', axis=1)\n",
    "\n",
    "clf = DecisionTreeClassifier(random_state=183)\n",
    "clf.fit(X_treino_wd, y_treino_wd)\n",
    "predictions = clf.predict(X_teste_wd)\n",
    "\n",
    "# Fill the missing values with the predictions\n",
    "indicies_of_missing = teste[teste['weather_description'].isnull()].index # list of the missing indices\n",
    "for fill_index, dataframe_index in enumerate(indicies_of_missing):\n",
    "    teste.loc[dataframe_index, 'weather_description'] = predictions[fill_index]\n",
    "\n",
    "predictions"
   ]
  },
  {
   "cell_type": "markdown",
   "metadata": {},
   "source": [
    "In the first 672 entries of the \"treino\" dataset the features \"Normal (kWh)\", \"Autoconsumo (kWh)\", \"Horario Economico (kWh)\" and \"Injeçao na rede (kWh)\" all have missing values. Because there is a large number of features with missing values in this entries and because this only represents 5% of the entire dataset we decided to remove all this entries."
   ]
  },
  {
   "cell_type": "code",
   "execution_count": 31,
   "metadata": {},
   "outputs": [],
   "source": [
    "treino.dropna(subset=['Injeçao na rede (kWh)'], inplace=True)"
   ]
  },
  {
   "cell_type": "code",
   "execution_count": 32,
   "metadata": {},
   "outputs": [
    {
     "data": {
      "text/html": [
       "<div>\n",
       "<style scoped>\n",
       "    .dataframe tbody tr th:only-of-type {\n",
       "        vertical-align: middle;\n",
       "    }\n",
       "\n",
       "    .dataframe tbody tr th {\n",
       "        vertical-align: top;\n",
       "    }\n",
       "\n",
       "    .dataframe thead th {\n",
       "        text-align: right;\n",
       "    }\n",
       "</style>\n",
       "<table border=\"1\" class=\"dataframe\">\n",
       "  <thead>\n",
       "    <tr style=\"text-align: right;\">\n",
       "      <th></th>\n",
       "      <th>Date</th>\n",
       "      <th>Hour</th>\n",
       "      <th>Season</th>\n",
       "      <th>Month</th>\n",
       "      <th>temp</th>\n",
       "      <th>feels_like</th>\n",
       "      <th>temp_min</th>\n",
       "      <th>temp_max</th>\n",
       "      <th>pressure</th>\n",
       "      <th>sea_level</th>\n",
       "      <th>grnd_level</th>\n",
       "      <th>humidity</th>\n",
       "      <th>wind_speed</th>\n",
       "      <th>rain_1h</th>\n",
       "      <th>clouds_all</th>\n",
       "      <th>weather_description</th>\n",
       "      <th>Normal (kWh)</th>\n",
       "      <th>Horario Economico (kWh)</th>\n",
       "      <th>Autoconsumo (kWh)</th>\n",
       "      <th>Injeçao na rede (kWh)</th>\n",
       "    </tr>\n",
       "  </thead>\n",
       "  <tbody>\n",
       "    <tr>\n",
       "      <th>0</th>\n",
       "      <td>2021-09-29</td>\n",
       "      <td>0</td>\n",
       "      <td>Autumn</td>\n",
       "      <td>September</td>\n",
       "      <td>13.97</td>\n",
       "      <td>13.54</td>\n",
       "      <td>11.45</td>\n",
       "      <td>14.04</td>\n",
       "      <td>1027</td>\n",
       "      <td>1027.9</td>\n",
       "      <td>1004.4</td>\n",
       "      <td>81</td>\n",
       "      <td>1.96</td>\n",
       "      <td>0.0</td>\n",
       "      <td>87</td>\n",
       "      <td>overcast clouds</td>\n",
       "      <td>0.0</td>\n",
       "      <td>0.000</td>\n",
       "      <td>0.0</td>\n",
       "      <td>None</td>\n",
       "    </tr>\n",
       "    <tr>\n",
       "      <th>1</th>\n",
       "      <td>2021-09-29</td>\n",
       "      <td>1</td>\n",
       "      <td>Autumn</td>\n",
       "      <td>September</td>\n",
       "      <td>13.48</td>\n",
       "      <td>13.02</td>\n",
       "      <td>13.43</td>\n",
       "      <td>13.90</td>\n",
       "      <td>1028</td>\n",
       "      <td>1027.9</td>\n",
       "      <td>1004.4</td>\n",
       "      <td>82</td>\n",
       "      <td>1.83</td>\n",
       "      <td>0.0</td>\n",
       "      <td>91</td>\n",
       "      <td>overcast clouds</td>\n",
       "      <td>0.0</td>\n",
       "      <td>0.000</td>\n",
       "      <td>0.0</td>\n",
       "      <td>None</td>\n",
       "    </tr>\n",
       "    <tr>\n",
       "      <th>2</th>\n",
       "      <td>2021-09-29</td>\n",
       "      <td>2</td>\n",
       "      <td>Autumn</td>\n",
       "      <td>September</td>\n",
       "      <td>12.93</td>\n",
       "      <td>12.47</td>\n",
       "      <td>12.72</td>\n",
       "      <td>13.43</td>\n",
       "      <td>1027</td>\n",
       "      <td>1027.8</td>\n",
       "      <td>1004.3</td>\n",
       "      <td>84</td>\n",
       "      <td>1.96</td>\n",
       "      <td>0.0</td>\n",
       "      <td>93</td>\n",
       "      <td>overcast clouds</td>\n",
       "      <td>0.0</td>\n",
       "      <td>0.000</td>\n",
       "      <td>0.0</td>\n",
       "      <td>None</td>\n",
       "    </tr>\n",
       "    <tr>\n",
       "      <th>3</th>\n",
       "      <td>2021-09-29</td>\n",
       "      <td>3</td>\n",
       "      <td>Autumn</td>\n",
       "      <td>September</td>\n",
       "      <td>12.61</td>\n",
       "      <td>12.15</td>\n",
       "      <td>10.34</td>\n",
       "      <td>12.93</td>\n",
       "      <td>1027</td>\n",
       "      <td>1027.6</td>\n",
       "      <td>1004.1</td>\n",
       "      <td>85</td>\n",
       "      <td>1.85</td>\n",
       "      <td>0.0</td>\n",
       "      <td>95</td>\n",
       "      <td>overcast clouds</td>\n",
       "      <td>0.0</td>\n",
       "      <td>0.000</td>\n",
       "      <td>0.0</td>\n",
       "      <td>None</td>\n",
       "    </tr>\n",
       "    <tr>\n",
       "      <th>4</th>\n",
       "      <td>2021-09-29</td>\n",
       "      <td>4</td>\n",
       "      <td>Autumn</td>\n",
       "      <td>September</td>\n",
       "      <td>12.61</td>\n",
       "      <td>12.17</td>\n",
       "      <td>9.79</td>\n",
       "      <td>12.93</td>\n",
       "      <td>1027</td>\n",
       "      <td>1027.8</td>\n",
       "      <td>1004.3</td>\n",
       "      <td>86</td>\n",
       "      <td>1.83</td>\n",
       "      <td>0.0</td>\n",
       "      <td>93</td>\n",
       "      <td>overcast clouds</td>\n",
       "      <td>0.0</td>\n",
       "      <td>0.000</td>\n",
       "      <td>0.0</td>\n",
       "      <td>None</td>\n",
       "    </tr>\n",
       "    <tr>\n",
       "      <th>...</th>\n",
       "      <td>...</td>\n",
       "      <td>...</td>\n",
       "      <td>...</td>\n",
       "      <td>...</td>\n",
       "      <td>...</td>\n",
       "      <td>...</td>\n",
       "      <td>...</td>\n",
       "      <td>...</td>\n",
       "      <td>...</td>\n",
       "      <td>...</td>\n",
       "      <td>...</td>\n",
       "      <td>...</td>\n",
       "      <td>...</td>\n",
       "      <td>...</td>\n",
       "      <td>...</td>\n",
       "      <td>...</td>\n",
       "      <td>...</td>\n",
       "      <td>...</td>\n",
       "      <td>...</td>\n",
       "      <td>...</td>\n",
       "    </tr>\n",
       "    <tr>\n",
       "      <th>10992</th>\n",
       "      <td>2022-12-31</td>\n",
       "      <td>0</td>\n",
       "      <td>Winter</td>\n",
       "      <td>December</td>\n",
       "      <td>15.21</td>\n",
       "      <td>14.90</td>\n",
       "      <td>14.23</td>\n",
       "      <td>15.72</td>\n",
       "      <td>1021</td>\n",
       "      <td>1020.7</td>\n",
       "      <td>997.5</td>\n",
       "      <td>81</td>\n",
       "      <td>6.01</td>\n",
       "      <td>0.0</td>\n",
       "      <td>99</td>\n",
       "      <td>overcast clouds</td>\n",
       "      <td>0.0</td>\n",
       "      <td>0.718</td>\n",
       "      <td>0.0</td>\n",
       "      <td>None</td>\n",
       "    </tr>\n",
       "    <tr>\n",
       "      <th>10996</th>\n",
       "      <td>2022-12-31</td>\n",
       "      <td>4</td>\n",
       "      <td>Winter</td>\n",
       "      <td>December</td>\n",
       "      <td>14.24</td>\n",
       "      <td>13.65</td>\n",
       "      <td>13.43</td>\n",
       "      <td>14.72</td>\n",
       "      <td>1019</td>\n",
       "      <td>1019.2</td>\n",
       "      <td>996.0</td>\n",
       "      <td>74</td>\n",
       "      <td>5.89</td>\n",
       "      <td>0.0</td>\n",
       "      <td>66</td>\n",
       "      <td>broken clouds</td>\n",
       "      <td>0.0</td>\n",
       "      <td>0.604</td>\n",
       "      <td>0.0</td>\n",
       "      <td>None</td>\n",
       "    </tr>\n",
       "    <tr>\n",
       "      <th>10997</th>\n",
       "      <td>2022-12-31</td>\n",
       "      <td>5</td>\n",
       "      <td>Winter</td>\n",
       "      <td>December</td>\n",
       "      <td>14.24</td>\n",
       "      <td>13.57</td>\n",
       "      <td>13.43</td>\n",
       "      <td>14.72</td>\n",
       "      <td>1019</td>\n",
       "      <td>1018.8</td>\n",
       "      <td>995.6</td>\n",
       "      <td>71</td>\n",
       "      <td>5.72</td>\n",
       "      <td>0.0</td>\n",
       "      <td>37</td>\n",
       "      <td>scattered clouds</td>\n",
       "      <td>0.0</td>\n",
       "      <td>0.536</td>\n",
       "      <td>0.0</td>\n",
       "      <td>None</td>\n",
       "    </tr>\n",
       "    <tr>\n",
       "      <th>10998</th>\n",
       "      <td>2022-12-31</td>\n",
       "      <td>6</td>\n",
       "      <td>Winter</td>\n",
       "      <td>December</td>\n",
       "      <td>14.28</td>\n",
       "      <td>13.57</td>\n",
       "      <td>13.12</td>\n",
       "      <td>15.01</td>\n",
       "      <td>1019</td>\n",
       "      <td>1018.7</td>\n",
       "      <td>995.5</td>\n",
       "      <td>69</td>\n",
       "      <td>5.71</td>\n",
       "      <td>0.0</td>\n",
       "      <td>34</td>\n",
       "      <td>scattered clouds</td>\n",
       "      <td>0.0</td>\n",
       "      <td>0.474</td>\n",
       "      <td>0.0</td>\n",
       "      <td>None</td>\n",
       "    </tr>\n",
       "    <tr>\n",
       "      <th>10999</th>\n",
       "      <td>2022-12-31</td>\n",
       "      <td>7</td>\n",
       "      <td>Winter</td>\n",
       "      <td>December</td>\n",
       "      <td>14.48</td>\n",
       "      <td>13.76</td>\n",
       "      <td>13.68</td>\n",
       "      <td>15.01</td>\n",
       "      <td>1019</td>\n",
       "      <td>1018.8</td>\n",
       "      <td>995.7</td>\n",
       "      <td>68</td>\n",
       "      <td>5.82</td>\n",
       "      <td>0.0</td>\n",
       "      <td>43</td>\n",
       "      <td>scattered clouds</td>\n",
       "      <td>0.0</td>\n",
       "      <td>0.483</td>\n",
       "      <td>0.0</td>\n",
       "      <td>None</td>\n",
       "    </tr>\n",
       "  </tbody>\n",
       "</table>\n",
       "<p>8639 rows × 20 columns</p>\n",
       "</div>"
      ],
      "text/plain": [
       "             Date  Hour  Season      Month   temp  feels_like  temp_min  \\\n",
       "0      2021-09-29     0  Autumn  September  13.97       13.54     11.45   \n",
       "1      2021-09-29     1  Autumn  September  13.48       13.02     13.43   \n",
       "2      2021-09-29     2  Autumn  September  12.93       12.47     12.72   \n",
       "3      2021-09-29     3  Autumn  September  12.61       12.15     10.34   \n",
       "4      2021-09-29     4  Autumn  September  12.61       12.17      9.79   \n",
       "...           ...   ...     ...        ...    ...         ...       ...   \n",
       "10992  2022-12-31     0  Winter   December  15.21       14.90     14.23   \n",
       "10996  2022-12-31     4  Winter   December  14.24       13.65     13.43   \n",
       "10997  2022-12-31     5  Winter   December  14.24       13.57     13.43   \n",
       "10998  2022-12-31     6  Winter   December  14.28       13.57     13.12   \n",
       "10999  2022-12-31     7  Winter   December  14.48       13.76     13.68   \n",
       "\n",
       "       temp_max  pressure  sea_level  grnd_level  humidity  wind_speed  \\\n",
       "0         14.04      1027     1027.9      1004.4        81        1.96   \n",
       "1         13.90      1028     1027.9      1004.4        82        1.83   \n",
       "2         13.43      1027     1027.8      1004.3        84        1.96   \n",
       "3         12.93      1027     1027.6      1004.1        85        1.85   \n",
       "4         12.93      1027     1027.8      1004.3        86        1.83   \n",
       "...         ...       ...        ...         ...       ...         ...   \n",
       "10992     15.72      1021     1020.7       997.5        81        6.01   \n",
       "10996     14.72      1019     1019.2       996.0        74        5.89   \n",
       "10997     14.72      1019     1018.8       995.6        71        5.72   \n",
       "10998     15.01      1019     1018.7       995.5        69        5.71   \n",
       "10999     15.01      1019     1018.8       995.7        68        5.82   \n",
       "\n",
       "       rain_1h  clouds_all weather_description  Normal (kWh)  \\\n",
       "0          0.0          87     overcast clouds           0.0   \n",
       "1          0.0          91     overcast clouds           0.0   \n",
       "2          0.0          93     overcast clouds           0.0   \n",
       "3          0.0          95     overcast clouds           0.0   \n",
       "4          0.0          93     overcast clouds           0.0   \n",
       "...        ...         ...                 ...           ...   \n",
       "10992      0.0          99     overcast clouds           0.0   \n",
       "10996      0.0          66       broken clouds           0.0   \n",
       "10997      0.0          37    scattered clouds           0.0   \n",
       "10998      0.0          34    scattered clouds           0.0   \n",
       "10999      0.0          43    scattered clouds           0.0   \n",
       "\n",
       "       Horario Economico (kWh)  Autoconsumo (kWh) Injeçao na rede (kWh)  \n",
       "0                        0.000                0.0                  None  \n",
       "1                        0.000                0.0                  None  \n",
       "2                        0.000                0.0                  None  \n",
       "3                        0.000                0.0                  None  \n",
       "4                        0.000                0.0                  None  \n",
       "...                        ...                ...                   ...  \n",
       "10992                    0.718                0.0                  None  \n",
       "10996                    0.604                0.0                  None  \n",
       "10997                    0.536                0.0                  None  \n",
       "10998                    0.474                0.0                  None  \n",
       "10999                    0.483                0.0                  None  \n",
       "\n",
       "[8639 rows x 20 columns]"
      ]
     },
     "execution_count": 32,
     "metadata": {},
     "output_type": "execute_result"
    }
   ],
   "source": [
    "treino"
   ]
  },
  {
   "cell_type": "code",
   "execution_count": 33,
   "metadata": {},
   "outputs": [
    {
     "data": {
      "text/html": [
       "<div>\n",
       "<style scoped>\n",
       "    .dataframe tbody tr th:only-of-type {\n",
       "        vertical-align: middle;\n",
       "    }\n",
       "\n",
       "    .dataframe tbody tr th {\n",
       "        vertical-align: top;\n",
       "    }\n",
       "\n",
       "    .dataframe thead th {\n",
       "        text-align: right;\n",
       "    }\n",
       "</style>\n",
       "<table border=\"1\" class=\"dataframe\">\n",
       "  <thead>\n",
       "    <tr style=\"text-align: right;\">\n",
       "      <th></th>\n",
       "      <th>temp</th>\n",
       "      <th>feels_like</th>\n",
       "      <th>Season</th>\n",
       "      <th>Month</th>\n",
       "      <th>temp_min</th>\n",
       "      <th>temp_max</th>\n",
       "      <th>pressure</th>\n",
       "      <th>sea_level</th>\n",
       "      <th>grnd_level</th>\n",
       "      <th>humidity</th>\n",
       "      <th>wind_speed</th>\n",
       "      <th>rain_1h</th>\n",
       "      <th>clouds_all</th>\n",
       "      <th>weather_description</th>\n",
       "      <th>Date</th>\n",
       "      <th>Hour</th>\n",
       "      <th>Normal (kWh)</th>\n",
       "      <th>Horario Economico (kWh)</th>\n",
       "      <th>Autoconsumo (kWh)</th>\n",
       "    </tr>\n",
       "  </thead>\n",
       "  <tbody>\n",
       "    <tr>\n",
       "      <th>0</th>\n",
       "      <td>12.93</td>\n",
       "      <td>12.76</td>\n",
       "      <td>Winter</td>\n",
       "      <td>January</td>\n",
       "      <td>12.72</td>\n",
       "      <td>13.43</td>\n",
       "      <td>1019.0</td>\n",
       "      <td>1019.0</td>\n",
       "      <td>995.8</td>\n",
       "      <td>95</td>\n",
       "      <td>2.02</td>\n",
       "      <td>3.72</td>\n",
       "      <td>100.0</td>\n",
       "      <td>moderate rain</td>\n",
       "      <td>2023-01-01</td>\n",
       "      <td>0</td>\n",
       "      <td>0.000</td>\n",
       "      <td>0.467</td>\n",
       "      <td>0.000</td>\n",
       "    </tr>\n",
       "    <tr>\n",
       "      <th>1</th>\n",
       "      <td>13.49</td>\n",
       "      <td>13.38</td>\n",
       "      <td>Winter</td>\n",
       "      <td>January</td>\n",
       "      <td>13.43</td>\n",
       "      <td>13.90</td>\n",
       "      <td>1018.0</td>\n",
       "      <td>1018.1</td>\n",
       "      <td>994.9</td>\n",
       "      <td>95</td>\n",
       "      <td>2.18</td>\n",
       "      <td>3.26</td>\n",
       "      <td>100.0</td>\n",
       "      <td>moderate rain</td>\n",
       "      <td>2023-01-01</td>\n",
       "      <td>1</td>\n",
       "      <td>0.000</td>\n",
       "      <td>0.577</td>\n",
       "      <td>0.000</td>\n",
       "    </tr>\n",
       "    <tr>\n",
       "      <th>2</th>\n",
       "      <td>13.55</td>\n",
       "      <td>13.44</td>\n",
       "      <td>Winter</td>\n",
       "      <td>January</td>\n",
       "      <td>13.48</td>\n",
       "      <td>14.82</td>\n",
       "      <td>1017.0</td>\n",
       "      <td>1016.8</td>\n",
       "      <td>993.7</td>\n",
       "      <td>95</td>\n",
       "      <td>2.88</td>\n",
       "      <td>2.44</td>\n",
       "      <td>100.0</td>\n",
       "      <td>moderate rain</td>\n",
       "      <td>2023-01-01</td>\n",
       "      <td>2</td>\n",
       "      <td>0.000</td>\n",
       "      <td>0.346</td>\n",
       "      <td>0.000</td>\n",
       "    </tr>\n",
       "    <tr>\n",
       "      <th>3</th>\n",
       "      <td>13.61</td>\n",
       "      <td>13.51</td>\n",
       "      <td>Winter</td>\n",
       "      <td>January</td>\n",
       "      <td>12.01</td>\n",
       "      <td>14.82</td>\n",
       "      <td>1016.0</td>\n",
       "      <td>1016.2</td>\n",
       "      <td>993.1</td>\n",
       "      <td>95</td>\n",
       "      <td>3.63</td>\n",
       "      <td>1.74</td>\n",
       "      <td>100.0</td>\n",
       "      <td>moderate rain</td>\n",
       "      <td>2023-01-01</td>\n",
       "      <td>3</td>\n",
       "      <td>0.000</td>\n",
       "      <td>0.270</td>\n",
       "      <td>0.000</td>\n",
       "    </tr>\n",
       "    <tr>\n",
       "      <th>4</th>\n",
       "      <td>13.59</td>\n",
       "      <td>13.49</td>\n",
       "      <td>Winter</td>\n",
       "      <td>January</td>\n",
       "      <td>12.01</td>\n",
       "      <td>14.82</td>\n",
       "      <td>1015.0</td>\n",
       "      <td>1015.3</td>\n",
       "      <td>992.3</td>\n",
       "      <td>95</td>\n",
       "      <td>4.58</td>\n",
       "      <td>1.13</td>\n",
       "      <td>100.0</td>\n",
       "      <td>moderate rain</td>\n",
       "      <td>2023-01-01</td>\n",
       "      <td>4</td>\n",
       "      <td>0.000</td>\n",
       "      <td>0.252</td>\n",
       "      <td>0.000</td>\n",
       "    </tr>\n",
       "    <tr>\n",
       "      <th>...</th>\n",
       "      <td>...</td>\n",
       "      <td>...</td>\n",
       "      <td>...</td>\n",
       "      <td>...</td>\n",
       "      <td>...</td>\n",
       "      <td>...</td>\n",
       "      <td>...</td>\n",
       "      <td>...</td>\n",
       "      <td>...</td>\n",
       "      <td>...</td>\n",
       "      <td>...</td>\n",
       "      <td>...</td>\n",
       "      <td>...</td>\n",
       "      <td>...</td>\n",
       "      <td>...</td>\n",
       "      <td>...</td>\n",
       "      <td>...</td>\n",
       "      <td>...</td>\n",
       "      <td>...</td>\n",
       "    </tr>\n",
       "    <tr>\n",
       "      <th>2251</th>\n",
       "      <td>20.10</td>\n",
       "      <td>18.10</td>\n",
       "      <td>Spring</td>\n",
       "      <td>April</td>\n",
       "      <td>3.60</td>\n",
       "      <td>20.40</td>\n",
       "      <td>NaN</td>\n",
       "      <td>1015.1</td>\n",
       "      <td>992.6</td>\n",
       "      <td>35</td>\n",
       "      <td>1.20</td>\n",
       "      <td>0.00</td>\n",
       "      <td>0.0</td>\n",
       "      <td>light rain</td>\n",
       "      <td>2023-04-04</td>\n",
       "      <td>19</td>\n",
       "      <td>0.953</td>\n",
       "      <td>0.000</td>\n",
       "      <td>0.012</td>\n",
       "    </tr>\n",
       "    <tr>\n",
       "      <th>2252</th>\n",
       "      <td>13.60</td>\n",
       "      <td>11.50</td>\n",
       "      <td>Spring</td>\n",
       "      <td>April</td>\n",
       "      <td>3.60</td>\n",
       "      <td>20.40</td>\n",
       "      <td>NaN</td>\n",
       "      <td>1016.1</td>\n",
       "      <td>993.1</td>\n",
       "      <td>63</td>\n",
       "      <td>2.47</td>\n",
       "      <td>0.00</td>\n",
       "      <td>0.0</td>\n",
       "      <td>light rain</td>\n",
       "      <td>2023-04-04</td>\n",
       "      <td>20</td>\n",
       "      <td>0.915</td>\n",
       "      <td>0.000</td>\n",
       "      <td>0.000</td>\n",
       "    </tr>\n",
       "    <tr>\n",
       "      <th>2253</th>\n",
       "      <td>12.60</td>\n",
       "      <td>10.60</td>\n",
       "      <td>Spring</td>\n",
       "      <td>April</td>\n",
       "      <td>3.60</td>\n",
       "      <td>20.40</td>\n",
       "      <td>NaN</td>\n",
       "      <td>1017.0</td>\n",
       "      <td>993.9</td>\n",
       "      <td>67</td>\n",
       "      <td>2.22</td>\n",
       "      <td>0.00</td>\n",
       "      <td>2.0</td>\n",
       "      <td>light rain</td>\n",
       "      <td>2023-04-04</td>\n",
       "      <td>21</td>\n",
       "      <td>0.479</td>\n",
       "      <td>0.000</td>\n",
       "      <td>0.000</td>\n",
       "    </tr>\n",
       "    <tr>\n",
       "      <th>2254</th>\n",
       "      <td>11.70</td>\n",
       "      <td>9.50</td>\n",
       "      <td>Spring</td>\n",
       "      <td>April</td>\n",
       "      <td>3.60</td>\n",
       "      <td>20.40</td>\n",
       "      <td>NaN</td>\n",
       "      <td>1017.5</td>\n",
       "      <td>994.3</td>\n",
       "      <td>68</td>\n",
       "      <td>2.41</td>\n",
       "      <td>0.00</td>\n",
       "      <td>1.0</td>\n",
       "      <td>light rain</td>\n",
       "      <td>2023-04-04</td>\n",
       "      <td>22</td>\n",
       "      <td>0.000</td>\n",
       "      <td>0.497</td>\n",
       "      <td>0.000</td>\n",
       "    </tr>\n",
       "    <tr>\n",
       "      <th>2255</th>\n",
       "      <td>9.70</td>\n",
       "      <td>7.50</td>\n",
       "      <td>Spring</td>\n",
       "      <td>April</td>\n",
       "      <td>3.60</td>\n",
       "      <td>20.40</td>\n",
       "      <td>NaN</td>\n",
       "      <td>1017.9</td>\n",
       "      <td>994.5</td>\n",
       "      <td>77</td>\n",
       "      <td>2.24</td>\n",
       "      <td>0.00</td>\n",
       "      <td>0.0</td>\n",
       "      <td>light rain</td>\n",
       "      <td>2023-04-04</td>\n",
       "      <td>23</td>\n",
       "      <td>0.000</td>\n",
       "      <td>0.487</td>\n",
       "      <td>0.000</td>\n",
       "    </tr>\n",
       "  </tbody>\n",
       "</table>\n",
       "<p>2256 rows × 19 columns</p>\n",
       "</div>"
      ],
      "text/plain": [
       "       temp  feels_like  Season    Month  temp_min  temp_max  pressure  \\\n",
       "0     12.93       12.76  Winter  January     12.72     13.43    1019.0   \n",
       "1     13.49       13.38  Winter  January     13.43     13.90    1018.0   \n",
       "2     13.55       13.44  Winter  January     13.48     14.82    1017.0   \n",
       "3     13.61       13.51  Winter  January     12.01     14.82    1016.0   \n",
       "4     13.59       13.49  Winter  January     12.01     14.82    1015.0   \n",
       "...     ...         ...     ...      ...       ...       ...       ...   \n",
       "2251  20.10       18.10  Spring    April      3.60     20.40       NaN   \n",
       "2252  13.60       11.50  Spring    April      3.60     20.40       NaN   \n",
       "2253  12.60       10.60  Spring    April      3.60     20.40       NaN   \n",
       "2254  11.70        9.50  Spring    April      3.60     20.40       NaN   \n",
       "2255   9.70        7.50  Spring    April      3.60     20.40       NaN   \n",
       "\n",
       "      sea_level  grnd_level  humidity  wind_speed  rain_1h  clouds_all  \\\n",
       "0        1019.0       995.8        95        2.02     3.72       100.0   \n",
       "1        1018.1       994.9        95        2.18     3.26       100.0   \n",
       "2        1016.8       993.7        95        2.88     2.44       100.0   \n",
       "3        1016.2       993.1        95        3.63     1.74       100.0   \n",
       "4        1015.3       992.3        95        4.58     1.13       100.0   \n",
       "...         ...         ...       ...         ...      ...         ...   \n",
       "2251     1015.1       992.6        35        1.20     0.00         0.0   \n",
       "2252     1016.1       993.1        63        2.47     0.00         0.0   \n",
       "2253     1017.0       993.9        67        2.22     0.00         2.0   \n",
       "2254     1017.5       994.3        68        2.41     0.00         1.0   \n",
       "2255     1017.9       994.5        77        2.24     0.00         0.0   \n",
       "\n",
       "     weather_description        Date  Hour  Normal (kWh)  \\\n",
       "0          moderate rain  2023-01-01     0         0.000   \n",
       "1          moderate rain  2023-01-01     1         0.000   \n",
       "2          moderate rain  2023-01-01     2         0.000   \n",
       "3          moderate rain  2023-01-01     3         0.000   \n",
       "4          moderate rain  2023-01-01     4         0.000   \n",
       "...                  ...         ...   ...           ...   \n",
       "2251          light rain  2023-04-04    19         0.953   \n",
       "2252          light rain  2023-04-04    20         0.915   \n",
       "2253          light rain  2023-04-04    21         0.479   \n",
       "2254          light rain  2023-04-04    22         0.000   \n",
       "2255          light rain  2023-04-04    23         0.000   \n",
       "\n",
       "      Horario Economico (kWh)  Autoconsumo (kWh)  \n",
       "0                       0.467              0.000  \n",
       "1                       0.577              0.000  \n",
       "2                       0.346              0.000  \n",
       "3                       0.270              0.000  \n",
       "4                       0.252              0.000  \n",
       "...                       ...                ...  \n",
       "2251                    0.000              0.012  \n",
       "2252                    0.000              0.000  \n",
       "2253                    0.000              0.000  \n",
       "2254                    0.497              0.000  \n",
       "2255                    0.487              0.000  \n",
       "\n",
       "[2256 rows x 19 columns]"
      ]
     },
     "execution_count": 33,
     "metadata": {},
     "output_type": "execute_result"
    }
   ],
   "source": [
    "teste"
   ]
  },
  {
   "cell_type": "markdown",
   "metadata": {},
   "source": [
    "## Fase 3: Exploração Detalhada"
   ]
  },
  {
   "cell_type": "code",
   "execution_count": 34,
   "metadata": {},
   "outputs": [
    {
     "data": {
      "image/png": "[encoded data removed]",
      "text/plain": [
       "<Figure size 640x480 with 1 Axes>"
      ]
     },
     "metadata": {},
     "output_type": "display_data"
    }
   ],
   "source": [
    "sns.countplot(x='Injeçao na rede (kWh)', data=treino)\n",
    "plt.show()"
   ]
  },
  {
   "cell_type": "markdown",
   "metadata": {},
   "source": [
    "### 'Hour' vs 'Normal (kWh)'"
   ]
  },
  {
   "cell_type": "code",
   "execution_count": 35,
   "metadata": {},
   "outputs": [
    {
     "data": {
      "image/png": "[encoded data removed]",
      "text/plain": [
       "<Figure size 640x480 with 1 Axes>"
      ]
     },
     "metadata": {},
     "output_type": "display_data"
    }
   ],
   "source": [
    "sns.barplot(x='Hour', y='Normal (kWh)', data=treino)\n",
    "plt.show()"
   ]
  },
  {
   "cell_type": "markdown",
   "metadata": {},
   "source": [
    "### 'Hour' vs 'Horario Economico (kWh)'"
   ]
  },
  {
   "cell_type": "code",
   "execution_count": 36,
   "metadata": {},
   "outputs": [
    {
     "data": {
      "image/png": "[encoded data removed]",
      "text/plain": [
       "<Figure size 640x480 with 1 Axes>"
      ]
     },
     "metadata": {},
     "output_type": "display_data"
    }
   ],
   "source": [
    "sns.barplot(x='Hour', y='Horario Economico (kWh)', data=treino)\n",
    "plt.show()"
   ]
  },
  {
   "cell_type": "markdown",
   "metadata": {},
   "source": [
    "### Relation: 'Month' with 'Injeçao na rede (kWh)'"
   ]
  },
  {
   "cell_type": "code",
   "execution_count": 37,
   "metadata": {},
   "outputs": [
    {
     "data": {
      "image/png": "[encoded data removed]",
      "text/plain": [
       "<Figure size 640x480 with 1 Axes>"
      ]
     },
     "metadata": {},
     "output_type": "display_data"
    }
   ],
   "source": [
    "sns.countplot(x='Month', order=monthsL, hue='Injeçao na rede (kWh)', data=treino)\n",
    "plt.show()"
   ]
  },
  {
   "cell_type": "markdown",
   "metadata": {},
   "source": [
    "### Relation: 'Season' with 'Injeçao na rede (kWh)'"
   ]
  },
  {
   "cell_type": "code",
   "execution_count": 38,
   "metadata": {},
   "outputs": [
    {
     "data": {
      "image/png": "[encoded data removed]",
      "text/plain": [
       "<Figure size 640x480 with 1 Axes>"
      ]
     },
     "metadata": {},
     "output_type": "display_data"
    }
   ],
   "source": [
    "sns.countplot(x='Season', hue='Injeçao na rede (kWh)', data=treino)\n",
    "plt.show()"
   ]
  },
  {
   "cell_type": "markdown",
   "metadata": {},
   "source": [
    "### Relation: 'Normal (kWh)' with 'Injeçao na rede (kWh)'"
   ]
  },
  {
   "cell_type": "code",
   "execution_count": 39,
   "metadata": {},
   "outputs": [
    {
     "data": {
      "image/png": "[encoded data removed]",
      "text/plain": [
       "<Figure size 640x480 with 1 Axes>"
      ]
     },
     "metadata": {},
     "output_type": "display_data"
    }
   ],
   "source": [
    "sns.barplot(x='Injeçao na rede (kWh)', y='Normal (kWh)', data=treino)\n",
    "plt.show()"
   ]
  },
  {
   "cell_type": "markdown",
   "metadata": {},
   "source": [
    "### Relation: 'Horario Economico (kWh)' with 'Injeçao na rede (kWh)'"
   ]
  },
  {
   "cell_type": "code",
   "execution_count": 40,
   "metadata": {},
   "outputs": [
    {
     "data": {
      "image/png": "[encoded data removed]",
      "text/plain": [
       "<Figure size 640x480 with 1 Axes>"
      ]
     },
     "metadata": {},
     "output_type": "display_data"
    }
   ],
   "source": [
    "sns.barplot(x='Injeçao na rede (kWh)', y='Horario Economico (kWh)', data=treino)\n",
    "plt.show()"
   ]
  },
  {
   "cell_type": "markdown",
   "metadata": {},
   "source": [
    "### Relation: 'Autoconsumo (kWh)' with 'Injeçao na rede (kWh)'"
   ]
  },
  {
   "cell_type": "code",
   "execution_count": 41,
   "metadata": {},
   "outputs": [
    {
     "data": {
      "image/png": "[encoded data removed]",
      "text/plain": [
       "<Figure size 640x480 with 1 Axes>"
      ]
     },
     "metadata": {},
     "output_type": "display_data"
    }
   ],
   "source": [
    "sns.barplot(x='Injeçao na rede (kWh)', y='Autoconsumo (kWh)', data=treino)\n",
    "plt.show()"
   ]
  },
  {
   "cell_type": "markdown",
   "metadata": {},
   "source": [
    "### Relation: 'temp' with 'Injeçao na rede (kWh)'"
   ]
  },
  {
   "cell_type": "code",
   "execution_count": 42,
   "metadata": {},
   "outputs": [
    {
     "data": {
      "image/png": "[encoded data removed]",
      "text/plain": [
       "<Figure size 640x480 with 1 Axes>"
      ]
     },
     "metadata": {},
     "output_type": "display_data"
    }
   ],
   "source": [
    "sns.barplot(x='Injeçao na rede (kWh)', y='temp', data=treino)\n",
    "plt.show()"
   ]
  },
  {
   "cell_type": "markdown",
   "metadata": {},
   "source": [
    "### Relation: 'feels_like' with 'Injeçao na rede (kWh)'"
   ]
  },
  {
   "cell_type": "code",
   "execution_count": 43,
   "metadata": {},
   "outputs": [
    {
     "data": {
      "image/png": "[encoded data removed]",
      "text/plain": [
       "<Figure size 640x480 with 1 Axes>"
      ]
     },
     "metadata": {},
     "output_type": "display_data"
    }
   ],
   "source": [
    "sns.barplot(x='Injeçao na rede (kWh)', y='feels_like', data=treino)\n",
    "plt.show()"
   ]
  },
  {
   "cell_type": "markdown",
   "metadata": {},
   "source": [
    "### Relation: 'temp_min' with 'Injeçao na rede (kWh)'"
   ]
  },
  {
   "cell_type": "code",
   "execution_count": 44,
   "metadata": {},
   "outputs": [
    {
     "data": {
      "image/png": "[encoded data removed]",
      "text/plain": [
       "<Figure size 640x480 with 1 Axes>"
      ]
     },
     "metadata": {},
     "output_type": "display_data"
    }
   ],
   "source": [
    "sns.barplot(x='Injeçao na rede (kWh)', y='temp_min', data=treino)\n",
    "plt.show()"
   ]
  },
  {
   "cell_type": "markdown",
   "metadata": {},
   "source": [
    "### Relation: 'temp_max' with 'Injeçao na rede (kWh)'"
   ]
  },
  {
   "cell_type": "code",
   "execution_count": 45,
   "metadata": {},
   "outputs": [
    {
     "data": {
      "image/png": "[encoded data removed]",
      "text/plain": [
       "<Figure size 640x480 with 1 Axes>"
      ]
     },
     "metadata": {},
     "output_type": "display_data"
    }
   ],
   "source": [
    "sns.barplot(x='Injeçao na rede (kWh)', y='temp_max', data=treino)\n",
    "plt.show()"
   ]
  },
  {
   "cell_type": "markdown",
   "metadata": {},
   "source": [
    "### Relation: 'pressure' with 'Injeçao na rede (kWh)'"
   ]
  },
  {
   "cell_type": "code",
   "execution_count": 46,
   "metadata": {},
   "outputs": [
    {
     "data": {
      "image/png": "[encoded data removed]",
      "text/plain": [
       "<Figure size 640x480 with 1 Axes>"
      ]
     },
     "metadata": {},
     "output_type": "display_data"
    }
   ],
   "source": [
    "sns.barplot(x='Injeçao na rede (kWh)', y='pressure', data=treino)\n",
    "plt.show()"
   ]
  },
  {
   "cell_type": "markdown",
   "metadata": {},
   "source": [
    "### Relation: 'humidity' with 'Injeçao na rede (kWh)'"
   ]
  },
  {
   "cell_type": "code",
   "execution_count": 47,
   "metadata": {},
   "outputs": [
    {
     "data": {
      "image/png": "[encoded data removed]",
      "text/plain": [
       "<Figure size 640x480 with 1 Axes>"
      ]
     },
     "metadata": {},
     "output_type": "display_data"
    }
   ],
   "source": [
    "sns.barplot(x='Injeçao na rede (kWh)', y='humidity', data=treino)\n",
    "plt.show()"
   ]
  },
  {
   "cell_type": "markdown",
   "metadata": {},
   "source": [
    "### Relation: 'wind_speed' with 'Injeçao na rede (kWh)'"
   ]
  },
  {
   "cell_type": "code",
   "execution_count": 48,
   "metadata": {},
   "outputs": [
    {
     "data": {
      "image/png": "[encoded data removed]",
      "text/plain": [
       "<Figure size 640x480 with 1 Axes>"
      ]
     },
     "metadata": {},
     "output_type": "display_data"
    }
   ],
   "source": [
    "sns.barplot(x='Injeçao na rede (kWh)', y='wind_speed', data=treino)\n",
    "plt.show()"
   ]
  },
  {
   "cell_type": "markdown",
   "metadata": {},
   "source": [
    "We can check that the feature 'rain_1h', when the feature 'Injeçao na rede (kWh)' takes the value 'Very High', is very scattered."
   ]
  },
  {
   "cell_type": "markdown",
   "metadata": {},
   "source": [
    "### Relation: 'clouds_all' with 'Injeçao na rede (kWh)'"
   ]
  },
  {
   "cell_type": "code",
   "execution_count": 49,
   "metadata": {},
   "outputs": [
    {
     "data": {
      "image/png": "[encoded data removed]",
      "text/plain": [
       "<Figure size 640x480 with 1 Axes>"
      ]
     },
     "metadata": {},
     "output_type": "display_data"
    }
   ],
   "source": [
    "sns.barplot(x='Injeçao na rede (kWh)', y='clouds_all', data=treino)\n",
    "plt.show()"
   ]
  },
  {
   "cell_type": "markdown",
   "metadata": {},
   "source": [
    "### Relation: 'weather_description' with 'Injeçao na rede (kWh)'"
   ]
  },
  {
   "cell_type": "code",
   "execution_count": 50,
   "metadata": {},
   "outputs": [
    {
     "data": {
      "image/png": "[encoded data removed]",
      "text/plain": [
       "<Figure size 640x480 with 1 Axes>"
      ]
     },
     "metadata": {},
     "output_type": "display_data"
    }
   ],
   "source": [
    "w_d_order = ['sky is clear', 'few clouds', 'scattered clouds', 'broken clouds', 'overcast clouds', 'light rain', 'moderate rain', 'heavy intensity rain']\n",
    "\n",
    "sns.countplot(x='weather_description', order= w_d_order, hue='Injeçao na rede (kWh)', data=treino)\n",
    "plt.show()"
   ]
  },
  {
   "cell_type": "markdown",
   "metadata": {},
   "source": [
    "### Correlation Matrix"
   ]
  },
  {
   "cell_type": "code",
   "execution_count": 51,
   "metadata": {},
   "outputs": [
    {
     "data": {
      "image/png": "[encoded data removed]",
      "text/plain": [
       "<Figure size 640x480 with 2 Axes>"
      ]
     },
     "metadata": {},
     "output_type": "display_data"
    }
   ],
   "source": [
    "label_encoder_inr = preprocessing.LabelEncoder() \n",
    "label_encoder_wd = preprocessing.LabelEncoder()\n",
    "label_encoder_d = preprocessing.LabelEncoder()  \n",
    "label_encoder_s = preprocessing.LabelEncoder() \n",
    "label_encoder_m = preprocessing.LabelEncoder() \n",
    "\n",
    "treino['Injeçao na rede (kWh)'] = label_encoder_inr.fit_transform(treino['Injeçao na rede (kWh)'])\n",
    "treino['weather_description'] = label_encoder_wd.fit_transform(treino['weather_description'])\n",
    "treino['Date'] = label_encoder_d.fit_transform(treino['Date']) \n",
    "treino['Season'] = label_encoder_s.fit_transform(treino['Season']) \n",
    "treino['Month'] = label_encoder_m.fit_transform(treino['Month']) \n",
    "\n",
    "corr_matrix = treino.corr(numeric_only=True)\n",
    "sns.heatmap(corr_matrix, vmin=-1, vmax=1, square=True, annot=True)\n",
    "plt.show()"
   ]
  },
  {
   "cell_type": "code",
   "execution_count": 52,
   "metadata": {},
   "outputs": [
    {
     "data": {
      "text/plain": [
       "Hour                      -0.068856\n",
       "Season                     0.017735\n",
       "Month                     -0.018177\n",
       "temp                      -0.173765\n",
       "feels_like                -0.158655\n",
       "temp_min                  -0.169097\n",
       "temp_max                  -0.157732\n",
       "pressure                  -0.039895\n",
       "sea_level                 -0.036037\n",
       "grnd_level                -0.053138\n",
       "humidity                   0.270309\n",
       "wind_speed                -0.118026\n",
       "rain_1h                    0.034931\n",
       "clouds_all                 0.045011\n",
       "weather_description       -0.021949\n",
       "Normal (kWh)               0.146748\n",
       "Horario Economico (kWh)    0.319077\n",
       "Autoconsumo (kWh)         -0.595954\n",
       "Injeçao na rede (kWh)      1.000000\n",
       "Name: Injeçao na rede (kWh), dtype: float64"
      ]
     },
     "execution_count": 52,
     "metadata": {},
     "output_type": "execute_result"
    }
   ],
   "source": [
    "treino[treino.columns[1:]].corr()['Injeçao na rede (kWh)'][:]"
   ]
  },
  {
   "cell_type": "code",
   "execution_count": 53,
   "metadata": {},
   "outputs": [
    {
     "data": {
      "text/html": [
       "<div>\n",
       "<style scoped>\n",
       "    .dataframe tbody tr th:only-of-type {\n",
       "        vertical-align: middle;\n",
       "    }\n",
       "\n",
       "    .dataframe tbody tr th {\n",
       "        vertical-align: top;\n",
       "    }\n",
       "\n",
       "    .dataframe thead th {\n",
       "        text-align: right;\n",
       "    }\n",
       "</style>\n",
       "<table border=\"1\" class=\"dataframe\">\n",
       "  <thead>\n",
       "    <tr style=\"text-align: right;\">\n",
       "      <th></th>\n",
       "      <th>Date</th>\n",
       "      <th>Hour</th>\n",
       "      <th>Season</th>\n",
       "      <th>Month</th>\n",
       "      <th>temp</th>\n",
       "      <th>feels_like</th>\n",
       "      <th>temp_min</th>\n",
       "      <th>temp_max</th>\n",
       "      <th>pressure</th>\n",
       "      <th>sea_level</th>\n",
       "      <th>grnd_level</th>\n",
       "      <th>humidity</th>\n",
       "      <th>wind_speed</th>\n",
       "      <th>rain_1h</th>\n",
       "      <th>clouds_all</th>\n",
       "      <th>weather_description</th>\n",
       "      <th>Normal (kWh)</th>\n",
       "      <th>Horario Economico (kWh)</th>\n",
       "      <th>Autoconsumo (kWh)</th>\n",
       "      <th>Injeçao na rede (kWh)</th>\n",
       "    </tr>\n",
       "  </thead>\n",
       "  <tbody>\n",
       "    <tr>\n",
       "      <th>0</th>\n",
       "      <td>2021-09-29</td>\n",
       "      <td>0</td>\n",
       "      <td>Autumn</td>\n",
       "      <td>September</td>\n",
       "      <td>13.97</td>\n",
       "      <td>13.54</td>\n",
       "      <td>11.45</td>\n",
       "      <td>14.04</td>\n",
       "      <td>1027</td>\n",
       "      <td>1027.9</td>\n",
       "      <td>1004.4</td>\n",
       "      <td>81</td>\n",
       "      <td>1.96</td>\n",
       "      <td>0.0</td>\n",
       "      <td>87</td>\n",
       "      <td>overcast clouds</td>\n",
       "      <td>0.0</td>\n",
       "      <td>0.000</td>\n",
       "      <td>0.0</td>\n",
       "      <td>None</td>\n",
       "    </tr>\n",
       "    <tr>\n",
       "      <th>1</th>\n",
       "      <td>2021-09-29</td>\n",
       "      <td>1</td>\n",
       "      <td>Autumn</td>\n",
       "      <td>September</td>\n",
       "      <td>13.48</td>\n",
       "      <td>13.02</td>\n",
       "      <td>13.43</td>\n",
       "      <td>13.90</td>\n",
       "      <td>1028</td>\n",
       "      <td>1027.9</td>\n",
       "      <td>1004.4</td>\n",
       "      <td>82</td>\n",
       "      <td>1.83</td>\n",
       "      <td>0.0</td>\n",
       "      <td>91</td>\n",
       "      <td>overcast clouds</td>\n",
       "      <td>0.0</td>\n",
       "      <td>0.000</td>\n",
       "      <td>0.0</td>\n",
       "      <td>None</td>\n",
       "    </tr>\n",
       "    <tr>\n",
       "      <th>2</th>\n",
       "      <td>2021-09-29</td>\n",
       "      <td>2</td>\n",
       "      <td>Autumn</td>\n",
       "      <td>September</td>\n",
       "      <td>12.93</td>\n",
       "      <td>12.47</td>\n",
       "      <td>12.72</td>\n",
       "      <td>13.43</td>\n",
       "      <td>1027</td>\n",
       "      <td>1027.8</td>\n",
       "      <td>1004.3</td>\n",
       "      <td>84</td>\n",
       "      <td>1.96</td>\n",
       "      <td>0.0</td>\n",
       "      <td>93</td>\n",
       "      <td>overcast clouds</td>\n",
       "      <td>0.0</td>\n",
       "      <td>0.000</td>\n",
       "      <td>0.0</td>\n",
       "      <td>None</td>\n",
       "    </tr>\n",
       "    <tr>\n",
       "      <th>3</th>\n",
       "      <td>2021-09-29</td>\n",
       "      <td>3</td>\n",
       "      <td>Autumn</td>\n",
       "      <td>September</td>\n",
       "      <td>12.61</td>\n",
       "      <td>12.15</td>\n",
       "      <td>10.34</td>\n",
       "      <td>12.93</td>\n",
       "      <td>1027</td>\n",
       "      <td>1027.6</td>\n",
       "      <td>1004.1</td>\n",
       "      <td>85</td>\n",
       "      <td>1.85</td>\n",
       "      <td>0.0</td>\n",
       "      <td>95</td>\n",
       "      <td>overcast clouds</td>\n",
       "      <td>0.0</td>\n",
       "      <td>0.000</td>\n",
       "      <td>0.0</td>\n",
       "      <td>None</td>\n",
       "    </tr>\n",
       "    <tr>\n",
       "      <th>4</th>\n",
       "      <td>2021-09-29</td>\n",
       "      <td>4</td>\n",
       "      <td>Autumn</td>\n",
       "      <td>September</td>\n",
       "      <td>12.61</td>\n",
       "      <td>12.17</td>\n",
       "      <td>9.79</td>\n",
       "      <td>12.93</td>\n",
       "      <td>1027</td>\n",
       "      <td>1027.8</td>\n",
       "      <td>1004.3</td>\n",
       "      <td>86</td>\n",
       "      <td>1.83</td>\n",
       "      <td>0.0</td>\n",
       "      <td>93</td>\n",
       "      <td>overcast clouds</td>\n",
       "      <td>0.0</td>\n",
       "      <td>0.000</td>\n",
       "      <td>0.0</td>\n",
       "      <td>None</td>\n",
       "    </tr>\n",
       "    <tr>\n",
       "      <th>...</th>\n",
       "      <td>...</td>\n",
       "      <td>...</td>\n",
       "      <td>...</td>\n",
       "      <td>...</td>\n",
       "      <td>...</td>\n",
       "      <td>...</td>\n",
       "      <td>...</td>\n",
       "      <td>...</td>\n",
       "      <td>...</td>\n",
       "      <td>...</td>\n",
       "      <td>...</td>\n",
       "      <td>...</td>\n",
       "      <td>...</td>\n",
       "      <td>...</td>\n",
       "      <td>...</td>\n",
       "      <td>...</td>\n",
       "      <td>...</td>\n",
       "      <td>...</td>\n",
       "      <td>...</td>\n",
       "      <td>...</td>\n",
       "    </tr>\n",
       "    <tr>\n",
       "      <th>10992</th>\n",
       "      <td>2022-12-31</td>\n",
       "      <td>0</td>\n",
       "      <td>Winter</td>\n",
       "      <td>December</td>\n",
       "      <td>15.21</td>\n",
       "      <td>14.90</td>\n",
       "      <td>14.23</td>\n",
       "      <td>15.72</td>\n",
       "      <td>1021</td>\n",
       "      <td>1020.7</td>\n",
       "      <td>997.5</td>\n",
       "      <td>81</td>\n",
       "      <td>6.01</td>\n",
       "      <td>0.0</td>\n",
       "      <td>99</td>\n",
       "      <td>overcast clouds</td>\n",
       "      <td>0.0</td>\n",
       "      <td>0.718</td>\n",
       "      <td>0.0</td>\n",
       "      <td>None</td>\n",
       "    </tr>\n",
       "    <tr>\n",
       "      <th>10996</th>\n",
       "      <td>2022-12-31</td>\n",
       "      <td>4</td>\n",
       "      <td>Winter</td>\n",
       "      <td>December</td>\n",
       "      <td>14.24</td>\n",
       "      <td>13.65</td>\n",
       "      <td>13.43</td>\n",
       "      <td>14.72</td>\n",
       "      <td>1019</td>\n",
       "      <td>1019.2</td>\n",
       "      <td>996.0</td>\n",
       "      <td>74</td>\n",
       "      <td>5.89</td>\n",
       "      <td>0.0</td>\n",
       "      <td>66</td>\n",
       "      <td>broken clouds</td>\n",
       "      <td>0.0</td>\n",
       "      <td>0.604</td>\n",
       "      <td>0.0</td>\n",
       "      <td>None</td>\n",
       "    </tr>\n",
       "    <tr>\n",
       "      <th>10997</th>\n",
       "      <td>2022-12-31</td>\n",
       "      <td>5</td>\n",
       "      <td>Winter</td>\n",
       "      <td>December</td>\n",
       "      <td>14.24</td>\n",
       "      <td>13.57</td>\n",
       "      <td>13.43</td>\n",
       "      <td>14.72</td>\n",
       "      <td>1019</td>\n",
       "      <td>1018.8</td>\n",
       "      <td>995.6</td>\n",
       "      <td>71</td>\n",
       "      <td>5.72</td>\n",
       "      <td>0.0</td>\n",
       "      <td>37</td>\n",
       "      <td>scattered clouds</td>\n",
       "      <td>0.0</td>\n",
       "      <td>0.536</td>\n",
       "      <td>0.0</td>\n",
       "      <td>None</td>\n",
       "    </tr>\n",
       "    <tr>\n",
       "      <th>10998</th>\n",
       "      <td>2022-12-31</td>\n",
       "      <td>6</td>\n",
       "      <td>Winter</td>\n",
       "      <td>December</td>\n",
       "      <td>14.28</td>\n",
       "      <td>13.57</td>\n",
       "      <td>13.12</td>\n",
       "      <td>15.01</td>\n",
       "      <td>1019</td>\n",
       "      <td>1018.7</td>\n",
       "      <td>995.5</td>\n",
       "      <td>69</td>\n",
       "      <td>5.71</td>\n",
       "      <td>0.0</td>\n",
       "      <td>34</td>\n",
       "      <td>scattered clouds</td>\n",
       "      <td>0.0</td>\n",
       "      <td>0.474</td>\n",
       "      <td>0.0</td>\n",
       "      <td>None</td>\n",
       "    </tr>\n",
       "    <tr>\n",
       "      <th>10999</th>\n",
       "      <td>2022-12-31</td>\n",
       "      <td>7</td>\n",
       "      <td>Winter</td>\n",
       "      <td>December</td>\n",
       "      <td>14.48</td>\n",
       "      <td>13.76</td>\n",
       "      <td>13.68</td>\n",
       "      <td>15.01</td>\n",
       "      <td>1019</td>\n",
       "      <td>1018.8</td>\n",
       "      <td>995.7</td>\n",
       "      <td>68</td>\n",
       "      <td>5.82</td>\n",
       "      <td>0.0</td>\n",
       "      <td>43</td>\n",
       "      <td>scattered clouds</td>\n",
       "      <td>0.0</td>\n",
       "      <td>0.483</td>\n",
       "      <td>0.0</td>\n",
       "      <td>None</td>\n",
       "    </tr>\n",
       "  </tbody>\n",
       "</table>\n",
       "<p>8639 rows × 20 columns</p>\n",
       "</div>"
      ],
      "text/plain": [
       "             Date  Hour  Season      Month   temp  feels_like  temp_min  \\\n",
       "0      2021-09-29     0  Autumn  September  13.97       13.54     11.45   \n",
       "1      2021-09-29     1  Autumn  September  13.48       13.02     13.43   \n",
       "2      2021-09-29     2  Autumn  September  12.93       12.47     12.72   \n",
       "3      2021-09-29     3  Autumn  September  12.61       12.15     10.34   \n",
       "4      2021-09-29     4  Autumn  September  12.61       12.17      9.79   \n",
       "...           ...   ...     ...        ...    ...         ...       ...   \n",
       "10992  2022-12-31     0  Winter   December  15.21       14.90     14.23   \n",
       "10996  2022-12-31     4  Winter   December  14.24       13.65     13.43   \n",
       "10997  2022-12-31     5  Winter   December  14.24       13.57     13.43   \n",
       "10998  2022-12-31     6  Winter   December  14.28       13.57     13.12   \n",
       "10999  2022-12-31     7  Winter   December  14.48       13.76     13.68   \n",
       "\n",
       "       temp_max  pressure  sea_level  grnd_level  humidity  wind_speed  \\\n",
       "0         14.04      1027     1027.9      1004.4        81        1.96   \n",
       "1         13.90      1028     1027.9      1004.4        82        1.83   \n",
       "2         13.43      1027     1027.8      1004.3        84        1.96   \n",
       "3         12.93      1027     1027.6      1004.1        85        1.85   \n",
       "4         12.93      1027     1027.8      1004.3        86        1.83   \n",
       "...         ...       ...        ...         ...       ...         ...   \n",
       "10992     15.72      1021     1020.7       997.5        81        6.01   \n",
       "10996     14.72      1019     1019.2       996.0        74        5.89   \n",
       "10997     14.72      1019     1018.8       995.6        71        5.72   \n",
       "10998     15.01      1019     1018.7       995.5        69        5.71   \n",
       "10999     15.01      1019     1018.8       995.7        68        5.82   \n",
       "\n",
       "       rain_1h  clouds_all weather_description  Normal (kWh)  \\\n",
       "0          0.0          87     overcast clouds           0.0   \n",
       "1          0.0          91     overcast clouds           0.0   \n",
       "2          0.0          93     overcast clouds           0.0   \n",
       "3          0.0          95     overcast clouds           0.0   \n",
       "4          0.0          93     overcast clouds           0.0   \n",
       "...        ...         ...                 ...           ...   \n",
       "10992      0.0          99     overcast clouds           0.0   \n",
       "10996      0.0          66       broken clouds           0.0   \n",
       "10997      0.0          37    scattered clouds           0.0   \n",
       "10998      0.0          34    scattered clouds           0.0   \n",
       "10999      0.0          43    scattered clouds           0.0   \n",
       "\n",
       "       Horario Economico (kWh)  Autoconsumo (kWh) Injeçao na rede (kWh)  \n",
       "0                        0.000                0.0                  None  \n",
       "1                        0.000                0.0                  None  \n",
       "2                        0.000                0.0                  None  \n",
       "3                        0.000                0.0                  None  \n",
       "4                        0.000                0.0                  None  \n",
       "...                        ...                ...                   ...  \n",
       "10992                    0.718                0.0                  None  \n",
       "10996                    0.604                0.0                  None  \n",
       "10997                    0.536                0.0                  None  \n",
       "10998                    0.474                0.0                  None  \n",
       "10999                    0.483                0.0                  None  \n",
       "\n",
       "[8639 rows x 20 columns]"
      ]
     },
     "execution_count": 53,
     "metadata": {},
     "output_type": "execute_result"
    }
   ],
   "source": [
    "treino['Injeçao na rede (kWh)']= label_encoder_inr.inverse_transform(treino['Injeçao na rede (kWh)'])\n",
    "treino['weather_description']= label_encoder_wd.inverse_transform(treino['weather_description'])\n",
    "treino['Date']= label_encoder_d.inverse_transform(treino['Date'])\n",
    "treino['Season']= label_encoder_s.inverse_transform(treino['Season'])\n",
    "treino['Month']= label_encoder_m.inverse_transform(treino['Month'])\n",
    "treino"
   ]
  },
  {
   "cell_type": "markdown",
   "metadata": {},
   "source": [
    "## Fase 4: Tratamento de Dados pré modelação"
   ]
  },
  {
   "cell_type": "markdown",
   "metadata": {},
   "source": [
    "We already noticed that the feature 'pressure' has little to no impact in the target feature 'Injeçao na rede (kWh)'. We can now remove that feature."
   ]
  },
  {
   "cell_type": "code",
   "execution_count": 54,
   "metadata": {},
   "outputs": [],
   "source": [
    "treino.drop(columns=['pressure'], inplace=True, axis=1)\n",
    "teste.drop(columns=['pressure'], inplace=True, axis=1)"
   ]
  },
  {
   "cell_type": "markdown",
   "metadata": {},
   "source": [
    "Dropping of features with super low correlation with the target feature"
   ]
  },
  {
   "cell_type": "code",
   "execution_count": 55,
   "metadata": {},
   "outputs": [],
   "source": [
    "columns_to_drop = ['Date', 'Hour', 'Month', 'wind_speed', 'clouds_all']\n",
    "\n",
    "treino.drop(columns=columns_to_drop, inplace=True, axis=1)\n",
    "teste.drop(columns=columns_to_drop, inplace=True, axis=1)"
   ]
  },
  {
   "cell_type": "markdown",
   "metadata": {},
   "source": [
    "Our dataset is super inbalanced, there are much more None values in the target feature that all others. We are going to perform SMOTE (Syntetic Minority Over Sampling Technique) to address this inbalance."
   ]
  },
  {
   "cell_type": "code",
   "execution_count": 56,
   "metadata": {},
   "outputs": [],
   "source": [
    "order_mapping = {'None': 0, 'Low': 1, 'Medium': 2, 'High': 3, 'Very High': 4}\n",
    "treino['Injeçao na rede (kWh)'] = treino['Injeçao na rede (kWh)'].map(order_mapping)\n",
    "\n",
    "treino['weather_description'] = label_encoder_wd.fit_transform(treino['weather_description'])\n",
    "treino['Season'] = label_encoder_s.fit_transform(treino['Season']) "
   ]
  },
  {
   "cell_type": "code",
   "execution_count": 57,
   "metadata": {},
   "outputs": [
    {
     "data": {
      "text/plain": [
       "Injeçao na rede (kWh)\n",
       "0    6144\n",
       "2     841\n",
       "3     836\n",
       "4     447\n",
       "1     371\n",
       "Name: count, dtype: int64"
      ]
     },
     "execution_count": 57,
     "metadata": {},
     "output_type": "execute_result"
    }
   ],
   "source": [
    "treino['Injeçao na rede (kWh)'].value_counts()"
   ]
  },
  {
   "cell_type": "code",
   "execution_count": 58,
   "metadata": {},
   "outputs": [],
   "source": [
    "from imblearn.under_sampling import RandomUnderSampler\n",
    "from imblearn.over_sampling import SMOTE\n",
    "from imblearn.pipeline import Pipeline\n",
    "\n",
    "# Sampling Pipeline\n",
    "over_stategy={0:7777, 1:1500, 2:2000, 3: 2000, 4:1500}\n",
    "under_strategy={0:5000, 1: 1000, 2: 1500, 3: 1500, 4:1000}\n",
    "over = SMOTE(random_state=183, sampling_strategy=over_stategy)\n",
    "under = RandomUnderSampler(random_state=183, sampling_strategy=under_strategy)\n",
    "steps = [('over', over), ('under', under)]\n",
    "pipeline = Pipeline(steps=steps)\n",
    "\n",
    "X_treino = treino.drop('Injeçao na rede (kWh)', axis=1)\n",
    "y_treino = treino['Injeçao na rede (kWh)']\n",
    "\n",
    "X_treino_res, y_treino_res = pipeline.fit_resample(X_treino, y_treino) "
   ]
  },
  {
   "cell_type": "code",
   "execution_count": 59,
   "metadata": {},
   "outputs": [
    {
     "data": {
      "text/plain": [
       "Injeçao na rede (kWh)\n",
       "0    5000\n",
       "2    1500\n",
       "3    1500\n",
       "1    1000\n",
       "4    1000\n",
       "Name: count, dtype: int64"
      ]
     },
     "execution_count": 59,
     "metadata": {},
     "output_type": "execute_result"
    }
   ],
   "source": [
    "y_treino_res.value_counts()"
   ]
  },
  {
   "cell_type": "code",
   "execution_count": 60,
   "metadata": {},
   "outputs": [],
   "source": [
    "order_reverse_mapping = {0: 'None', 1: 'Low',2: 'Medium',3: 'High',4: 'Very High'}\n",
    "y_treino_res = y_treino_res.map(order_reverse_mapping)\n",
    "X_treino_res['weather_description'] = label_encoder_wd.inverse_transform(X_treino_res['weather_description'])\n",
    "X_treino_res['Season'] = label_encoder_s.inverse_transform(X_treino_res['Season']) "
   ]
  },
  {
   "cell_type": "markdown",
   "metadata": {},
   "source": [
    "Write the resulting datasets for later use."
   ]
  },
  {
   "cell_type": "code",
   "execution_count": 61,
   "metadata": {},
   "outputs": [],
   "source": [
    "X_treino_res['Injeçao na rede (kWh)'] = y_treino_res\n",
    "X_treino_res.to_csv(f'datasets/treinoTratado.csv', index=False)\n",
    "teste.to_csv(f'datasets/testeTratado.csv', index=False)"
   ]
  }
 ],
 "metadata": {
  "kernelspec": {
   "display_name": "DAA",
   "language": "python",
   "name": "python3"
  },
  "language_info": {
   "codemirror_mode": {
    "name": "ipython",
    "version": 3
   },
   "file_extension": ".py",
   "mimetype": "text/x-python",
   "name": "python",
   "nbconvert_exporter": "python",
   "pygments_lexer": "ipython3",
   "version": "3.10.0"
  }
 },
 "nbformat": 4,
 "nbformat_minor": 2
}
