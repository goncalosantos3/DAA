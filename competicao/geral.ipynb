{
 "cells": [
  {
   "cell_type": "markdown",
   "metadata": {},
   "source": [
    "# Dataset de competição"
   ]
  },
  {
   "cell_type": "markdown",
   "metadata": {},
   "source": [
    "## Fase 0: Imports e Leitura dos Dados"
   ]
  },
  {
   "cell_type": "code",
   "execution_count": 643,
   "metadata": {},
   "outputs": [],
   "source": [
    "import sklearn as skl\n",
    "import pandas as pd\n",
    "import matplotlib.pyplot as plt\n",
    "import seaborn as sns\n",
    "import re # Used in Data Processing\n",
    "from sklearn import preprocessing\n",
    "\n",
    "# Definir o número máximo de colunas do pandas para 40\n",
    "pd.set_option('display.max_columns', 40)"
   ]
  },
  {
   "cell_type": "markdown",
   "metadata": {},
   "source": [
    "The following configuration was implemented to avoid pandas from considering that the 'None' value in the column 'Injeçao na rede (kWh)' is NaN."
   ]
  },
  {
   "cell_type": "code",
   "execution_count": 644,
   "metadata": {},
   "outputs": [],
   "source": [
    "allowed_nans = ['', '#N/A', '#N/A N/A', '#NA', '-1.#IND', '-1.#QNAN',\n",
    "                '-NaN', '-nan', '1.#IND', '1.#QNAN', '<NA>', 'N/A', 'NA',\n",
    "                'NULL', 'NaN', 'n/a', 'nan', 'null']\n",
    "\n",
    "treino = pd.read_csv('datasets/treino.csv', na_values=allowed_nans, keep_default_na=False)\n",
    "teste = pd.read_csv('datasets/teste.csv', na_values=allowed_nans, keep_default_na=False)"
   ]
  },
  {
   "cell_type": "markdown",
   "metadata": {},
   "source": [
    "## Fase 1: Exploração Simples dos Dados"
   ]
  },
  {
   "cell_type": "code",
   "execution_count": 645,
   "metadata": {},
   "outputs": [
    {
     "data": {
      "text/plain": [
       "(11688, 21)"
      ]
     },
     "execution_count": 645,
     "metadata": {},
     "output_type": "execute_result"
    }
   ],
   "source": [
    "treino.shape"
   ]
  },
  {
   "cell_type": "code",
   "execution_count": 646,
   "metadata": {},
   "outputs": [
    {
     "data": {
      "text/plain": [
       "Index(['Data', 'Hora', 'Normal (kWh)', 'Horario Economico (kWh)',\n",
       "       'Autoconsumo (kWh)', 'Injeçao na rede (kWh)', 'dt', 'dt_iso',\n",
       "       'city_name', 'temp', 'feels_like', 'temp_min', 'temp_max', 'pressure',\n",
       "       'sea_level', 'grnd_level', 'humidity', 'wind_speed', 'rain_1h',\n",
       "       'clouds_all', 'weather_description'],\n",
       "      dtype='object')"
      ]
     },
     "execution_count": 646,
     "metadata": {},
     "output_type": "execute_result"
    }
   ],
   "source": [
    "treino.columns"
   ]
  },
  {
   "cell_type": "code",
   "execution_count": 647,
   "metadata": {},
   "outputs": [
    {
     "data": {
      "text/html": [
       "<div>\n",
       "<style scoped>\n",
       "    .dataframe tbody tr th:only-of-type {\n",
       "        vertical-align: middle;\n",
       "    }\n",
       "\n",
       "    .dataframe tbody tr th {\n",
       "        vertical-align: top;\n",
       "    }\n",
       "\n",
       "    .dataframe thead th {\n",
       "        text-align: right;\n",
       "    }\n",
       "</style>\n",
       "<table border=\"1\" class=\"dataframe\">\n",
       "  <thead>\n",
       "    <tr style=\"text-align: right;\">\n",
       "      <th></th>\n",
       "      <th>Data</th>\n",
       "      <th>Hora</th>\n",
       "      <th>Normal (kWh)</th>\n",
       "      <th>Horario Economico (kWh)</th>\n",
       "      <th>Autoconsumo (kWh)</th>\n",
       "      <th>Injeçao na rede (kWh)</th>\n",
       "      <th>dt</th>\n",
       "      <th>dt_iso</th>\n",
       "      <th>city_name</th>\n",
       "      <th>temp</th>\n",
       "      <th>feels_like</th>\n",
       "      <th>temp_min</th>\n",
       "      <th>temp_max</th>\n",
       "      <th>pressure</th>\n",
       "      <th>sea_level</th>\n",
       "      <th>grnd_level</th>\n",
       "      <th>humidity</th>\n",
       "      <th>wind_speed</th>\n",
       "      <th>rain_1h</th>\n",
       "      <th>clouds_all</th>\n",
       "      <th>weather_description</th>\n",
       "    </tr>\n",
       "  </thead>\n",
       "  <tbody>\n",
       "    <tr>\n",
       "      <th>0</th>\n",
       "      <td>NaN</td>\n",
       "      <td>NaN</td>\n",
       "      <td>NaN</td>\n",
       "      <td>NaN</td>\n",
       "      <td>NaN</td>\n",
       "      <td>NaN</td>\n",
       "      <td>1630454400</td>\n",
       "      <td>2021-09-01 00:00:00 +0000 UTC</td>\n",
       "      <td>local</td>\n",
       "      <td>18.74</td>\n",
       "      <td>18.84</td>\n",
       "      <td>15.72</td>\n",
       "      <td>20.34</td>\n",
       "      <td>1015</td>\n",
       "      <td>NaN</td>\n",
       "      <td>NaN</td>\n",
       "      <td>83</td>\n",
       "      <td>1.18</td>\n",
       "      <td>NaN</td>\n",
       "      <td>78</td>\n",
       "      <td>broken clouds</td>\n",
       "    </tr>\n",
       "    <tr>\n",
       "      <th>1</th>\n",
       "      <td>NaN</td>\n",
       "      <td>NaN</td>\n",
       "      <td>NaN</td>\n",
       "      <td>NaN</td>\n",
       "      <td>NaN</td>\n",
       "      <td>NaN</td>\n",
       "      <td>1630458000</td>\n",
       "      <td>2021-09-01 01:00:00 +0000 UTC</td>\n",
       "      <td>local</td>\n",
       "      <td>18.73</td>\n",
       "      <td>18.83</td>\n",
       "      <td>15.72</td>\n",
       "      <td>20.34</td>\n",
       "      <td>1014</td>\n",
       "      <td>NaN</td>\n",
       "      <td>NaN</td>\n",
       "      <td>83</td>\n",
       "      <td>1.46</td>\n",
       "      <td>NaN</td>\n",
       "      <td>92</td>\n",
       "      <td>overcast clouds</td>\n",
       "    </tr>\n",
       "    <tr>\n",
       "      <th>2</th>\n",
       "      <td>NaN</td>\n",
       "      <td>NaN</td>\n",
       "      <td>NaN</td>\n",
       "      <td>NaN</td>\n",
       "      <td>NaN</td>\n",
       "      <td>NaN</td>\n",
       "      <td>1630461600</td>\n",
       "      <td>2021-09-01 02:00:00 +0000 UTC</td>\n",
       "      <td>local</td>\n",
       "      <td>17.84</td>\n",
       "      <td>17.98</td>\n",
       "      <td>16.72</td>\n",
       "      <td>20.34</td>\n",
       "      <td>1014</td>\n",
       "      <td>NaN</td>\n",
       "      <td>NaN</td>\n",
       "      <td>88</td>\n",
       "      <td>1.05</td>\n",
       "      <td>NaN</td>\n",
       "      <td>91</td>\n",
       "      <td>overcast clouds</td>\n",
       "    </tr>\n",
       "    <tr>\n",
       "      <th>3</th>\n",
       "      <td>NaN</td>\n",
       "      <td>NaN</td>\n",
       "      <td>NaN</td>\n",
       "      <td>NaN</td>\n",
       "      <td>NaN</td>\n",
       "      <td>NaN</td>\n",
       "      <td>1630465200</td>\n",
       "      <td>2021-09-01 03:00:00 +0000 UTC</td>\n",
       "      <td>local</td>\n",
       "      <td>18.27</td>\n",
       "      <td>18.40</td>\n",
       "      <td>16.68</td>\n",
       "      <td>20.34</td>\n",
       "      <td>1014</td>\n",
       "      <td>NaN</td>\n",
       "      <td>NaN</td>\n",
       "      <td>86</td>\n",
       "      <td>0.46</td>\n",
       "      <td>0.14</td>\n",
       "      <td>94</td>\n",
       "      <td>light rain</td>\n",
       "    </tr>\n",
       "    <tr>\n",
       "      <th>4</th>\n",
       "      <td>NaN</td>\n",
       "      <td>NaN</td>\n",
       "      <td>NaN</td>\n",
       "      <td>NaN</td>\n",
       "      <td>NaN</td>\n",
       "      <td>NaN</td>\n",
       "      <td>1630468800</td>\n",
       "      <td>2021-09-01 04:00:00 +0000 UTC</td>\n",
       "      <td>local</td>\n",
       "      <td>17.81</td>\n",
       "      <td>17.97</td>\n",
       "      <td>16.12</td>\n",
       "      <td>20.34</td>\n",
       "      <td>1013</td>\n",
       "      <td>NaN</td>\n",
       "      <td>NaN</td>\n",
       "      <td>89</td>\n",
       "      <td>0.93</td>\n",
       "      <td>1.26</td>\n",
       "      <td>95</td>\n",
       "      <td>moderate rain</td>\n",
       "    </tr>\n",
       "  </tbody>\n",
       "</table>\n",
       "</div>"
      ],
      "text/plain": [
       "  Data  Hora  Normal (kWh)  Horario Economico (kWh)  Autoconsumo (kWh)  \\\n",
       "0  NaN   NaN           NaN                      NaN                NaN   \n",
       "1  NaN   NaN           NaN                      NaN                NaN   \n",
       "2  NaN   NaN           NaN                      NaN                NaN   \n",
       "3  NaN   NaN           NaN                      NaN                NaN   \n",
       "4  NaN   NaN           NaN                      NaN                NaN   \n",
       "\n",
       "  Injeçao na rede (kWh)          dt                         dt_iso city_name  \\\n",
       "0                   NaN  1630454400  2021-09-01 00:00:00 +0000 UTC     local   \n",
       "1                   NaN  1630458000  2021-09-01 01:00:00 +0000 UTC     local   \n",
       "2                   NaN  1630461600  2021-09-01 02:00:00 +0000 UTC     local   \n",
       "3                   NaN  1630465200  2021-09-01 03:00:00 +0000 UTC     local   \n",
       "4                   NaN  1630468800  2021-09-01 04:00:00 +0000 UTC     local   \n",
       "\n",
       "    temp  feels_like  temp_min  temp_max  pressure  sea_level  grnd_level  \\\n",
       "0  18.74       18.84     15.72     20.34      1015        NaN         NaN   \n",
       "1  18.73       18.83     15.72     20.34      1014        NaN         NaN   \n",
       "2  17.84       17.98     16.72     20.34      1014        NaN         NaN   \n",
       "3  18.27       18.40     16.68     20.34      1014        NaN         NaN   \n",
       "4  17.81       17.97     16.12     20.34      1013        NaN         NaN   \n",
       "\n",
       "   humidity  wind_speed  rain_1h  clouds_all weather_description  \n",
       "0        83        1.18      NaN          78       broken clouds  \n",
       "1        83        1.46      NaN          92     overcast clouds  \n",
       "2        88        1.05      NaN          91     overcast clouds  \n",
       "3        86        0.46     0.14          94          light rain  \n",
       "4        89        0.93     1.26          95       moderate rain  "
      ]
     },
     "execution_count": 647,
     "metadata": {},
     "output_type": "execute_result"
    }
   ],
   "source": [
    "treino.head()"
   ]
  },
  {
   "cell_type": "code",
   "execution_count": 648,
   "metadata": {},
   "outputs": [
    {
     "data": {
      "text/html": [
       "<div>\n",
       "<style scoped>\n",
       "    .dataframe tbody tr th:only-of-type {\n",
       "        vertical-align: middle;\n",
       "    }\n",
       "\n",
       "    .dataframe tbody tr th {\n",
       "        vertical-align: top;\n",
       "    }\n",
       "\n",
       "    .dataframe thead th {\n",
       "        text-align: right;\n",
       "    }\n",
       "</style>\n",
       "<table border=\"1\" class=\"dataframe\">\n",
       "  <thead>\n",
       "    <tr style=\"text-align: right;\">\n",
       "      <th></th>\n",
       "      <th>Hora</th>\n",
       "      <th>Normal (kWh)</th>\n",
       "      <th>Horario Economico (kWh)</th>\n",
       "      <th>Autoconsumo (kWh)</th>\n",
       "      <th>dt</th>\n",
       "      <th>temp</th>\n",
       "      <th>feels_like</th>\n",
       "      <th>temp_min</th>\n",
       "      <th>temp_max</th>\n",
       "      <th>pressure</th>\n",
       "      <th>sea_level</th>\n",
       "      <th>grnd_level</th>\n",
       "      <th>humidity</th>\n",
       "      <th>wind_speed</th>\n",
       "      <th>rain_1h</th>\n",
       "      <th>clouds_all</th>\n",
       "    </tr>\n",
       "  </thead>\n",
       "  <tbody>\n",
       "    <tr>\n",
       "      <th>count</th>\n",
       "      <td>11016.000000</td>\n",
       "      <td>11016.000000</td>\n",
       "      <td>11016.000000</td>\n",
       "      <td>11016.000000</td>\n",
       "      <td>1.168800e+04</td>\n",
       "      <td>11688.000000</td>\n",
       "      <td>11688.000000</td>\n",
       "      <td>11688.000000</td>\n",
       "      <td>11688.000000</td>\n",
       "      <td>11688.000000</td>\n",
       "      <td>0.0</td>\n",
       "      <td>0.0</td>\n",
       "      <td>11688.000000</td>\n",
       "      <td>11688.000000</td>\n",
       "      <td>2435.000000</td>\n",
       "      <td>11688.000000</td>\n",
       "    </tr>\n",
       "    <tr>\n",
       "      <th>mean</th>\n",
       "      <td>11.500000</td>\n",
       "      <td>0.202278</td>\n",
       "      <td>0.159714</td>\n",
       "      <td>0.117314</td>\n",
       "      <td>1.651491e+09</td>\n",
       "      <td>16.406638</td>\n",
       "      <td>16.076164</td>\n",
       "      <td>14.433353</td>\n",
       "      <td>17.502990</td>\n",
       "      <td>1018.304073</td>\n",
       "      <td>NaN</td>\n",
       "      <td>NaN</td>\n",
       "      <td>76.619011</td>\n",
       "      <td>2.647688</td>\n",
       "      <td>0.884760</td>\n",
       "      <td>54.258214</td>\n",
       "    </tr>\n",
       "    <tr>\n",
       "      <th>std</th>\n",
       "      <td>6.922501</td>\n",
       "      <td>0.349478</td>\n",
       "      <td>0.271792</td>\n",
       "      <td>0.176762</td>\n",
       "      <td>1.214705e+07</td>\n",
       "      <td>5.715977</td>\n",
       "      <td>6.217605</td>\n",
       "      <td>4.960590</td>\n",
       "      <td>6.112344</td>\n",
       "      <td>6.109727</td>\n",
       "      <td>NaN</td>\n",
       "      <td>NaN</td>\n",
       "      <td>16.157421</td>\n",
       "      <td>1.458574</td>\n",
       "      <td>1.073453</td>\n",
       "      <td>40.443374</td>\n",
       "    </tr>\n",
       "    <tr>\n",
       "      <th>min</th>\n",
       "      <td>0.000000</td>\n",
       "      <td>0.000000</td>\n",
       "      <td>0.000000</td>\n",
       "      <td>0.000000</td>\n",
       "      <td>1.630454e+09</td>\n",
       "      <td>0.320000</td>\n",
       "      <td>-2.190000</td>\n",
       "      <td>-0.640000</td>\n",
       "      <td>1.330000</td>\n",
       "      <td>994.000000</td>\n",
       "      <td>NaN</td>\n",
       "      <td>NaN</td>\n",
       "      <td>19.000000</td>\n",
       "      <td>0.060000</td>\n",
       "      <td>0.100000</td>\n",
       "      <td>0.000000</td>\n",
       "    </tr>\n",
       "    <tr>\n",
       "      <th>25%</th>\n",
       "      <td>5.750000</td>\n",
       "      <td>0.000000</td>\n",
       "      <td>0.000000</td>\n",
       "      <td>0.000000</td>\n",
       "      <td>1.640973e+09</td>\n",
       "      <td>12.350000</td>\n",
       "      <td>11.760000</td>\n",
       "      <td>10.900000</td>\n",
       "      <td>12.930000</td>\n",
       "      <td>1015.000000</td>\n",
       "      <td>NaN</td>\n",
       "      <td>NaN</td>\n",
       "      <td>66.000000</td>\n",
       "      <td>1.610000</td>\n",
       "      <td>0.210000</td>\n",
       "      <td>7.000000</td>\n",
       "    </tr>\n",
       "    <tr>\n",
       "      <th>50%</th>\n",
       "      <td>11.500000</td>\n",
       "      <td>0.000000</td>\n",
       "      <td>0.000000</td>\n",
       "      <td>0.000000</td>\n",
       "      <td>1.651491e+09</td>\n",
       "      <td>15.760000</td>\n",
       "      <td>15.675000</td>\n",
       "      <td>14.540000</td>\n",
       "      <td>16.720000</td>\n",
       "      <td>1018.000000</td>\n",
       "      <td>NaN</td>\n",
       "      <td>NaN</td>\n",
       "      <td>81.000000</td>\n",
       "      <td>2.380000</td>\n",
       "      <td>0.450000</td>\n",
       "      <td>60.000000</td>\n",
       "    </tr>\n",
       "    <tr>\n",
       "      <th>75%</th>\n",
       "      <td>17.250000</td>\n",
       "      <td>0.314000</td>\n",
       "      <td>0.288000</td>\n",
       "      <td>0.227000</td>\n",
       "      <td>1.662009e+09</td>\n",
       "      <td>19.540000</td>\n",
       "      <td>19.560000</td>\n",
       "      <td>17.720000</td>\n",
       "      <td>20.700000</td>\n",
       "      <td>1022.000000</td>\n",
       "      <td>NaN</td>\n",
       "      <td>NaN</td>\n",
       "      <td>91.000000</td>\n",
       "      <td>3.400000</td>\n",
       "      <td>1.070000</td>\n",
       "      <td>98.000000</td>\n",
       "    </tr>\n",
       "    <tr>\n",
       "      <th>max</th>\n",
       "      <td>23.000000</td>\n",
       "      <td>3.251000</td>\n",
       "      <td>6.978000</td>\n",
       "      <td>1.192000</td>\n",
       "      <td>1.672528e+09</td>\n",
       "      <td>40.850000</td>\n",
       "      <td>41.330000</td>\n",
       "      <td>36.720000</td>\n",
       "      <td>41.450000</td>\n",
       "      <td>1034.000000</td>\n",
       "      <td>NaN</td>\n",
       "      <td>NaN</td>\n",
       "      <td>100.000000</td>\n",
       "      <td>11.100000</td>\n",
       "      <td>7.450000</td>\n",
       "      <td>100.000000</td>\n",
       "    </tr>\n",
       "  </tbody>\n",
       "</table>\n",
       "</div>"
      ],
      "text/plain": [
       "               Hora  Normal (kWh)  Horario Economico (kWh)  Autoconsumo (kWh)  \\\n",
       "count  11016.000000  11016.000000             11016.000000       11016.000000   \n",
       "mean      11.500000      0.202278                 0.159714           0.117314   \n",
       "std        6.922501      0.349478                 0.271792           0.176762   \n",
       "min        0.000000      0.000000                 0.000000           0.000000   \n",
       "25%        5.750000      0.000000                 0.000000           0.000000   \n",
       "50%       11.500000      0.000000                 0.000000           0.000000   \n",
       "75%       17.250000      0.314000                 0.288000           0.227000   \n",
       "max       23.000000      3.251000                 6.978000           1.192000   \n",
       "\n",
       "                 dt          temp    feels_like      temp_min      temp_max  \\\n",
       "count  1.168800e+04  11688.000000  11688.000000  11688.000000  11688.000000   \n",
       "mean   1.651491e+09     16.406638     16.076164     14.433353     17.502990   \n",
       "std    1.214705e+07      5.715977      6.217605      4.960590      6.112344   \n",
       "min    1.630454e+09      0.320000     -2.190000     -0.640000      1.330000   \n",
       "25%    1.640973e+09     12.350000     11.760000     10.900000     12.930000   \n",
       "50%    1.651491e+09     15.760000     15.675000     14.540000     16.720000   \n",
       "75%    1.662009e+09     19.540000     19.560000     17.720000     20.700000   \n",
       "max    1.672528e+09     40.850000     41.330000     36.720000     41.450000   \n",
       "\n",
       "           pressure  sea_level  grnd_level      humidity    wind_speed  \\\n",
       "count  11688.000000        0.0         0.0  11688.000000  11688.000000   \n",
       "mean    1018.304073        NaN         NaN     76.619011      2.647688   \n",
       "std        6.109727        NaN         NaN     16.157421      1.458574   \n",
       "min      994.000000        NaN         NaN     19.000000      0.060000   \n",
       "25%     1015.000000        NaN         NaN     66.000000      1.610000   \n",
       "50%     1018.000000        NaN         NaN     81.000000      2.380000   \n",
       "75%     1022.000000        NaN         NaN     91.000000      3.400000   \n",
       "max     1034.000000        NaN         NaN    100.000000     11.100000   \n",
       "\n",
       "           rain_1h    clouds_all  \n",
       "count  2435.000000  11688.000000  \n",
       "mean      0.884760     54.258214  \n",
       "std       1.073453     40.443374  \n",
       "min       0.100000      0.000000  \n",
       "25%       0.210000      7.000000  \n",
       "50%       0.450000     60.000000  \n",
       "75%       1.070000     98.000000  \n",
       "max       7.450000    100.000000  "
      ]
     },
     "execution_count": 648,
     "metadata": {},
     "output_type": "execute_result"
    }
   ],
   "source": [
    "treino.describe()"
   ]
  },
  {
   "cell_type": "code",
   "execution_count": 649,
   "metadata": {},
   "outputs": [
    {
     "data": {
      "text/plain": [
       "False"
      ]
     },
     "execution_count": 649,
     "metadata": {},
     "output_type": "execute_result"
    }
   ],
   "source": [
    "treino.duplicated().any()"
   ]
  },
  {
   "cell_type": "code",
   "execution_count": 650,
   "metadata": {},
   "outputs": [
    {
     "data": {
      "text/plain": [
       "Data                        True\n",
       "Hora                        True\n",
       "Normal (kWh)                True\n",
       "Horario Economico (kWh)     True\n",
       "Autoconsumo (kWh)           True\n",
       "Injeçao na rede (kWh)       True\n",
       "dt                         False\n",
       "dt_iso                     False\n",
       "city_name                  False\n",
       "temp                       False\n",
       "feels_like                 False\n",
       "temp_min                   False\n",
       "temp_max                   False\n",
       "pressure                   False\n",
       "sea_level                   True\n",
       "grnd_level                  True\n",
       "humidity                   False\n",
       "wind_speed                 False\n",
       "rain_1h                     True\n",
       "clouds_all                 False\n",
       "weather_description        False\n",
       "dtype: bool"
      ]
     },
     "execution_count": 650,
     "metadata": {},
     "output_type": "execute_result"
    }
   ],
   "source": [
    "treino.isna().any()"
   ]
  },
  {
   "cell_type": "code",
   "execution_count": 651,
   "metadata": {},
   "outputs": [
    {
     "data": {
      "text/plain": [
       "Data                        object\n",
       "Hora                       float64\n",
       "Normal (kWh)               float64\n",
       "Horario Economico (kWh)    float64\n",
       "Autoconsumo (kWh)          float64\n",
       "Injeçao na rede (kWh)       object\n",
       "dt                           int64\n",
       "dt_iso                      object\n",
       "city_name                   object\n",
       "temp                       float64\n",
       "feels_like                 float64\n",
       "temp_min                   float64\n",
       "temp_max                   float64\n",
       "pressure                     int64\n",
       "sea_level                  float64\n",
       "grnd_level                 float64\n",
       "humidity                     int64\n",
       "wind_speed                 float64\n",
       "rain_1h                    float64\n",
       "clouds_all                   int64\n",
       "weather_description         object\n",
       "dtype: object"
      ]
     },
     "execution_count": 651,
     "metadata": {},
     "output_type": "execute_result"
    }
   ],
   "source": [
    "treino.dtypes"
   ]
  },
  {
   "cell_type": "code",
   "execution_count": 652,
   "metadata": {},
   "outputs": [
    {
     "data": {
      "text/plain": [
       "Normal (kWh)\n",
       "0.000    6018\n",
       "0.001      23\n",
       "0.008      19\n",
       "0.252      17\n",
       "0.016      17\n",
       "         ... \n",
       "1.746       1\n",
       "2.269       1\n",
       "1.374       1\n",
       "1.541       1\n",
       "1.098       1\n",
       "Name: count, Length: 1282, dtype: int64"
      ]
     },
     "execution_count": 652,
     "metadata": {},
     "output_type": "execute_result"
    }
   ],
   "source": [
    "treino['Normal (kWh)'].value_counts()"
   ]
  },
  {
   "cell_type": "code",
   "execution_count": 653,
   "metadata": {},
   "outputs": [
    {
     "data": {
      "text/plain": [
       "weather_description\n",
       "sky is clear            739\n",
       "overcast clouds         305\n",
       "light rain              299\n",
       "broken clouds           149\n",
       "scattered clouds        118\n",
       "few clouds               70\n",
       "moderate rain            65\n",
       "heavy intensity rain      7\n",
       "Name: count, dtype: int64"
      ]
     },
     "execution_count": 653,
     "metadata": {},
     "output_type": "execute_result"
    }
   ],
   "source": [
    "teste['weather_description'].value_counts()"
   ]
  },
  {
   "cell_type": "code",
   "execution_count": 654,
   "metadata": {},
   "outputs": [
    {
     "data": {
      "text/plain": [
       "9253"
      ]
     },
     "execution_count": 654,
     "metadata": {},
     "output_type": "execute_result"
    }
   ],
   "source": [
    "treino['rain_1h'].isna().sum()"
   ]
  },
  {
   "cell_type": "code",
   "execution_count": 655,
   "metadata": {},
   "outputs": [
    {
     "data": {
      "text/plain": [
       "2050"
      ]
     },
     "execution_count": 655,
     "metadata": {},
     "output_type": "execute_result"
    }
   ],
   "source": [
    "teste['rain_1h'].isna().sum()"
   ]
  },
  {
   "cell_type": "code",
   "execution_count": 656,
   "metadata": {},
   "outputs": [
    {
     "data": {
      "text/plain": [
       "city_name\n",
       "local    11688\n",
       "Name: count, dtype: int64"
      ]
     },
     "execution_count": 656,
     "metadata": {},
     "output_type": "execute_result"
    }
   ],
   "source": [
    "treino['city_name'].value_counts()"
   ]
  },
  {
   "cell_type": "code",
   "execution_count": 657,
   "metadata": {},
   "outputs": [
    {
     "data": {
      "text/plain": [
       "1"
      ]
     },
     "execution_count": 657,
     "metadata": {},
     "output_type": "execute_result"
    }
   ],
   "source": [
    "treino['city_name'].nunique()"
   ]
  },
  {
   "cell_type": "markdown",
   "metadata": {},
   "source": [
    "'city_name' is a useless column because it only has 1 value. "
   ]
  },
  {
   "cell_type": "code",
   "execution_count": 658,
   "metadata": {},
   "outputs": [
    {
     "data": {
      "text/plain": [
       "0"
      ]
     },
     "execution_count": 658,
     "metadata": {},
     "output_type": "execute_result"
    }
   ],
   "source": [
    "treino['dt_iso'].isna().sum()"
   ]
  },
  {
   "cell_type": "markdown",
   "metadata": {},
   "source": [
    "'dt_iso' has 0 missing values so it can replace the columns 'Data' and 'Hora' that have some missing values."
   ]
  },
  {
   "cell_type": "code",
   "execution_count": 659,
   "metadata": {},
   "outputs": [
    {
     "data": {
      "text/plain": [
       "11688"
      ]
     },
     "execution_count": 659,
     "metadata": {},
     "output_type": "execute_result"
    }
   ],
   "source": [
    "treino['sea_level'].isna().sum()"
   ]
  },
  {
   "cell_type": "markdown",
   "metadata": {},
   "source": [
    "For all the entries in the dataset, the feature 'sea_level' has a missing value. For this reason this feature is useless and must be removed."
   ]
  },
  {
   "cell_type": "code",
   "execution_count": 660,
   "metadata": {},
   "outputs": [
    {
     "data": {
      "text/plain": [
       "11688"
      ]
     },
     "execution_count": 660,
     "metadata": {},
     "output_type": "execute_result"
    }
   ],
   "source": [
    "treino['grnd_level'].isna().sum()"
   ]
  },
  {
   "cell_type": "markdown",
   "metadata": {},
   "source": [
    "For all the entries in the dataset, the feature 'grnd_level' has a missing value. For this reason this feature is useless and must be removed."
   ]
  },
  {
   "cell_type": "markdown",
   "metadata": {},
   "source": [
    "Checking for outliers in the features: \"Normal (kWH)\", \"Horario Economico (kWh)\" and \"Autoconsumo (kWh)\". This information lets us decide which way we are going to handle the missing values in this features."
   ]
  },
  {
   "cell_type": "code",
   "execution_count": 661,
   "metadata": {},
   "outputs": [
    {
     "data": {
      "text/plain": [
       "<Axes: >"
      ]
     },
     "execution_count": 661,
     "metadata": {},
     "output_type": "execute_result"
    }
   ],
   "source": [
    "tc = treino.copy()\n",
    "columns_to_drop = ['Data', 'Hora', 'Injeçao na rede (kWh)', 'dt', 'dt_iso', 'city_name', 'temp' ,'feels_like', 'temp_min', 'temp_max', 'pressure', 'sea_level', 'grnd_level', 'humidity', 'wind_speed', 'rain_1h', 'clouds_all', 'weather_description']\n",
    "tc.drop(columns_to_drop, inplace=True, axis=1)\n",
    "tc.boxplot()"
   ]
  },
  {
   "cell_type": "markdown",
   "metadata": {},
   "source": [
    "All 3 features have outliers, the best way to treat their missing values is by using the median and not the mean."
   ]
  },
  {
   "cell_type": "code",
   "execution_count": 662,
   "metadata": {},
   "outputs": [
    {
     "data": {
      "text/plain": [
       "Data                         672\n",
       "Hora                         672\n",
       "Normal (kWh)                 672\n",
       "Horario Economico (kWh)      672\n",
       "Autoconsumo (kWh)            672\n",
       "Injeçao na rede (kWh)        672\n",
       "dt                             0\n",
       "dt_iso                         0\n",
       "city_name                      0\n",
       "temp                           0\n",
       "feels_like                     0\n",
       "temp_min                       0\n",
       "temp_max                       0\n",
       "pressure                       0\n",
       "sea_level                  11688\n",
       "grnd_level                 11688\n",
       "humidity                       0\n",
       "wind_speed                     0\n",
       "rain_1h                     9253\n",
       "clouds_all                     0\n",
       "weather_description            0\n",
       "dtype: int64"
      ]
     },
     "execution_count": 662,
     "metadata": {},
     "output_type": "execute_result"
    }
   ],
   "source": [
    "treino.isna().sum()"
   ]
  },
  {
   "cell_type": "code",
   "execution_count": 663,
   "metadata": {},
   "outputs": [
    {
     "data": {
      "text/plain": [
       "Data                          0\n",
       "Hora                          0\n",
       "Normal (kWh)                  0\n",
       "Horario Economico (kWh)       0\n",
       "Autoconsumo (kWh)             0\n",
       "dt                          504\n",
       "dt_iso                        0\n",
       "city_name                   504\n",
       "temp                          0\n",
       "feels_like                    0\n",
       "temp_min                      0\n",
       "temp_max                      0\n",
       "pressure                    504\n",
       "sea_level                  1752\n",
       "grnd_level                 1752\n",
       "humidity                      0\n",
       "wind_speed                    0\n",
       "rain_1h                    2050\n",
       "clouds_all                    0\n",
       "weather_description         504\n",
       "dtype: int64"
      ]
     },
     "execution_count": 663,
     "metadata": {},
     "output_type": "execute_result"
    }
   ],
   "source": [
    "teste.isna().sum()"
   ]
  },
  {
   "cell_type": "markdown",
   "metadata": {},
   "source": [
    "## Fase 2: Tratamento dos Dados"
   ]
  },
  {
   "cell_type": "markdown",
   "metadata": {},
   "source": [
    "The column 'city_name' only has 1 possible value so it is useless and must the removed from the dataset. "
   ]
  },
  {
   "cell_type": "code",
   "execution_count": 664,
   "metadata": {},
   "outputs": [],
   "source": [
    "treino.drop('city_name', inplace=True, axis=1)\n",
    "teste.drop('city_name', inplace=True, axis=1)"
   ]
  },
  {
   "cell_type": "markdown",
   "metadata": {},
   "source": [
    "Like it was stated before, the features 'sea_level' and 'grnd_level' have 100% missing value presence and so must be removed."
   ]
  },
  {
   "cell_type": "code",
   "execution_count": 665,
   "metadata": {},
   "outputs": [],
   "source": [
    "treino.drop('sea_level', inplace=True, axis=1)\n",
    "treino.drop('grnd_level', inplace=True, axis=1)\n",
    "\n",
    "teste.drop('sea_level', inplace=True, axis=1)\n",
    "teste.drop('grnd_level', inplace=True, axis=1)"
   ]
  },
  {
   "cell_type": "markdown",
   "metadata": {},
   "source": [
    "The column 'dt_iso' will replace the columns 'Data' and 'Hora'. The 'dt_iso' column is going to also be split into two new columns: 'Date' and 'Hour'."
   ]
  },
  {
   "cell_type": "code",
   "execution_count": 666,
   "metadata": {},
   "outputs": [
    {
     "data": {
      "text/html": [
       "<div>\n",
       "<style scoped>\n",
       "    .dataframe tbody tr th:only-of-type {\n",
       "        vertical-align: middle;\n",
       "    }\n",
       "\n",
       "    .dataframe tbody tr th {\n",
       "        vertical-align: top;\n",
       "    }\n",
       "\n",
       "    .dataframe thead th {\n",
       "        text-align: right;\n",
       "    }\n",
       "</style>\n",
       "<table border=\"1\" class=\"dataframe\">\n",
       "  <thead>\n",
       "    <tr style=\"text-align: right;\">\n",
       "      <th></th>\n",
       "      <th>dt</th>\n",
       "      <th>Date</th>\n",
       "      <th>Hour</th>\n",
       "      <th>Normal (kWh)</th>\n",
       "      <th>Horario Economico (kWh)</th>\n",
       "      <th>Autoconsumo (kWh)</th>\n",
       "      <th>Injeçao na rede (kWh)</th>\n",
       "      <th>temp</th>\n",
       "      <th>feels_like</th>\n",
       "      <th>temp_min</th>\n",
       "      <th>temp_max</th>\n",
       "      <th>pressure</th>\n",
       "      <th>humidity</th>\n",
       "      <th>wind_speed</th>\n",
       "      <th>rain_1h</th>\n",
       "      <th>clouds_all</th>\n",
       "      <th>weather_description</th>\n",
       "    </tr>\n",
       "  </thead>\n",
       "  <tbody>\n",
       "    <tr>\n",
       "      <th>0</th>\n",
       "      <td>1630454400</td>\n",
       "      <td>2021-09-01</td>\n",
       "      <td>0</td>\n",
       "      <td>NaN</td>\n",
       "      <td>NaN</td>\n",
       "      <td>NaN</td>\n",
       "      <td>NaN</td>\n",
       "      <td>18.74</td>\n",
       "      <td>18.84</td>\n",
       "      <td>15.72</td>\n",
       "      <td>20.34</td>\n",
       "      <td>1015</td>\n",
       "      <td>83</td>\n",
       "      <td>1.18</td>\n",
       "      <td>NaN</td>\n",
       "      <td>78</td>\n",
       "      <td>broken clouds</td>\n",
       "    </tr>\n",
       "    <tr>\n",
       "      <th>1</th>\n",
       "      <td>1630458000</td>\n",
       "      <td>2021-09-01</td>\n",
       "      <td>1</td>\n",
       "      <td>NaN</td>\n",
       "      <td>NaN</td>\n",
       "      <td>NaN</td>\n",
       "      <td>NaN</td>\n",
       "      <td>18.73</td>\n",
       "      <td>18.83</td>\n",
       "      <td>15.72</td>\n",
       "      <td>20.34</td>\n",
       "      <td>1014</td>\n",
       "      <td>83</td>\n",
       "      <td>1.46</td>\n",
       "      <td>NaN</td>\n",
       "      <td>92</td>\n",
       "      <td>overcast clouds</td>\n",
       "    </tr>\n",
       "    <tr>\n",
       "      <th>2</th>\n",
       "      <td>1630461600</td>\n",
       "      <td>2021-09-01</td>\n",
       "      <td>2</td>\n",
       "      <td>NaN</td>\n",
       "      <td>NaN</td>\n",
       "      <td>NaN</td>\n",
       "      <td>NaN</td>\n",
       "      <td>17.84</td>\n",
       "      <td>17.98</td>\n",
       "      <td>16.72</td>\n",
       "      <td>20.34</td>\n",
       "      <td>1014</td>\n",
       "      <td>88</td>\n",
       "      <td>1.05</td>\n",
       "      <td>NaN</td>\n",
       "      <td>91</td>\n",
       "      <td>overcast clouds</td>\n",
       "    </tr>\n",
       "    <tr>\n",
       "      <th>3</th>\n",
       "      <td>1630465200</td>\n",
       "      <td>2021-09-01</td>\n",
       "      <td>3</td>\n",
       "      <td>NaN</td>\n",
       "      <td>NaN</td>\n",
       "      <td>NaN</td>\n",
       "      <td>NaN</td>\n",
       "      <td>18.27</td>\n",
       "      <td>18.40</td>\n",
       "      <td>16.68</td>\n",
       "      <td>20.34</td>\n",
       "      <td>1014</td>\n",
       "      <td>86</td>\n",
       "      <td>0.46</td>\n",
       "      <td>0.14</td>\n",
       "      <td>94</td>\n",
       "      <td>light rain</td>\n",
       "    </tr>\n",
       "    <tr>\n",
       "      <th>4</th>\n",
       "      <td>1630468800</td>\n",
       "      <td>2021-09-01</td>\n",
       "      <td>4</td>\n",
       "      <td>NaN</td>\n",
       "      <td>NaN</td>\n",
       "      <td>NaN</td>\n",
       "      <td>NaN</td>\n",
       "      <td>17.81</td>\n",
       "      <td>17.97</td>\n",
       "      <td>16.12</td>\n",
       "      <td>20.34</td>\n",
       "      <td>1013</td>\n",
       "      <td>89</td>\n",
       "      <td>0.93</td>\n",
       "      <td>1.26</td>\n",
       "      <td>95</td>\n",
       "      <td>moderate rain</td>\n",
       "    </tr>\n",
       "    <tr>\n",
       "      <th>...</th>\n",
       "      <td>...</td>\n",
       "      <td>...</td>\n",
       "      <td>...</td>\n",
       "      <td>...</td>\n",
       "      <td>...</td>\n",
       "      <td>...</td>\n",
       "      <td>...</td>\n",
       "      <td>...</td>\n",
       "      <td>...</td>\n",
       "      <td>...</td>\n",
       "      <td>...</td>\n",
       "      <td>...</td>\n",
       "      <td>...</td>\n",
       "      <td>...</td>\n",
       "      <td>...</td>\n",
       "      <td>...</td>\n",
       "      <td>...</td>\n",
       "    </tr>\n",
       "    <tr>\n",
       "      <th>11683</th>\n",
       "      <td>1672513200</td>\n",
       "      <td>2022-12-31</td>\n",
       "      <td>19</td>\n",
       "      <td>1.693</td>\n",
       "      <td>0.000</td>\n",
       "      <td>0.0</td>\n",
       "      <td>None</td>\n",
       "      <td>15.70</td>\n",
       "      <td>15.57</td>\n",
       "      <td>15.57</td>\n",
       "      <td>15.72</td>\n",
       "      <td>1018</td>\n",
       "      <td>86</td>\n",
       "      <td>5.56</td>\n",
       "      <td>3.58</td>\n",
       "      <td>100</td>\n",
       "      <td>moderate rain</td>\n",
       "    </tr>\n",
       "    <tr>\n",
       "      <th>11684</th>\n",
       "      <td>1672516800</td>\n",
       "      <td>2022-12-31</td>\n",
       "      <td>20</td>\n",
       "      <td>1.327</td>\n",
       "      <td>0.000</td>\n",
       "      <td>0.0</td>\n",
       "      <td>None</td>\n",
       "      <td>15.55</td>\n",
       "      <td>15.43</td>\n",
       "      <td>12.72</td>\n",
       "      <td>15.70</td>\n",
       "      <td>1018</td>\n",
       "      <td>87</td>\n",
       "      <td>4.47</td>\n",
       "      <td>4.20</td>\n",
       "      <td>100</td>\n",
       "      <td>heavy intensity rain</td>\n",
       "    </tr>\n",
       "    <tr>\n",
       "      <th>11685</th>\n",
       "      <td>1672520400</td>\n",
       "      <td>2022-12-31</td>\n",
       "      <td>21</td>\n",
       "      <td>0.757</td>\n",
       "      <td>0.000</td>\n",
       "      <td>0.0</td>\n",
       "      <td>None</td>\n",
       "      <td>13.45</td>\n",
       "      <td>13.28</td>\n",
       "      <td>12.23</td>\n",
       "      <td>13.99</td>\n",
       "      <td>1019</td>\n",
       "      <td>93</td>\n",
       "      <td>3.29</td>\n",
       "      <td>4.23</td>\n",
       "      <td>100</td>\n",
       "      <td>heavy intensity rain</td>\n",
       "    </tr>\n",
       "    <tr>\n",
       "      <th>11686</th>\n",
       "      <td>1672524000</td>\n",
       "      <td>2022-12-31</td>\n",
       "      <td>22</td>\n",
       "      <td>0.000</td>\n",
       "      <td>0.675</td>\n",
       "      <td>0.0</td>\n",
       "      <td>None</td>\n",
       "      <td>12.93</td>\n",
       "      <td>12.73</td>\n",
       "      <td>12.23</td>\n",
       "      <td>13.43</td>\n",
       "      <td>1019</td>\n",
       "      <td>94</td>\n",
       "      <td>1.49</td>\n",
       "      <td>3.90</td>\n",
       "      <td>100</td>\n",
       "      <td>moderate rain</td>\n",
       "    </tr>\n",
       "    <tr>\n",
       "      <th>11687</th>\n",
       "      <td>1672527600</td>\n",
       "      <td>2022-12-31</td>\n",
       "      <td>23</td>\n",
       "      <td>0.000</td>\n",
       "      <td>0.403</td>\n",
       "      <td>0.0</td>\n",
       "      <td>None</td>\n",
       "      <td>12.93</td>\n",
       "      <td>12.76</td>\n",
       "      <td>12.23</td>\n",
       "      <td>13.43</td>\n",
       "      <td>1019</td>\n",
       "      <td>95</td>\n",
       "      <td>1.93</td>\n",
       "      <td>4.07</td>\n",
       "      <td>100</td>\n",
       "      <td>heavy intensity rain</td>\n",
       "    </tr>\n",
       "  </tbody>\n",
       "</table>\n",
       "<p>11688 rows × 17 columns</p>\n",
       "</div>"
      ],
      "text/plain": [
       "               dt        Date  Hour  Normal (kWh)  Horario Economico (kWh)  \\\n",
       "0      1630454400  2021-09-01     0           NaN                      NaN   \n",
       "1      1630458000  2021-09-01     1           NaN                      NaN   \n",
       "2      1630461600  2021-09-01     2           NaN                      NaN   \n",
       "3      1630465200  2021-09-01     3           NaN                      NaN   \n",
       "4      1630468800  2021-09-01     4           NaN                      NaN   \n",
       "...           ...         ...   ...           ...                      ...   \n",
       "11683  1672513200  2022-12-31    19         1.693                    0.000   \n",
       "11684  1672516800  2022-12-31    20         1.327                    0.000   \n",
       "11685  1672520400  2022-12-31    21         0.757                    0.000   \n",
       "11686  1672524000  2022-12-31    22         0.000                    0.675   \n",
       "11687  1672527600  2022-12-31    23         0.000                    0.403   \n",
       "\n",
       "       Autoconsumo (kWh) Injeçao na rede (kWh)   temp  feels_like  temp_min  \\\n",
       "0                    NaN                   NaN  18.74       18.84     15.72   \n",
       "1                    NaN                   NaN  18.73       18.83     15.72   \n",
       "2                    NaN                   NaN  17.84       17.98     16.72   \n",
       "3                    NaN                   NaN  18.27       18.40     16.68   \n",
       "4                    NaN                   NaN  17.81       17.97     16.12   \n",
       "...                  ...                   ...    ...         ...       ...   \n",
       "11683                0.0                  None  15.70       15.57     15.57   \n",
       "11684                0.0                  None  15.55       15.43     12.72   \n",
       "11685                0.0                  None  13.45       13.28     12.23   \n",
       "11686                0.0                  None  12.93       12.73     12.23   \n",
       "11687                0.0                  None  12.93       12.76     12.23   \n",
       "\n",
       "       temp_max  pressure  humidity  wind_speed  rain_1h  clouds_all  \\\n",
       "0         20.34      1015        83        1.18      NaN          78   \n",
       "1         20.34      1014        83        1.46      NaN          92   \n",
       "2         20.34      1014        88        1.05      NaN          91   \n",
       "3         20.34      1014        86        0.46     0.14          94   \n",
       "4         20.34      1013        89        0.93     1.26          95   \n",
       "...         ...       ...       ...         ...      ...         ...   \n",
       "11683     15.72      1018        86        5.56     3.58         100   \n",
       "11684     15.70      1018        87        4.47     4.20         100   \n",
       "11685     13.99      1019        93        3.29     4.23         100   \n",
       "11686     13.43      1019        94        1.49     3.90         100   \n",
       "11687     13.43      1019        95        1.93     4.07         100   \n",
       "\n",
       "        weather_description  \n",
       "0             broken clouds  \n",
       "1           overcast clouds  \n",
       "2           overcast clouds  \n",
       "3                light rain  \n",
       "4             moderate rain  \n",
       "...                     ...  \n",
       "11683         moderate rain  \n",
       "11684  heavy intensity rain  \n",
       "11685  heavy intensity rain  \n",
       "11686         moderate rain  \n",
       "11687  heavy intensity rain  \n",
       "\n",
       "[11688 rows x 17 columns]"
      ]
     },
     "execution_count": 666,
     "metadata": {},
     "output_type": "execute_result"
    }
   ],
   "source": [
    "def toDate(d):\n",
    "    return re.search(r'\\d+\\-\\d+\\-\\d+', d).group()\n",
    "\n",
    "def toHour(h):\n",
    "    return re.search(r'(\\d+)\\:\\d+\\:\\d+', h).group(1)\n",
    "\n",
    "treino.drop('Data', inplace=True, axis=1)\n",
    "treino.drop('Hora', inplace=True, axis=1)\n",
    "hour = treino['dt_iso']\n",
    "treino.insert(0, 'Hour', hour)\n",
    "treino.rename(columns = {'dt_iso':'Date'}, inplace = True)\n",
    "\n",
    "dates = treino['Date'].apply(toDate)\n",
    "treino['Date'] = dates\n",
    "hours = treino['Hour'].apply(toHour)\n",
    "treino['Hour'] = hours\n",
    "treino['Hour'] = treino['Hour'].astype(int)\n",
    "\n",
    "dates = treino.pop('Date') \n",
    "treino.insert(0, 'Date', dates) \n",
    "dts = treino.pop('dt') \n",
    "treino.insert(0, 'dt', dts)\n",
    "treino"
   ]
  },
  {
   "cell_type": "markdown",
   "metadata": {},
   "source": [
    "For the \"teste\" dataset, we use the columns \"Data\" e \"Hora\" to replace the missing values from the \"dt_iso\" column, basically we do the opposite of the \"treino\" dataset."
   ]
  },
  {
   "cell_type": "code",
   "execution_count": 667,
   "metadata": {},
   "outputs": [
    {
     "data": {
      "text/html": [
       "<div>\n",
       "<style scoped>\n",
       "    .dataframe tbody tr th:only-of-type {\n",
       "        vertical-align: middle;\n",
       "    }\n",
       "\n",
       "    .dataframe tbody tr th {\n",
       "        vertical-align: top;\n",
       "    }\n",
       "\n",
       "    .dataframe thead th {\n",
       "        text-align: right;\n",
       "    }\n",
       "</style>\n",
       "<table border=\"1\" class=\"dataframe\">\n",
       "  <thead>\n",
       "    <tr style=\"text-align: right;\">\n",
       "      <th></th>\n",
       "      <th>dt</th>\n",
       "      <th>Date</th>\n",
       "      <th>Hour</th>\n",
       "      <th>Normal (kWh)</th>\n",
       "      <th>Horario Economico (kWh)</th>\n",
       "      <th>Autoconsumo (kWh)</th>\n",
       "      <th>temp</th>\n",
       "      <th>feels_like</th>\n",
       "      <th>temp_min</th>\n",
       "      <th>temp_max</th>\n",
       "      <th>pressure</th>\n",
       "      <th>humidity</th>\n",
       "      <th>wind_speed</th>\n",
       "      <th>rain_1h</th>\n",
       "      <th>clouds_all</th>\n",
       "      <th>weather_description</th>\n",
       "    </tr>\n",
       "  </thead>\n",
       "  <tbody>\n",
       "    <tr>\n",
       "      <th>0</th>\n",
       "      <td>1.672531e+09</td>\n",
       "      <td>2023-01-01</td>\n",
       "      <td>0</td>\n",
       "      <td>0.000</td>\n",
       "      <td>0.467</td>\n",
       "      <td>0.000</td>\n",
       "      <td>12.93</td>\n",
       "      <td>12.76</td>\n",
       "      <td>12.72</td>\n",
       "      <td>13.43</td>\n",
       "      <td>1019.0</td>\n",
       "      <td>95</td>\n",
       "      <td>2.02</td>\n",
       "      <td>3.72</td>\n",
       "      <td>100.0</td>\n",
       "      <td>moderate rain</td>\n",
       "    </tr>\n",
       "    <tr>\n",
       "      <th>1</th>\n",
       "      <td>1.672535e+09</td>\n",
       "      <td>2023-01-01</td>\n",
       "      <td>1</td>\n",
       "      <td>0.000</td>\n",
       "      <td>0.577</td>\n",
       "      <td>0.000</td>\n",
       "      <td>13.49</td>\n",
       "      <td>13.38</td>\n",
       "      <td>13.43</td>\n",
       "      <td>13.90</td>\n",
       "      <td>1018.0</td>\n",
       "      <td>95</td>\n",
       "      <td>2.18</td>\n",
       "      <td>3.26</td>\n",
       "      <td>100.0</td>\n",
       "      <td>moderate rain</td>\n",
       "    </tr>\n",
       "    <tr>\n",
       "      <th>2</th>\n",
       "      <td>1.672538e+09</td>\n",
       "      <td>2023-01-01</td>\n",
       "      <td>2</td>\n",
       "      <td>0.000</td>\n",
       "      <td>0.346</td>\n",
       "      <td>0.000</td>\n",
       "      <td>13.55</td>\n",
       "      <td>13.44</td>\n",
       "      <td>13.48</td>\n",
       "      <td>14.82</td>\n",
       "      <td>1017.0</td>\n",
       "      <td>95</td>\n",
       "      <td>2.88</td>\n",
       "      <td>2.44</td>\n",
       "      <td>100.0</td>\n",
       "      <td>moderate rain</td>\n",
       "    </tr>\n",
       "    <tr>\n",
       "      <th>3</th>\n",
       "      <td>1.672542e+09</td>\n",
       "      <td>2023-01-01</td>\n",
       "      <td>3</td>\n",
       "      <td>0.000</td>\n",
       "      <td>0.270</td>\n",
       "      <td>0.000</td>\n",
       "      <td>13.61</td>\n",
       "      <td>13.51</td>\n",
       "      <td>12.01</td>\n",
       "      <td>14.82</td>\n",
       "      <td>1016.0</td>\n",
       "      <td>95</td>\n",
       "      <td>3.63</td>\n",
       "      <td>1.74</td>\n",
       "      <td>100.0</td>\n",
       "      <td>moderate rain</td>\n",
       "    </tr>\n",
       "    <tr>\n",
       "      <th>4</th>\n",
       "      <td>1.672546e+09</td>\n",
       "      <td>2023-01-01</td>\n",
       "      <td>4</td>\n",
       "      <td>0.000</td>\n",
       "      <td>0.252</td>\n",
       "      <td>0.000</td>\n",
       "      <td>13.59</td>\n",
       "      <td>13.49</td>\n",
       "      <td>12.01</td>\n",
       "      <td>14.82</td>\n",
       "      <td>1015.0</td>\n",
       "      <td>95</td>\n",
       "      <td>4.58</td>\n",
       "      <td>1.13</td>\n",
       "      <td>100.0</td>\n",
       "      <td>moderate rain</td>\n",
       "    </tr>\n",
       "    <tr>\n",
       "      <th>...</th>\n",
       "      <td>...</td>\n",
       "      <td>...</td>\n",
       "      <td>...</td>\n",
       "      <td>...</td>\n",
       "      <td>...</td>\n",
       "      <td>...</td>\n",
       "      <td>...</td>\n",
       "      <td>...</td>\n",
       "      <td>...</td>\n",
       "      <td>...</td>\n",
       "      <td>...</td>\n",
       "      <td>...</td>\n",
       "      <td>...</td>\n",
       "      <td>...</td>\n",
       "      <td>...</td>\n",
       "      <td>...</td>\n",
       "    </tr>\n",
       "    <tr>\n",
       "      <th>2251</th>\n",
       "      <td>NaN</td>\n",
       "      <td>2023-04-04</td>\n",
       "      <td>19</td>\n",
       "      <td>0.953</td>\n",
       "      <td>0.000</td>\n",
       "      <td>0.012</td>\n",
       "      <td>20.10</td>\n",
       "      <td>18.10</td>\n",
       "      <td>3.60</td>\n",
       "      <td>20.40</td>\n",
       "      <td>NaN</td>\n",
       "      <td>35</td>\n",
       "      <td>1.20</td>\n",
       "      <td>NaN</td>\n",
       "      <td>0.0</td>\n",
       "      <td>NaN</td>\n",
       "    </tr>\n",
       "    <tr>\n",
       "      <th>2252</th>\n",
       "      <td>NaN</td>\n",
       "      <td>2023-04-04</td>\n",
       "      <td>20</td>\n",
       "      <td>0.915</td>\n",
       "      <td>0.000</td>\n",
       "      <td>0.000</td>\n",
       "      <td>13.60</td>\n",
       "      <td>11.50</td>\n",
       "      <td>3.60</td>\n",
       "      <td>20.40</td>\n",
       "      <td>NaN</td>\n",
       "      <td>63</td>\n",
       "      <td>2.47</td>\n",
       "      <td>NaN</td>\n",
       "      <td>0.0</td>\n",
       "      <td>NaN</td>\n",
       "    </tr>\n",
       "    <tr>\n",
       "      <th>2253</th>\n",
       "      <td>NaN</td>\n",
       "      <td>2023-04-04</td>\n",
       "      <td>21</td>\n",
       "      <td>0.479</td>\n",
       "      <td>0.000</td>\n",
       "      <td>0.000</td>\n",
       "      <td>12.60</td>\n",
       "      <td>10.60</td>\n",
       "      <td>3.60</td>\n",
       "      <td>20.40</td>\n",
       "      <td>NaN</td>\n",
       "      <td>67</td>\n",
       "      <td>2.22</td>\n",
       "      <td>NaN</td>\n",
       "      <td>2.0</td>\n",
       "      <td>NaN</td>\n",
       "    </tr>\n",
       "    <tr>\n",
       "      <th>2254</th>\n",
       "      <td>NaN</td>\n",
       "      <td>2023-04-04</td>\n",
       "      <td>22</td>\n",
       "      <td>0.000</td>\n",
       "      <td>0.497</td>\n",
       "      <td>0.000</td>\n",
       "      <td>11.70</td>\n",
       "      <td>9.50</td>\n",
       "      <td>3.60</td>\n",
       "      <td>20.40</td>\n",
       "      <td>NaN</td>\n",
       "      <td>68</td>\n",
       "      <td>2.41</td>\n",
       "      <td>NaN</td>\n",
       "      <td>1.0</td>\n",
       "      <td>NaN</td>\n",
       "    </tr>\n",
       "    <tr>\n",
       "      <th>2255</th>\n",
       "      <td>NaN</td>\n",
       "      <td>2023-04-04</td>\n",
       "      <td>23</td>\n",
       "      <td>0.000</td>\n",
       "      <td>0.487</td>\n",
       "      <td>0.000</td>\n",
       "      <td>9.70</td>\n",
       "      <td>7.50</td>\n",
       "      <td>3.60</td>\n",
       "      <td>20.40</td>\n",
       "      <td>NaN</td>\n",
       "      <td>77</td>\n",
       "      <td>2.24</td>\n",
       "      <td>NaN</td>\n",
       "      <td>0.0</td>\n",
       "      <td>NaN</td>\n",
       "    </tr>\n",
       "  </tbody>\n",
       "</table>\n",
       "<p>2256 rows × 16 columns</p>\n",
       "</div>"
      ],
      "text/plain": [
       "                dt        Date  Hour  Normal (kWh)  Horario Economico (kWh)  \\\n",
       "0     1.672531e+09  2023-01-01     0         0.000                    0.467   \n",
       "1     1.672535e+09  2023-01-01     1         0.000                    0.577   \n",
       "2     1.672538e+09  2023-01-01     2         0.000                    0.346   \n",
       "3     1.672542e+09  2023-01-01     3         0.000                    0.270   \n",
       "4     1.672546e+09  2023-01-01     4         0.000                    0.252   \n",
       "...            ...         ...   ...           ...                      ...   \n",
       "2251           NaN  2023-04-04    19         0.953                    0.000   \n",
       "2252           NaN  2023-04-04    20         0.915                    0.000   \n",
       "2253           NaN  2023-04-04    21         0.479                    0.000   \n",
       "2254           NaN  2023-04-04    22         0.000                    0.497   \n",
       "2255           NaN  2023-04-04    23         0.000                    0.487   \n",
       "\n",
       "      Autoconsumo (kWh)   temp  feels_like  temp_min  temp_max  pressure  \\\n",
       "0                 0.000  12.93       12.76     12.72     13.43    1019.0   \n",
       "1                 0.000  13.49       13.38     13.43     13.90    1018.0   \n",
       "2                 0.000  13.55       13.44     13.48     14.82    1017.0   \n",
       "3                 0.000  13.61       13.51     12.01     14.82    1016.0   \n",
       "4                 0.000  13.59       13.49     12.01     14.82    1015.0   \n",
       "...                 ...    ...         ...       ...       ...       ...   \n",
       "2251              0.012  20.10       18.10      3.60     20.40       NaN   \n",
       "2252              0.000  13.60       11.50      3.60     20.40       NaN   \n",
       "2253              0.000  12.60       10.60      3.60     20.40       NaN   \n",
       "2254              0.000  11.70        9.50      3.60     20.40       NaN   \n",
       "2255              0.000   9.70        7.50      3.60     20.40       NaN   \n",
       "\n",
       "      humidity  wind_speed  rain_1h  clouds_all weather_description  \n",
       "0           95        2.02     3.72       100.0       moderate rain  \n",
       "1           95        2.18     3.26       100.0       moderate rain  \n",
       "2           95        2.88     2.44       100.0       moderate rain  \n",
       "3           95        3.63     1.74       100.0       moderate rain  \n",
       "4           95        4.58     1.13       100.0       moderate rain  \n",
       "...        ...         ...      ...         ...                 ...  \n",
       "2251        35        1.20      NaN         0.0                 NaN  \n",
       "2252        63        2.47      NaN         0.0                 NaN  \n",
       "2253        67        2.22      NaN         2.0                 NaN  \n",
       "2254        68        2.41      NaN         1.0                 NaN  \n",
       "2255        77        2.24      NaN         0.0                 NaN  \n",
       "\n",
       "[2256 rows x 16 columns]"
      ]
     },
     "execution_count": 667,
     "metadata": {},
     "output_type": "execute_result"
    }
   ],
   "source": [
    "teste.drop('dt_iso', inplace=True, axis=1)\n",
    "teste.rename(columns = {'Data':'Date'}, inplace = True)\n",
    "teste.rename(columns = {'Hora':'Hour'}, inplace = True)\n",
    "teste['Hour'] = teste['Hour'].astype(int)\n",
    "\n",
    "dts = teste.pop('dt') \n",
    "teste.insert(0, 'dt', dts)\n",
    "teste"
   ]
  },
  {
   "cell_type": "markdown",
   "metadata": {},
   "source": [
    "The \"dt\" column is a timestamp (an id for the time), and so it is useless and must be removed"
   ]
  },
  {
   "cell_type": "code",
   "execution_count": 668,
   "metadata": {},
   "outputs": [],
   "source": [
    "treino.drop('dt', inplace=True, axis=1)\n",
    "teste.drop('dt', inplace=True, axis=1)"
   ]
  },
  {
   "cell_type": "markdown",
   "metadata": {},
   "source": [
    "Another 2 columns that we can create are the column 'Month', representing the current month of the instance, and the column 'Season', representing the current season of the instance."
   ]
  },
  {
   "cell_type": "code",
   "execution_count": 669,
   "metadata": {},
   "outputs": [],
   "source": [
    "months = treino['Date']\n",
    "seasons = treino['Date']\n",
    "\n",
    "treino.insert(3, 'Month', months)\n",
    "treino.insert(4, 'Season', seasons)\n",
    "\n",
    "monthsL = ['January', 'February', 'March', 'April', 'May', 'June', 'July', 'August', 'September', 'October', 'November', 'December']\n",
    "\n",
    "def toMonth(m):\n",
    "    return monthsL[int(re.search(r'\\-(\\d+)\\-', m).group(1))-1]\n",
    "\n",
    "def toSeason(s):\n",
    "    m = int(re.search(r'\\-(\\d+)\\-', s).group(1))\n",
    "    if m >= 3 and m <= 5:\n",
    "        return 'Spring'\n",
    "    if m >= 6 and m <= 8:\n",
    "        return 'Summer'\n",
    "    if m >= 9 and m <= 11:\n",
    "        return 'Autumn'\n",
    "    if (m >= 1 and m <= 2) or m == 12:\n",
    "        return 'Winter'\n",
    "\n",
    "months = treino['Month'].apply(toMonth)\n",
    "treino['Month'] = months\n",
    "seasons = treino['Season'].apply(toSeason)\n",
    "treino['Season'] = seasons\n",
    "\n",
    "seasons = treino.pop('Season')\n",
    "treino.insert(2, 'Season', seasons)\n",
    "\n",
    "mths = treino.pop('Month')\n",
    "treino.insert(3, 'Month', mths)\n",
    "\n",
    "# Teste\n",
    "months = teste['Date'].apply(toMonth)\n",
    "seasons = teste['Date'].apply(toSeason)\n",
    "\n",
    "teste.insert(2, 'Season', seasons)\n",
    "teste.insert(3, 'Month', months)"
   ]
  },
  {
   "cell_type": "markdown",
   "metadata": {},
   "source": [
    "A high percentage (80% of more), of both the \"treino\" and \"teste\" datasets for the feature \"rain_1h\" have missing values. In this case, the best approach to take is to remove the entire column"
   ]
  },
  {
   "cell_type": "code",
   "execution_count": 670,
   "metadata": {},
   "outputs": [],
   "source": [
    "treino.drop('rain_1h', inplace=True, axis=1)\n",
    "teste.drop('rain_1h', inplace=True, axis=1)"
   ]
  },
  {
   "cell_type": "markdown",
   "metadata": {},
   "source": [
    "The feature \"weather_description\" in the \"teste\" dataset has 504 entries with missing values. For now, we will use the mode to treat this missing values"
   ]
  },
  {
   "cell_type": "code",
   "execution_count": 671,
   "metadata": {},
   "outputs": [
    {
     "data": {
      "text/plain": [
       "array(['sky is clear', 'sky is clear', 'light rain', 'light rain',\n",
       "       'light rain', 'light rain', 'light rain', 'light rain',\n",
       "       'light rain', 'light rain', 'light rain', 'light rain',\n",
       "       'light rain', 'light rain', 'light rain', 'light rain',\n",
       "       'light rain', 'light rain', 'light rain', 'light rain',\n",
       "       'light rain', 'light rain', 'scattered clouds', 'scattered clouds',\n",
       "       'scattered clouds', 'scattered clouds', 'scattered clouds',\n",
       "       'scattered clouds', 'scattered clouds', 'scattered clouds',\n",
       "       'scattered clouds', 'scattered clouds', 'scattered clouds',\n",
       "       'scattered clouds', 'scattered clouds', 'scattered clouds',\n",
       "       'overcast clouds', 'overcast clouds', 'broken clouds',\n",
       "       'overcast clouds', 'overcast clouds', 'overcast clouds',\n",
       "       'overcast clouds', 'overcast clouds', 'overcast clouds',\n",
       "       'overcast clouds', 'light rain', 'light rain', 'scattered clouds',\n",
       "       'light rain', 'overcast clouds', 'overcast clouds', 'light rain',\n",
       "       'light rain', 'light rain', 'overcast clouds', 'light rain',\n",
       "       'light rain', 'light rain', 'light rain', 'scattered clouds',\n",
       "       'broken clouds', 'broken clouds', 'light rain', 'broken clouds',\n",
       "       'scattered clouds', 'scattered clouds', 'broken clouds',\n",
       "       'broken clouds', 'light rain', 'scattered clouds', 'light rain',\n",
       "       'overcast clouds', 'overcast clouds', 'overcast clouds',\n",
       "       'overcast clouds', 'overcast clouds', 'overcast clouds',\n",
       "       'overcast clouds', 'overcast clouds', 'overcast clouds',\n",
       "       'overcast clouds', 'overcast clouds', 'overcast clouds',\n",
       "       'overcast clouds', 'scattered clouds', 'scattered clouds',\n",
       "       'overcast clouds', 'broken clouds', 'scattered clouds',\n",
       "       'scattered clouds', 'few clouds', 'few clouds', 'scattered clouds',\n",
       "       'scattered clouds', 'sky is clear', 'light rain', 'light rain',\n",
       "       'light rain', 'light rain', 'light rain', 'light rain',\n",
       "       'light rain', 'light rain', 'light rain', 'light rain',\n",
       "       'scattered clouds', 'scattered clouds', 'light rain',\n",
       "       'scattered clouds', 'scattered clouds', 'scattered clouds',\n",
       "       'scattered clouds', 'light rain', 'light rain', 'scattered clouds',\n",
       "       'few clouds', 'light rain', 'sky is clear', 'sky is clear',\n",
       "       'scattered clouds', 'few clouds', 'scattered clouds',\n",
       "       'scattered clouds', 'scattered clouds', 'scattered clouds',\n",
       "       'scattered clouds', 'scattered clouds', 'scattered clouds',\n",
       "       'scattered clouds', 'scattered clouds', 'scattered clouds',\n",
       "       'scattered clouds', 'scattered clouds', 'scattered clouds',\n",
       "       'light rain', 'light rain', 'light rain', 'light rain',\n",
       "       'light rain', 'light rain', 'few clouds', 'few clouds',\n",
       "       'scattered clouds', 'light rain', 'overcast clouds',\n",
       "       'overcast clouds', 'overcast clouds', 'overcast clouds',\n",
       "       'overcast clouds', 'overcast clouds', 'overcast clouds',\n",
       "       'overcast clouds', 'scattered clouds', 'scattered clouds',\n",
       "       'scattered clouds', 'light rain', 'scattered clouds',\n",
       "       'scattered clouds', 'few clouds', 'few clouds', 'scattered clouds',\n",
       "       'few clouds', 'scattered clouds', 'scattered clouds', 'light rain',\n",
       "       'light rain', 'light rain', 'light rain', 'light rain',\n",
       "       'overcast clouds', 'overcast clouds', 'overcast clouds',\n",
       "       'overcast clouds', 'overcast clouds', 'overcast clouds',\n",
       "       'overcast clouds', 'overcast clouds', 'overcast clouds',\n",
       "       'overcast clouds', 'overcast clouds', 'overcast clouds',\n",
       "       'light rain', 'overcast clouds', 'light rain', 'light rain',\n",
       "       'overcast clouds', 'overcast clouds', 'overcast clouds',\n",
       "       'overcast clouds', 'overcast clouds', 'overcast clouds',\n",
       "       'overcast clouds', 'overcast clouds', 'overcast clouds',\n",
       "       'overcast clouds', 'overcast clouds', 'overcast clouds',\n",
       "       'overcast clouds', 'overcast clouds', 'light rain', 'light rain',\n",
       "       'overcast clouds', 'light rain', 'light rain', 'light rain',\n",
       "       'light rain', 'light rain', 'light rain', 'light rain',\n",
       "       'light rain', 'light rain', 'light rain', 'light rain',\n",
       "       'overcast clouds', 'overcast clouds', 'light rain',\n",
       "       'overcast clouds', 'overcast clouds', 'overcast clouds',\n",
       "       'overcast clouds', 'overcast clouds', 'overcast clouds',\n",
       "       'overcast clouds', 'scattered clouds', 'few clouds',\n",
       "       'scattered clouds', 'few clouds', 'few clouds', 'few clouds',\n",
       "       'light rain', 'light rain', 'light rain', 'light rain',\n",
       "       'light rain', 'light rain', 'light rain', 'light rain',\n",
       "       'sky is clear', 'sky is clear', 'sky is clear', 'scattered clouds',\n",
       "       'few clouds', 'scattered clouds', 'light rain', 'overcast clouds',\n",
       "       'light rain', 'overcast clouds', 'broken clouds',\n",
       "       'scattered clouds', 'broken clouds', 'light rain',\n",
       "       'overcast clouds', 'overcast clouds', 'light rain', 'light rain',\n",
       "       'light rain', 'light rain', 'light rain', 'light rain',\n",
       "       'light rain', 'overcast clouds', 'overcast clouds',\n",
       "       'scattered clouds', 'light rain', 'light rain', 'overcast clouds',\n",
       "       'overcast clouds', 'overcast clouds', 'overcast clouds',\n",
       "       'few clouds', 'scattered clouds', 'light rain', 'scattered clouds',\n",
       "       'scattered clouds', 'broken clouds', 'broken clouds',\n",
       "       'scattered clouds', 'few clouds', 'scattered clouds', 'few clouds',\n",
       "       'light rain', 'light rain', 'light rain', 'light rain',\n",
       "       'few clouds', 'few clouds', 'scattered clouds', 'scattered clouds',\n",
       "       'few clouds', 'sky is clear', 'light rain', 'light rain',\n",
       "       'light rain', 'light rain', 'sky is clear', 'light rain',\n",
       "       'light rain', 'light rain', 'light rain', 'light rain',\n",
       "       'light rain', 'light rain', 'light rain', 'few clouds',\n",
       "       'scattered clouds', 'scattered clouds', 'scattered clouds',\n",
       "       'scattered clouds', 'scattered clouds', 'scattered clouds',\n",
       "       'few clouds', 'light rain', 'light rain', 'sky is clear',\n",
       "       'scattered clouds', 'scattered clouds', 'light rain', 'few clouds',\n",
       "       'few clouds', 'few clouds', 'light rain', 'scattered clouds',\n",
       "       'scattered clouds', 'scattered clouds', 'broken clouds',\n",
       "       'broken clouds', 'scattered clouds', 'light rain', 'light rain',\n",
       "       'light rain', 'light rain', 'few clouds', 'light rain',\n",
       "       'scattered clouds', 'broken clouds', 'broken clouds',\n",
       "       'scattered clouds', 'scattered clouds', 'broken clouds',\n",
       "       'broken clouds', 'overcast clouds', 'broken clouds',\n",
       "       'overcast clouds', 'broken clouds', 'broken clouds',\n",
       "       'broken clouds', 'broken clouds', 'scattered clouds',\n",
       "       'scattered clouds', 'scattered clouds', 'light rain', 'light rain',\n",
       "       'light rain', 'overcast clouds', 'overcast clouds',\n",
       "       'broken clouds', 'overcast clouds', 'light rain', 'light rain',\n",
       "       'overcast clouds', 'overcast clouds', 'light rain',\n",
       "       'overcast clouds', 'overcast clouds', 'overcast clouds',\n",
       "       'overcast clouds', 'overcast clouds', 'overcast clouds',\n",
       "       'broken clouds', 'broken clouds', 'overcast clouds', 'light rain',\n",
       "       'light rain', 'light rain', 'light rain', 'light rain',\n",
       "       'light rain', 'light rain', 'light rain', 'light rain',\n",
       "       'light rain', 'moderate rain', 'moderate rain', 'overcast clouds',\n",
       "       'overcast clouds', 'overcast clouds', 'moderate rain',\n",
       "       'overcast clouds', 'overcast clouds', 'overcast clouds',\n",
       "       'overcast clouds', 'overcast clouds', 'overcast clouds',\n",
       "       'broken clouds', 'overcast clouds', 'overcast clouds',\n",
       "       'overcast clouds', 'light rain', 'light rain', 'broken clouds',\n",
       "       'broken clouds', 'broken clouds', 'few clouds', 'scattered clouds',\n",
       "       'scattered clouds', 'overcast clouds', 'overcast clouds',\n",
       "       'overcast clouds', 'overcast clouds', 'overcast clouds',\n",
       "       'overcast clouds', 'light rain', 'overcast clouds', 'light rain',\n",
       "       'light rain', 'overcast clouds', 'overcast clouds',\n",
       "       'overcast clouds', 'overcast clouds', 'overcast clouds',\n",
       "       'overcast clouds', 'overcast clouds', 'overcast clouds',\n",
       "       'overcast clouds', 'few clouds', 'light rain', 'light rain',\n",
       "       'light rain', 'light rain', 'sky is clear', 'light rain',\n",
       "       'sky is clear', 'light rain', 'few clouds', 'scattered clouds',\n",
       "       'scattered clouds', 'light rain', 'light rain', 'light rain',\n",
       "       'light rain', 'light rain', 'light rain', 'light rain',\n",
       "       'light rain', 'light rain', 'scattered clouds', 'scattered clouds',\n",
       "       'scattered clouds', 'scattered clouds', 'scattered clouds',\n",
       "       'scattered clouds', 'scattered clouds', 'scattered clouds',\n",
       "       'few clouds', 'sky is clear', 'sky is clear', 'few clouds',\n",
       "       'scattered clouds', 'scattered clouds', 'scattered clouds',\n",
       "       'scattered clouds', 'scattered clouds', 'broken clouds',\n",
       "       'scattered clouds', 'scattered clouds', 'scattered clouds',\n",
       "       'light rain', 'broken clouds', 'broken clouds', 'scattered clouds',\n",
       "       'scattered clouds', 'scattered clouds', 'broken clouds',\n",
       "       'overcast clouds', 'overcast clouds', 'broken clouds',\n",
       "       'scattered clouds', 'scattered clouds', 'broken clouds',\n",
       "       'broken clouds', 'overcast clouds', 'scattered clouds',\n",
       "       'scattered clouds', 'few clouds', 'light rain', 'light rain',\n",
       "       'sky is clear', 'light rain', 'light rain', 'light rain',\n",
       "       'light rain', 'light rain', 'light rain', 'light rain',\n",
       "       'light rain', 'light rain', 'light rain', 'light rain',\n",
       "       'light rain', 'light rain', 'light rain', 'light rain',\n",
       "       'light rain'], dtype=object)"
      ]
     },
     "execution_count": 671,
     "metadata": {},
     "output_type": "execute_result"
    }
   ],
   "source": [
    "# teste['weather_description'].fillna(teste['weather_description'].mode()[0], inplace=True)\n",
    "from sklearn.tree import DecisionTreeClassifier\n",
    "\n",
    "label_encoder_wd = preprocessing.LabelEncoder() \n",
    "\n",
    "teste_wd = teste.copy()\n",
    "\n",
    "teste_wd['Date'] = label_encoder_wd.fit_transform(teste_wd['Date'])\n",
    "teste_wd['Season'] = label_encoder_wd.fit_transform(teste_wd['Season'])\n",
    "teste_wd['Month'] = label_encoder_wd.fit_transform(teste_wd['Month'])\n",
    "\n",
    "treino_wd = teste_wd.dropna()\n",
    "teste_wd = teste_wd[teste_wd['weather_description'].isnull()]\n",
    "\n",
    "X_treino_wd = treino_wd.drop('weather_description', axis=1)\n",
    "y_treino_wd = treino_wd['weather_description']\n",
    "\n",
    "X_teste_wd = teste_wd.drop('weather_description', axis=1)\n",
    "\n",
    "clf = DecisionTreeClassifier(random_state=183)\n",
    "clf.fit(X_treino_wd, y_treino_wd)\n",
    "predictions = clf.predict(X_teste_wd)\n",
    "\n",
    "# Fill the missing values with the predictions\n",
    "indicies_of_missing = teste[teste['weather_description'].isnull()].index # list of the missing indices\n",
    "for fill_index, dataframe_index in enumerate(indicies_of_missing):\n",
    "    teste.loc[dataframe_index, 'weather_description'] = predictions[fill_index]\n",
    "\n",
    "predictions"
   ]
  },
  {
   "cell_type": "markdown",
   "metadata": {},
   "source": [
    "In the first 672 entries of the \"treino\" dataset the features \"Normal (kWh)\", \"Autoconsumo (kWh)\", \"Horario Economico (kWh)\" and \"Injeçao na rede (kWh)\" all have missing values. Because there is a large number of features with missing values in this entries and because this only represents 5% of the entire dataset we decided to remove all this entries."
   ]
  },
  {
   "cell_type": "code",
   "execution_count": 672,
   "metadata": {},
   "outputs": [],
   "source": [
    "treino.dropna(subset=['Injeçao na rede (kWh)'], inplace=True)"
   ]
  },
  {
   "cell_type": "code",
   "execution_count": 673,
   "metadata": {},
   "outputs": [
    {
     "data": {
      "text/html": [
       "<div>\n",
       "<style scoped>\n",
       "    .dataframe tbody tr th:only-of-type {\n",
       "        vertical-align: middle;\n",
       "    }\n",
       "\n",
       "    .dataframe tbody tr th {\n",
       "        vertical-align: top;\n",
       "    }\n",
       "\n",
       "    .dataframe thead th {\n",
       "        text-align: right;\n",
       "    }\n",
       "</style>\n",
       "<table border=\"1\" class=\"dataframe\">\n",
       "  <thead>\n",
       "    <tr style=\"text-align: right;\">\n",
       "      <th></th>\n",
       "      <th>Date</th>\n",
       "      <th>Hour</th>\n",
       "      <th>Season</th>\n",
       "      <th>Month</th>\n",
       "      <th>Normal (kWh)</th>\n",
       "      <th>Horario Economico (kWh)</th>\n",
       "      <th>Autoconsumo (kWh)</th>\n",
       "      <th>Injeçao na rede (kWh)</th>\n",
       "      <th>temp</th>\n",
       "      <th>feels_like</th>\n",
       "      <th>temp_min</th>\n",
       "      <th>temp_max</th>\n",
       "      <th>pressure</th>\n",
       "      <th>humidity</th>\n",
       "      <th>wind_speed</th>\n",
       "      <th>clouds_all</th>\n",
       "      <th>weather_description</th>\n",
       "    </tr>\n",
       "  </thead>\n",
       "  <tbody>\n",
       "    <tr>\n",
       "      <th>672</th>\n",
       "      <td>2021-09-29</td>\n",
       "      <td>0</td>\n",
       "      <td>Autumn</td>\n",
       "      <td>September</td>\n",
       "      <td>0.000</td>\n",
       "      <td>0.000</td>\n",
       "      <td>0.0</td>\n",
       "      <td>None</td>\n",
       "      <td>13.97</td>\n",
       "      <td>13.54</td>\n",
       "      <td>11.45</td>\n",
       "      <td>14.04</td>\n",
       "      <td>1027</td>\n",
       "      <td>81</td>\n",
       "      <td>1.96</td>\n",
       "      <td>87</td>\n",
       "      <td>overcast clouds</td>\n",
       "    </tr>\n",
       "    <tr>\n",
       "      <th>673</th>\n",
       "      <td>2021-09-29</td>\n",
       "      <td>1</td>\n",
       "      <td>Autumn</td>\n",
       "      <td>September</td>\n",
       "      <td>0.000</td>\n",
       "      <td>0.000</td>\n",
       "      <td>0.0</td>\n",
       "      <td>None</td>\n",
       "      <td>13.48</td>\n",
       "      <td>13.02</td>\n",
       "      <td>13.43</td>\n",
       "      <td>13.90</td>\n",
       "      <td>1028</td>\n",
       "      <td>82</td>\n",
       "      <td>1.83</td>\n",
       "      <td>91</td>\n",
       "      <td>overcast clouds</td>\n",
       "    </tr>\n",
       "    <tr>\n",
       "      <th>674</th>\n",
       "      <td>2021-09-29</td>\n",
       "      <td>2</td>\n",
       "      <td>Autumn</td>\n",
       "      <td>September</td>\n",
       "      <td>0.000</td>\n",
       "      <td>0.000</td>\n",
       "      <td>0.0</td>\n",
       "      <td>None</td>\n",
       "      <td>12.93</td>\n",
       "      <td>12.47</td>\n",
       "      <td>12.72</td>\n",
       "      <td>13.43</td>\n",
       "      <td>1027</td>\n",
       "      <td>84</td>\n",
       "      <td>1.96</td>\n",
       "      <td>93</td>\n",
       "      <td>overcast clouds</td>\n",
       "    </tr>\n",
       "    <tr>\n",
       "      <th>675</th>\n",
       "      <td>2021-09-29</td>\n",
       "      <td>3</td>\n",
       "      <td>Autumn</td>\n",
       "      <td>September</td>\n",
       "      <td>0.000</td>\n",
       "      <td>0.000</td>\n",
       "      <td>0.0</td>\n",
       "      <td>None</td>\n",
       "      <td>12.61</td>\n",
       "      <td>12.15</td>\n",
       "      <td>10.34</td>\n",
       "      <td>12.93</td>\n",
       "      <td>1027</td>\n",
       "      <td>85</td>\n",
       "      <td>1.85</td>\n",
       "      <td>95</td>\n",
       "      <td>overcast clouds</td>\n",
       "    </tr>\n",
       "    <tr>\n",
       "      <th>676</th>\n",
       "      <td>2021-09-29</td>\n",
       "      <td>4</td>\n",
       "      <td>Autumn</td>\n",
       "      <td>September</td>\n",
       "      <td>0.000</td>\n",
       "      <td>0.000</td>\n",
       "      <td>0.0</td>\n",
       "      <td>None</td>\n",
       "      <td>12.61</td>\n",
       "      <td>12.17</td>\n",
       "      <td>9.79</td>\n",
       "      <td>12.93</td>\n",
       "      <td>1027</td>\n",
       "      <td>86</td>\n",
       "      <td>1.83</td>\n",
       "      <td>93</td>\n",
       "      <td>overcast clouds</td>\n",
       "    </tr>\n",
       "    <tr>\n",
       "      <th>...</th>\n",
       "      <td>...</td>\n",
       "      <td>...</td>\n",
       "      <td>...</td>\n",
       "      <td>...</td>\n",
       "      <td>...</td>\n",
       "      <td>...</td>\n",
       "      <td>...</td>\n",
       "      <td>...</td>\n",
       "      <td>...</td>\n",
       "      <td>...</td>\n",
       "      <td>...</td>\n",
       "      <td>...</td>\n",
       "      <td>...</td>\n",
       "      <td>...</td>\n",
       "      <td>...</td>\n",
       "      <td>...</td>\n",
       "      <td>...</td>\n",
       "    </tr>\n",
       "    <tr>\n",
       "      <th>11683</th>\n",
       "      <td>2022-12-31</td>\n",
       "      <td>19</td>\n",
       "      <td>Winter</td>\n",
       "      <td>December</td>\n",
       "      <td>1.693</td>\n",
       "      <td>0.000</td>\n",
       "      <td>0.0</td>\n",
       "      <td>None</td>\n",
       "      <td>15.70</td>\n",
       "      <td>15.57</td>\n",
       "      <td>15.57</td>\n",
       "      <td>15.72</td>\n",
       "      <td>1018</td>\n",
       "      <td>86</td>\n",
       "      <td>5.56</td>\n",
       "      <td>100</td>\n",
       "      <td>moderate rain</td>\n",
       "    </tr>\n",
       "    <tr>\n",
       "      <th>11684</th>\n",
       "      <td>2022-12-31</td>\n",
       "      <td>20</td>\n",
       "      <td>Winter</td>\n",
       "      <td>December</td>\n",
       "      <td>1.327</td>\n",
       "      <td>0.000</td>\n",
       "      <td>0.0</td>\n",
       "      <td>None</td>\n",
       "      <td>15.55</td>\n",
       "      <td>15.43</td>\n",
       "      <td>12.72</td>\n",
       "      <td>15.70</td>\n",
       "      <td>1018</td>\n",
       "      <td>87</td>\n",
       "      <td>4.47</td>\n",
       "      <td>100</td>\n",
       "      <td>heavy intensity rain</td>\n",
       "    </tr>\n",
       "    <tr>\n",
       "      <th>11685</th>\n",
       "      <td>2022-12-31</td>\n",
       "      <td>21</td>\n",
       "      <td>Winter</td>\n",
       "      <td>December</td>\n",
       "      <td>0.757</td>\n",
       "      <td>0.000</td>\n",
       "      <td>0.0</td>\n",
       "      <td>None</td>\n",
       "      <td>13.45</td>\n",
       "      <td>13.28</td>\n",
       "      <td>12.23</td>\n",
       "      <td>13.99</td>\n",
       "      <td>1019</td>\n",
       "      <td>93</td>\n",
       "      <td>3.29</td>\n",
       "      <td>100</td>\n",
       "      <td>heavy intensity rain</td>\n",
       "    </tr>\n",
       "    <tr>\n",
       "      <th>11686</th>\n",
       "      <td>2022-12-31</td>\n",
       "      <td>22</td>\n",
       "      <td>Winter</td>\n",
       "      <td>December</td>\n",
       "      <td>0.000</td>\n",
       "      <td>0.675</td>\n",
       "      <td>0.0</td>\n",
       "      <td>None</td>\n",
       "      <td>12.93</td>\n",
       "      <td>12.73</td>\n",
       "      <td>12.23</td>\n",
       "      <td>13.43</td>\n",
       "      <td>1019</td>\n",
       "      <td>94</td>\n",
       "      <td>1.49</td>\n",
       "      <td>100</td>\n",
       "      <td>moderate rain</td>\n",
       "    </tr>\n",
       "    <tr>\n",
       "      <th>11687</th>\n",
       "      <td>2022-12-31</td>\n",
       "      <td>23</td>\n",
       "      <td>Winter</td>\n",
       "      <td>December</td>\n",
       "      <td>0.000</td>\n",
       "      <td>0.403</td>\n",
       "      <td>0.0</td>\n",
       "      <td>None</td>\n",
       "      <td>12.93</td>\n",
       "      <td>12.76</td>\n",
       "      <td>12.23</td>\n",
       "      <td>13.43</td>\n",
       "      <td>1019</td>\n",
       "      <td>95</td>\n",
       "      <td>1.93</td>\n",
       "      <td>100</td>\n",
       "      <td>heavy intensity rain</td>\n",
       "    </tr>\n",
       "  </tbody>\n",
       "</table>\n",
       "<p>11016 rows × 17 columns</p>\n",
       "</div>"
      ],
      "text/plain": [
       "             Date  Hour  Season      Month  Normal (kWh)  \\\n",
       "672    2021-09-29     0  Autumn  September         0.000   \n",
       "673    2021-09-29     1  Autumn  September         0.000   \n",
       "674    2021-09-29     2  Autumn  September         0.000   \n",
       "675    2021-09-29     3  Autumn  September         0.000   \n",
       "676    2021-09-29     4  Autumn  September         0.000   \n",
       "...           ...   ...     ...        ...           ...   \n",
       "11683  2022-12-31    19  Winter   December         1.693   \n",
       "11684  2022-12-31    20  Winter   December         1.327   \n",
       "11685  2022-12-31    21  Winter   December         0.757   \n",
       "11686  2022-12-31    22  Winter   December         0.000   \n",
       "11687  2022-12-31    23  Winter   December         0.000   \n",
       "\n",
       "       Horario Economico (kWh)  Autoconsumo (kWh) Injeçao na rede (kWh)  \\\n",
       "672                      0.000                0.0                  None   \n",
       "673                      0.000                0.0                  None   \n",
       "674                      0.000                0.0                  None   \n",
       "675                      0.000                0.0                  None   \n",
       "676                      0.000                0.0                  None   \n",
       "...                        ...                ...                   ...   \n",
       "11683                    0.000                0.0                  None   \n",
       "11684                    0.000                0.0                  None   \n",
       "11685                    0.000                0.0                  None   \n",
       "11686                    0.675                0.0                  None   \n",
       "11687                    0.403                0.0                  None   \n",
       "\n",
       "        temp  feels_like  temp_min  temp_max  pressure  humidity  wind_speed  \\\n",
       "672    13.97       13.54     11.45     14.04      1027        81        1.96   \n",
       "673    13.48       13.02     13.43     13.90      1028        82        1.83   \n",
       "674    12.93       12.47     12.72     13.43      1027        84        1.96   \n",
       "675    12.61       12.15     10.34     12.93      1027        85        1.85   \n",
       "676    12.61       12.17      9.79     12.93      1027        86        1.83   \n",
       "...      ...         ...       ...       ...       ...       ...         ...   \n",
       "11683  15.70       15.57     15.57     15.72      1018        86        5.56   \n",
       "11684  15.55       15.43     12.72     15.70      1018        87        4.47   \n",
       "11685  13.45       13.28     12.23     13.99      1019        93        3.29   \n",
       "11686  12.93       12.73     12.23     13.43      1019        94        1.49   \n",
       "11687  12.93       12.76     12.23     13.43      1019        95        1.93   \n",
       "\n",
       "       clouds_all   weather_description  \n",
       "672            87       overcast clouds  \n",
       "673            91       overcast clouds  \n",
       "674            93       overcast clouds  \n",
       "675            95       overcast clouds  \n",
       "676            93       overcast clouds  \n",
       "...           ...                   ...  \n",
       "11683         100         moderate rain  \n",
       "11684         100  heavy intensity rain  \n",
       "11685         100  heavy intensity rain  \n",
       "11686         100         moderate rain  \n",
       "11687         100  heavy intensity rain  \n",
       "\n",
       "[11016 rows x 17 columns]"
      ]
     },
     "execution_count": 673,
     "metadata": {},
     "output_type": "execute_result"
    }
   ],
   "source": [
    "treino"
   ]
  },
  {
   "cell_type": "code",
   "execution_count": 674,
   "metadata": {},
   "outputs": [
    {
     "data": {
      "text/html": [
       "<div>\n",
       "<style scoped>\n",
       "    .dataframe tbody tr th:only-of-type {\n",
       "        vertical-align: middle;\n",
       "    }\n",
       "\n",
       "    .dataframe tbody tr th {\n",
       "        vertical-align: top;\n",
       "    }\n",
       "\n",
       "    .dataframe thead th {\n",
       "        text-align: right;\n",
       "    }\n",
       "</style>\n",
       "<table border=\"1\" class=\"dataframe\">\n",
       "  <thead>\n",
       "    <tr style=\"text-align: right;\">\n",
       "      <th></th>\n",
       "      <th>Date</th>\n",
       "      <th>Hour</th>\n",
       "      <th>Season</th>\n",
       "      <th>Month</th>\n",
       "      <th>Normal (kWh)</th>\n",
       "      <th>Horario Economico (kWh)</th>\n",
       "      <th>Autoconsumo (kWh)</th>\n",
       "      <th>temp</th>\n",
       "      <th>feels_like</th>\n",
       "      <th>temp_min</th>\n",
       "      <th>temp_max</th>\n",
       "      <th>pressure</th>\n",
       "      <th>humidity</th>\n",
       "      <th>wind_speed</th>\n",
       "      <th>clouds_all</th>\n",
       "      <th>weather_description</th>\n",
       "    </tr>\n",
       "  </thead>\n",
       "  <tbody>\n",
       "    <tr>\n",
       "      <th>0</th>\n",
       "      <td>2023-01-01</td>\n",
       "      <td>0</td>\n",
       "      <td>Winter</td>\n",
       "      <td>January</td>\n",
       "      <td>0.000</td>\n",
       "      <td>0.467</td>\n",
       "      <td>0.000</td>\n",
       "      <td>12.93</td>\n",
       "      <td>12.76</td>\n",
       "      <td>12.72</td>\n",
       "      <td>13.43</td>\n",
       "      <td>1019.0</td>\n",
       "      <td>95</td>\n",
       "      <td>2.02</td>\n",
       "      <td>100.0</td>\n",
       "      <td>moderate rain</td>\n",
       "    </tr>\n",
       "    <tr>\n",
       "      <th>1</th>\n",
       "      <td>2023-01-01</td>\n",
       "      <td>1</td>\n",
       "      <td>Winter</td>\n",
       "      <td>January</td>\n",
       "      <td>0.000</td>\n",
       "      <td>0.577</td>\n",
       "      <td>0.000</td>\n",
       "      <td>13.49</td>\n",
       "      <td>13.38</td>\n",
       "      <td>13.43</td>\n",
       "      <td>13.90</td>\n",
       "      <td>1018.0</td>\n",
       "      <td>95</td>\n",
       "      <td>2.18</td>\n",
       "      <td>100.0</td>\n",
       "      <td>moderate rain</td>\n",
       "    </tr>\n",
       "    <tr>\n",
       "      <th>2</th>\n",
       "      <td>2023-01-01</td>\n",
       "      <td>2</td>\n",
       "      <td>Winter</td>\n",
       "      <td>January</td>\n",
       "      <td>0.000</td>\n",
       "      <td>0.346</td>\n",
       "      <td>0.000</td>\n",
       "      <td>13.55</td>\n",
       "      <td>13.44</td>\n",
       "      <td>13.48</td>\n",
       "      <td>14.82</td>\n",
       "      <td>1017.0</td>\n",
       "      <td>95</td>\n",
       "      <td>2.88</td>\n",
       "      <td>100.0</td>\n",
       "      <td>moderate rain</td>\n",
       "    </tr>\n",
       "    <tr>\n",
       "      <th>3</th>\n",
       "      <td>2023-01-01</td>\n",
       "      <td>3</td>\n",
       "      <td>Winter</td>\n",
       "      <td>January</td>\n",
       "      <td>0.000</td>\n",
       "      <td>0.270</td>\n",
       "      <td>0.000</td>\n",
       "      <td>13.61</td>\n",
       "      <td>13.51</td>\n",
       "      <td>12.01</td>\n",
       "      <td>14.82</td>\n",
       "      <td>1016.0</td>\n",
       "      <td>95</td>\n",
       "      <td>3.63</td>\n",
       "      <td>100.0</td>\n",
       "      <td>moderate rain</td>\n",
       "    </tr>\n",
       "    <tr>\n",
       "      <th>4</th>\n",
       "      <td>2023-01-01</td>\n",
       "      <td>4</td>\n",
       "      <td>Winter</td>\n",
       "      <td>January</td>\n",
       "      <td>0.000</td>\n",
       "      <td>0.252</td>\n",
       "      <td>0.000</td>\n",
       "      <td>13.59</td>\n",
       "      <td>13.49</td>\n",
       "      <td>12.01</td>\n",
       "      <td>14.82</td>\n",
       "      <td>1015.0</td>\n",
       "      <td>95</td>\n",
       "      <td>4.58</td>\n",
       "      <td>100.0</td>\n",
       "      <td>moderate rain</td>\n",
       "    </tr>\n",
       "    <tr>\n",
       "      <th>...</th>\n",
       "      <td>...</td>\n",
       "      <td>...</td>\n",
       "      <td>...</td>\n",
       "      <td>...</td>\n",
       "      <td>...</td>\n",
       "      <td>...</td>\n",
       "      <td>...</td>\n",
       "      <td>...</td>\n",
       "      <td>...</td>\n",
       "      <td>...</td>\n",
       "      <td>...</td>\n",
       "      <td>...</td>\n",
       "      <td>...</td>\n",
       "      <td>...</td>\n",
       "      <td>...</td>\n",
       "      <td>...</td>\n",
       "    </tr>\n",
       "    <tr>\n",
       "      <th>2251</th>\n",
       "      <td>2023-04-04</td>\n",
       "      <td>19</td>\n",
       "      <td>Spring</td>\n",
       "      <td>April</td>\n",
       "      <td>0.953</td>\n",
       "      <td>0.000</td>\n",
       "      <td>0.012</td>\n",
       "      <td>20.10</td>\n",
       "      <td>18.10</td>\n",
       "      <td>3.60</td>\n",
       "      <td>20.40</td>\n",
       "      <td>NaN</td>\n",
       "      <td>35</td>\n",
       "      <td>1.20</td>\n",
       "      <td>0.0</td>\n",
       "      <td>light rain</td>\n",
       "    </tr>\n",
       "    <tr>\n",
       "      <th>2252</th>\n",
       "      <td>2023-04-04</td>\n",
       "      <td>20</td>\n",
       "      <td>Spring</td>\n",
       "      <td>April</td>\n",
       "      <td>0.915</td>\n",
       "      <td>0.000</td>\n",
       "      <td>0.000</td>\n",
       "      <td>13.60</td>\n",
       "      <td>11.50</td>\n",
       "      <td>3.60</td>\n",
       "      <td>20.40</td>\n",
       "      <td>NaN</td>\n",
       "      <td>63</td>\n",
       "      <td>2.47</td>\n",
       "      <td>0.0</td>\n",
       "      <td>light rain</td>\n",
       "    </tr>\n",
       "    <tr>\n",
       "      <th>2253</th>\n",
       "      <td>2023-04-04</td>\n",
       "      <td>21</td>\n",
       "      <td>Spring</td>\n",
       "      <td>April</td>\n",
       "      <td>0.479</td>\n",
       "      <td>0.000</td>\n",
       "      <td>0.000</td>\n",
       "      <td>12.60</td>\n",
       "      <td>10.60</td>\n",
       "      <td>3.60</td>\n",
       "      <td>20.40</td>\n",
       "      <td>NaN</td>\n",
       "      <td>67</td>\n",
       "      <td>2.22</td>\n",
       "      <td>2.0</td>\n",
       "      <td>light rain</td>\n",
       "    </tr>\n",
       "    <tr>\n",
       "      <th>2254</th>\n",
       "      <td>2023-04-04</td>\n",
       "      <td>22</td>\n",
       "      <td>Spring</td>\n",
       "      <td>April</td>\n",
       "      <td>0.000</td>\n",
       "      <td>0.497</td>\n",
       "      <td>0.000</td>\n",
       "      <td>11.70</td>\n",
       "      <td>9.50</td>\n",
       "      <td>3.60</td>\n",
       "      <td>20.40</td>\n",
       "      <td>NaN</td>\n",
       "      <td>68</td>\n",
       "      <td>2.41</td>\n",
       "      <td>1.0</td>\n",
       "      <td>light rain</td>\n",
       "    </tr>\n",
       "    <tr>\n",
       "      <th>2255</th>\n",
       "      <td>2023-04-04</td>\n",
       "      <td>23</td>\n",
       "      <td>Spring</td>\n",
       "      <td>April</td>\n",
       "      <td>0.000</td>\n",
       "      <td>0.487</td>\n",
       "      <td>0.000</td>\n",
       "      <td>9.70</td>\n",
       "      <td>7.50</td>\n",
       "      <td>3.60</td>\n",
       "      <td>20.40</td>\n",
       "      <td>NaN</td>\n",
       "      <td>77</td>\n",
       "      <td>2.24</td>\n",
       "      <td>0.0</td>\n",
       "      <td>light rain</td>\n",
       "    </tr>\n",
       "  </tbody>\n",
       "</table>\n",
       "<p>2256 rows × 16 columns</p>\n",
       "</div>"
      ],
      "text/plain": [
       "            Date  Hour  Season    Month  Normal (kWh)  \\\n",
       "0     2023-01-01     0  Winter  January         0.000   \n",
       "1     2023-01-01     1  Winter  January         0.000   \n",
       "2     2023-01-01     2  Winter  January         0.000   \n",
       "3     2023-01-01     3  Winter  January         0.000   \n",
       "4     2023-01-01     4  Winter  January         0.000   \n",
       "...          ...   ...     ...      ...           ...   \n",
       "2251  2023-04-04    19  Spring    April         0.953   \n",
       "2252  2023-04-04    20  Spring    April         0.915   \n",
       "2253  2023-04-04    21  Spring    April         0.479   \n",
       "2254  2023-04-04    22  Spring    April         0.000   \n",
       "2255  2023-04-04    23  Spring    April         0.000   \n",
       "\n",
       "      Horario Economico (kWh)  Autoconsumo (kWh)   temp  feels_like  temp_min  \\\n",
       "0                       0.467              0.000  12.93       12.76     12.72   \n",
       "1                       0.577              0.000  13.49       13.38     13.43   \n",
       "2                       0.346              0.000  13.55       13.44     13.48   \n",
       "3                       0.270              0.000  13.61       13.51     12.01   \n",
       "4                       0.252              0.000  13.59       13.49     12.01   \n",
       "...                       ...                ...    ...         ...       ...   \n",
       "2251                    0.000              0.012  20.10       18.10      3.60   \n",
       "2252                    0.000              0.000  13.60       11.50      3.60   \n",
       "2253                    0.000              0.000  12.60       10.60      3.60   \n",
       "2254                    0.497              0.000  11.70        9.50      3.60   \n",
       "2255                    0.487              0.000   9.70        7.50      3.60   \n",
       "\n",
       "      temp_max  pressure  humidity  wind_speed  clouds_all weather_description  \n",
       "0        13.43    1019.0        95        2.02       100.0       moderate rain  \n",
       "1        13.90    1018.0        95        2.18       100.0       moderate rain  \n",
       "2        14.82    1017.0        95        2.88       100.0       moderate rain  \n",
       "3        14.82    1016.0        95        3.63       100.0       moderate rain  \n",
       "4        14.82    1015.0        95        4.58       100.0       moderate rain  \n",
       "...        ...       ...       ...         ...         ...                 ...  \n",
       "2251     20.40       NaN        35        1.20         0.0          light rain  \n",
       "2252     20.40       NaN        63        2.47         0.0          light rain  \n",
       "2253     20.40       NaN        67        2.22         2.0          light rain  \n",
       "2254     20.40       NaN        68        2.41         1.0          light rain  \n",
       "2255     20.40       NaN        77        2.24         0.0          light rain  \n",
       "\n",
       "[2256 rows x 16 columns]"
      ]
     },
     "execution_count": 674,
     "metadata": {},
     "output_type": "execute_result"
    }
   ],
   "source": [
    "teste"
   ]
  },
  {
   "cell_type": "markdown",
   "metadata": {},
   "source": [
    "## Fase 3: Exploração Detalhada"
   ]
  },
  {
   "cell_type": "code",
   "execution_count": 675,
   "metadata": {},
   "outputs": [
    {
     "name": "stderr",
     "output_type": "stream",
     "text": [
      "/home/goncalo/miniconda3/envs/DAA/lib/python3.10/site-packages/seaborn/_oldcore.py:1498: FutureWarning: is_categorical_dtype is deprecated and will be removed in a future version. Use isinstance(dtype, CategoricalDtype) instead\n",
      "  if pd.api.types.is_categorical_dtype(vector):\n",
      "/home/goncalo/miniconda3/envs/DAA/lib/python3.10/site-packages/seaborn/_oldcore.py:1498: FutureWarning: is_categorical_dtype is deprecated and will be removed in a future version. Use isinstance(dtype, CategoricalDtype) instead\n",
      "  if pd.api.types.is_categorical_dtype(vector):\n",
      "/home/goncalo/miniconda3/envs/DAA/lib/python3.10/site-packages/seaborn/_oldcore.py:1498: FutureWarning: is_categorical_dtype is deprecated and will be removed in a future version. Use isinstance(dtype, CategoricalDtype) instead\n",
      "  if pd.api.types.is_categorical_dtype(vector):\n"
     ]
    },
    {
     "data": {
      "image/png": "[encoded data removed]",
      "text/plain": [
       "<Figure size 640x480 with 1 Axes>"
      ]
     },
     "metadata": {},
     "output_type": "display_data"
    }
   ],
   "source": [
    "sns.countplot(x='Injeçao na rede (kWh)', data=treino)\n",
    "plt.show()"
   ]
  },
  {
   "cell_type": "markdown",
   "metadata": {},
   "source": [
    "### 'Hour' vs 'Normal (kWh)'"
   ]
  },
  {
   "cell_type": "code",
   "execution_count": 676,
   "metadata": {},
   "outputs": [
    {
     "name": "stderr",
     "output_type": "stream",
     "text": [
      "/home/goncalo/miniconda3/envs/DAA/lib/python3.10/site-packages/seaborn/_oldcore.py:1498: FutureWarning: is_categorical_dtype is deprecated and will be removed in a future version. Use isinstance(dtype, CategoricalDtype) instead\n",
      "  if pd.api.types.is_categorical_dtype(vector):\n",
      "/home/goncalo/miniconda3/envs/DAA/lib/python3.10/site-packages/seaborn/_oldcore.py:1498: FutureWarning: is_categorical_dtype is deprecated and will be removed in a future version. Use isinstance(dtype, CategoricalDtype) instead\n",
      "  if pd.api.types.is_categorical_dtype(vector):\n",
      "/home/goncalo/miniconda3/envs/DAA/lib/python3.10/site-packages/seaborn/_oldcore.py:1498: FutureWarning: is_categorical_dtype is deprecated and will be removed in a future version. Use isinstance(dtype, CategoricalDtype) instead\n",
      "  if pd.api.types.is_categorical_dtype(vector):\n"
     ]
    },
    {
     "data": {
      "image/png": "[encoded data removed]",
      "text/plain": [
       "<Figure size 640x480 with 1 Axes>"
      ]
     },
     "metadata": {},
     "output_type": "display_data"
    }
   ],
   "source": [
    "sns.barplot(x='Hour', y='Normal (kWh)', data=treino)\n",
    "plt.show()"
   ]
  },
  {
   "cell_type": "markdown",
   "metadata": {},
   "source": [
    "### 'Hour' vs 'Horario Economico (kWh)'"
   ]
  },
  {
   "cell_type": "code",
   "execution_count": 677,
   "metadata": {},
   "outputs": [
    {
     "name": "stderr",
     "output_type": "stream",
     "text": [
      "/home/goncalo/miniconda3/envs/DAA/lib/python3.10/site-packages/seaborn/_oldcore.py:1498: FutureWarning: is_categorical_dtype is deprecated and will be removed in a future version. Use isinstance(dtype, CategoricalDtype) instead\n",
      "  if pd.api.types.is_categorical_dtype(vector):\n",
      "/home/goncalo/miniconda3/envs/DAA/lib/python3.10/site-packages/seaborn/_oldcore.py:1498: FutureWarning: is_categorical_dtype is deprecated and will be removed in a future version. Use isinstance(dtype, CategoricalDtype) instead\n",
      "  if pd.api.types.is_categorical_dtype(vector):\n",
      "/home/goncalo/miniconda3/envs/DAA/lib/python3.10/site-packages/seaborn/_oldcore.py:1498: FutureWarning: is_categorical_dtype is deprecated and will be removed in a future version. Use isinstance(dtype, CategoricalDtype) instead\n",
      "  if pd.api.types.is_categorical_dtype(vector):\n"
     ]
    },
    {
     "data": {
      "image/png": "[encoded data removed]",
      "text/plain": [
       "<Figure size 640x480 with 1 Axes>"
      ]
     },
     "metadata": {},
     "output_type": "display_data"
    }
   ],
   "source": [
    "sns.barplot(x='Hour', y='Horario Economico (kWh)', data=treino)\n",
    "plt.show()"
   ]
  },
  {
   "cell_type": "markdown",
   "metadata": {},
   "source": [
    "### Relation: 'Month' with 'Injeçao na rede (kWh)'"
   ]
  },
  {
   "cell_type": "code",
   "execution_count": 678,
   "metadata": {},
   "outputs": [
    {
     "name": "stderr",
     "output_type": "stream",
     "text": [
      "/home/goncalo/miniconda3/envs/DAA/lib/python3.10/site-packages/seaborn/_oldcore.py:1498: FutureWarning: is_categorical_dtype is deprecated and will be removed in a future version. Use isinstance(dtype, CategoricalDtype) instead\n",
      "  if pd.api.types.is_categorical_dtype(vector):\n",
      "/home/goncalo/miniconda3/envs/DAA/lib/python3.10/site-packages/seaborn/_oldcore.py:1498: FutureWarning: is_categorical_dtype is deprecated and will be removed in a future version. Use isinstance(dtype, CategoricalDtype) instead\n",
      "  if pd.api.types.is_categorical_dtype(vector):\n",
      "/home/goncalo/miniconda3/envs/DAA/lib/python3.10/site-packages/seaborn/_oldcore.py:1498: FutureWarning: is_categorical_dtype is deprecated and will be removed in a future version. Use isinstance(dtype, CategoricalDtype) instead\n",
      "  if pd.api.types.is_categorical_dtype(vector):\n"
     ]
    },
    {
     "data": {
      "image/png": "[encoded data removed]",
      "text/plain": [
       "<Figure size 640x480 with 1 Axes>"
      ]
     },
     "metadata": {},
     "output_type": "display_data"
    }
   ],
   "source": [
    "sns.countplot(x='Month', order=monthsL, hue='Injeçao na rede (kWh)', data=treino)\n",
    "plt.show()"
   ]
  },
  {
   "cell_type": "markdown",
   "metadata": {},
   "source": [
    "### Relation: 'Season' with 'Injeçao na rede (kWh)'"
   ]
  },
  {
   "cell_type": "code",
   "execution_count": 679,
   "metadata": {},
   "outputs": [
    {
     "name": "stderr",
     "output_type": "stream",
     "text": [
      "/home/goncalo/miniconda3/envs/DAA/lib/python3.10/site-packages/seaborn/_oldcore.py:1498: FutureWarning: is_categorical_dtype is deprecated and will be removed in a future version. Use isinstance(dtype, CategoricalDtype) instead\n",
      "  if pd.api.types.is_categorical_dtype(vector):\n",
      "/home/goncalo/miniconda3/envs/DAA/lib/python3.10/site-packages/seaborn/_oldcore.py:1498: FutureWarning: is_categorical_dtype is deprecated and will be removed in a future version. Use isinstance(dtype, CategoricalDtype) instead\n",
      "  if pd.api.types.is_categorical_dtype(vector):\n",
      "/home/goncalo/miniconda3/envs/DAA/lib/python3.10/site-packages/seaborn/_oldcore.py:1498: FutureWarning: is_categorical_dtype is deprecated and will be removed in a future version. Use isinstance(dtype, CategoricalDtype) instead\n",
      "  if pd.api.types.is_categorical_dtype(vector):\n",
      "/home/goncalo/miniconda3/envs/DAA/lib/python3.10/site-packages/seaborn/_oldcore.py:1498: FutureWarning: is_categorical_dtype is deprecated and will be removed in a future version. Use isinstance(dtype, CategoricalDtype) instead\n",
      "  if pd.api.types.is_categorical_dtype(vector):\n"
     ]
    },
    {
     "data": {
      "image/png": "[encoded data removed]",
      "text/plain": [
       "<Figure size 640x480 with 1 Axes>"
      ]
     },
     "metadata": {},
     "output_type": "display_data"
    }
   ],
   "source": [
    "sns.countplot(x='Season', hue='Injeçao na rede (kWh)', data=treino)\n",
    "plt.show()"
   ]
  },
  {
   "cell_type": "markdown",
   "metadata": {},
   "source": [
    "### Relation: 'Normal (kWh)' with 'Injeçao na rede (kWh)'"
   ]
  },
  {
   "cell_type": "code",
   "execution_count": 680,
   "metadata": {},
   "outputs": [
    {
     "name": "stderr",
     "output_type": "stream",
     "text": [
      "/home/goncalo/miniconda3/envs/DAA/lib/python3.10/site-packages/seaborn/_oldcore.py:1498: FutureWarning: is_categorical_dtype is deprecated and will be removed in a future version. Use isinstance(dtype, CategoricalDtype) instead\n",
      "  if pd.api.types.is_categorical_dtype(vector):\n",
      "/home/goncalo/miniconda3/envs/DAA/lib/python3.10/site-packages/seaborn/_oldcore.py:1498: FutureWarning: is_categorical_dtype is deprecated and will be removed in a future version. Use isinstance(dtype, CategoricalDtype) instead\n",
      "  if pd.api.types.is_categorical_dtype(vector):\n",
      "/home/goncalo/miniconda3/envs/DAA/lib/python3.10/site-packages/seaborn/_oldcore.py:1498: FutureWarning: is_categorical_dtype is deprecated and will be removed in a future version. Use isinstance(dtype, CategoricalDtype) instead\n",
      "  if pd.api.types.is_categorical_dtype(vector):\n"
     ]
    },
    {
     "data": {
      "image/png": "[encoded data removed]",
      "text/plain": [
       "<Figure size 640x480 with 1 Axes>"
      ]
     },
     "metadata": {},
     "output_type": "display_data"
    }
   ],
   "source": [
    "sns.barplot(x='Injeçao na rede (kWh)', y='Normal (kWh)', data=treino)\n",
    "plt.show()"
   ]
  },
  {
   "cell_type": "markdown",
   "metadata": {},
   "source": [
    "### Relation: 'Horario Economico (kWh)' with 'Injeçao na rede (kWh)'"
   ]
  },
  {
   "cell_type": "code",
   "execution_count": 681,
   "metadata": {},
   "outputs": [
    {
     "name": "stderr",
     "output_type": "stream",
     "text": [
      "/home/goncalo/miniconda3/envs/DAA/lib/python3.10/site-packages/seaborn/_oldcore.py:1498: FutureWarning: is_categorical_dtype is deprecated and will be removed in a future version. Use isinstance(dtype, CategoricalDtype) instead\n",
      "  if pd.api.types.is_categorical_dtype(vector):\n",
      "/home/goncalo/miniconda3/envs/DAA/lib/python3.10/site-packages/seaborn/_oldcore.py:1498: FutureWarning: is_categorical_dtype is deprecated and will be removed in a future version. Use isinstance(dtype, CategoricalDtype) instead\n",
      "  if pd.api.types.is_categorical_dtype(vector):\n",
      "/home/goncalo/miniconda3/envs/DAA/lib/python3.10/site-packages/seaborn/_oldcore.py:1498: FutureWarning: is_categorical_dtype is deprecated and will be removed in a future version. Use isinstance(dtype, CategoricalDtype) instead\n",
      "  if pd.api.types.is_categorical_dtype(vector):\n"
     ]
    },
    {
     "data": {
      "image/png": "[encoded data removed]",
      "text/plain": [
       "<Figure size 640x480 with 1 Axes>"
      ]
     },
     "metadata": {},
     "output_type": "display_data"
    }
   ],
   "source": [
    "sns.barplot(x='Injeçao na rede (kWh)', y='Horario Economico (kWh)', data=treino)\n",
    "plt.show()"
   ]
  },
  {
   "cell_type": "markdown",
   "metadata": {},
   "source": [
    "### Relation: 'Autoconsumo (kWh)' with 'Injeçao na rede (kWh)'"
   ]
  },
  {
   "cell_type": "code",
   "execution_count": 682,
   "metadata": {},
   "outputs": [
    {
     "name": "stderr",
     "output_type": "stream",
     "text": [
      "/home/goncalo/miniconda3/envs/DAA/lib/python3.10/site-packages/seaborn/_oldcore.py:1498: FutureWarning: is_categorical_dtype is deprecated and will be removed in a future version. Use isinstance(dtype, CategoricalDtype) instead\n",
      "  if pd.api.types.is_categorical_dtype(vector):\n",
      "/home/goncalo/miniconda3/envs/DAA/lib/python3.10/site-packages/seaborn/_oldcore.py:1498: FutureWarning: is_categorical_dtype is deprecated and will be removed in a future version. Use isinstance(dtype, CategoricalDtype) instead\n",
      "  if pd.api.types.is_categorical_dtype(vector):\n",
      "/home/goncalo/miniconda3/envs/DAA/lib/python3.10/site-packages/seaborn/_oldcore.py:1498: FutureWarning: is_categorical_dtype is deprecated and will be removed in a future version. Use isinstance(dtype, CategoricalDtype) instead\n",
      "  if pd.api.types.is_categorical_dtype(vector):\n"
     ]
    },
    {
     "data": {
      "image/png": "[encoded data removed]",
      "text/plain": [
       "<Figure size 640x480 with 1 Axes>"
      ]
     },
     "metadata": {},
     "output_type": "display_data"
    }
   ],
   "source": [
    "sns.barplot(x='Injeçao na rede (kWh)', y='Autoconsumo (kWh)', data=treino)\n",
    "plt.show()"
   ]
  },
  {
   "cell_type": "markdown",
   "metadata": {},
   "source": [
    "### Relation: 'temp' with 'Injeçao na rede (kWh)'"
   ]
  },
  {
   "cell_type": "code",
   "execution_count": 683,
   "metadata": {},
   "outputs": [
    {
     "name": "stderr",
     "output_type": "stream",
     "text": [
      "/home/goncalo/miniconda3/envs/DAA/lib/python3.10/site-packages/seaborn/_oldcore.py:1498: FutureWarning: is_categorical_dtype is deprecated and will be removed in a future version. Use isinstance(dtype, CategoricalDtype) instead\n",
      "  if pd.api.types.is_categorical_dtype(vector):\n",
      "/home/goncalo/miniconda3/envs/DAA/lib/python3.10/site-packages/seaborn/_oldcore.py:1498: FutureWarning: is_categorical_dtype is deprecated and will be removed in a future version. Use isinstance(dtype, CategoricalDtype) instead\n",
      "  if pd.api.types.is_categorical_dtype(vector):\n",
      "/home/goncalo/miniconda3/envs/DAA/lib/python3.10/site-packages/seaborn/_oldcore.py:1498: FutureWarning: is_categorical_dtype is deprecated and will be removed in a future version. Use isinstance(dtype, CategoricalDtype) instead\n",
      "  if pd.api.types.is_categorical_dtype(vector):\n"
     ]
    },
    {
     "data": {
      "image/png": "[encoded data removed]",
      "text/plain": [
       "<Figure size 640x480 with 1 Axes>"
      ]
     },
     "metadata": {},
     "output_type": "display_data"
    }
   ],
   "source": [
    "sns.barplot(x='Injeçao na rede (kWh)', y='temp', data=treino)\n",
    "plt.show()"
   ]
  },
  {
   "cell_type": "markdown",
   "metadata": {},
   "source": [
    "### Relation: 'feels_like' with 'Injeçao na rede (kWh)'"
   ]
  },
  {
   "cell_type": "code",
   "execution_count": 684,
   "metadata": {},
   "outputs": [
    {
     "name": "stderr",
     "output_type": "stream",
     "text": [
      "/home/goncalo/miniconda3/envs/DAA/lib/python3.10/site-packages/seaborn/_oldcore.py:1498: FutureWarning: is_categorical_dtype is deprecated and will be removed in a future version. Use isinstance(dtype, CategoricalDtype) instead\n",
      "  if pd.api.types.is_categorical_dtype(vector):\n",
      "/home/goncalo/miniconda3/envs/DAA/lib/python3.10/site-packages/seaborn/_oldcore.py:1498: FutureWarning: is_categorical_dtype is deprecated and will be removed in a future version. Use isinstance(dtype, CategoricalDtype) instead\n",
      "  if pd.api.types.is_categorical_dtype(vector):\n",
      "/home/goncalo/miniconda3/envs/DAA/lib/python3.10/site-packages/seaborn/_oldcore.py:1498: FutureWarning: is_categorical_dtype is deprecated and will be removed in a future version. Use isinstance(dtype, CategoricalDtype) instead\n",
      "  if pd.api.types.is_categorical_dtype(vector):\n"
     ]
    },
    {
     "data": {
      "image/png": "[encoded data removed]",
      "text/plain": [
       "<Figure size 640x480 with 1 Axes>"
      ]
     },
     "metadata": {},
     "output_type": "display_data"
    }
   ],
   "source": [
    "sns.barplot(x='Injeçao na rede (kWh)', y='feels_like', data=treino)\n",
    "plt.show()"
   ]
  },
  {
   "cell_type": "markdown",
   "metadata": {},
   "source": [
    "### Relation: 'temp_min' with 'Injeçao na rede (kWh)'"
   ]
  },
  {
   "cell_type": "code",
   "execution_count": 685,
   "metadata": {},
   "outputs": [
    {
     "name": "stderr",
     "output_type": "stream",
     "text": [
      "/home/goncalo/miniconda3/envs/DAA/lib/python3.10/site-packages/seaborn/_oldcore.py:1498: FutureWarning: is_categorical_dtype is deprecated and will be removed in a future version. Use isinstance(dtype, CategoricalDtype) instead\n",
      "  if pd.api.types.is_categorical_dtype(vector):\n",
      "/home/goncalo/miniconda3/envs/DAA/lib/python3.10/site-packages/seaborn/_oldcore.py:1498: FutureWarning: is_categorical_dtype is deprecated and will be removed in a future version. Use isinstance(dtype, CategoricalDtype) instead\n",
      "  if pd.api.types.is_categorical_dtype(vector):\n",
      "/home/goncalo/miniconda3/envs/DAA/lib/python3.10/site-packages/seaborn/_oldcore.py:1498: FutureWarning: is_categorical_dtype is deprecated and will be removed in a future version. Use isinstance(dtype, CategoricalDtype) instead\n",
      "  if pd.api.types.is_categorical_dtype(vector):\n"
     ]
    },
    {
     "data": {
      "image/png": "[encoded data removed]",
      "text/plain": [
       "<Figure size 640x480 with 1 Axes>"
      ]
     },
     "metadata": {},
     "output_type": "display_data"
    }
   ],
   "source": [
    "sns.barplot(x='Injeçao na rede (kWh)', y='temp_min', data=treino)\n",
    "plt.show()"
   ]
  },
  {
   "cell_type": "markdown",
   "metadata": {},
   "source": [
    "### Relation: 'temp_max' with 'Injeçao na rede (kWh)'"
   ]
  },
  {
   "cell_type": "code",
   "execution_count": 686,
   "metadata": {},
   "outputs": [
    {
     "name": "stderr",
     "output_type": "stream",
     "text": [
      "/home/goncalo/miniconda3/envs/DAA/lib/python3.10/site-packages/seaborn/_oldcore.py:1498: FutureWarning: is_categorical_dtype is deprecated and will be removed in a future version. Use isinstance(dtype, CategoricalDtype) instead\n",
      "  if pd.api.types.is_categorical_dtype(vector):\n",
      "/home/goncalo/miniconda3/envs/DAA/lib/python3.10/site-packages/seaborn/_oldcore.py:1498: FutureWarning: is_categorical_dtype is deprecated and will be removed in a future version. Use isinstance(dtype, CategoricalDtype) instead\n",
      "  if pd.api.types.is_categorical_dtype(vector):\n",
      "/home/goncalo/miniconda3/envs/DAA/lib/python3.10/site-packages/seaborn/_oldcore.py:1498: FutureWarning: is_categorical_dtype is deprecated and will be removed in a future version. Use isinstance(dtype, CategoricalDtype) instead\n",
      "  if pd.api.types.is_categorical_dtype(vector):\n"
     ]
    },
    {
     "data": {
      "image/png": "[encoded data removed]",
      "text/plain": [
       "<Figure size 640x480 with 1 Axes>"
      ]
     },
     "metadata": {},
     "output_type": "display_data"
    }
   ],
   "source": [
    "sns.barplot(x='Injeçao na rede (kWh)', y='temp_max', data=treino)\n",
    "plt.show()"
   ]
  },
  {
   "cell_type": "markdown",
   "metadata": {},
   "source": [
    "### Relation: 'pressure' with 'Injeçao na rede (kWh)'"
   ]
  },
  {
   "cell_type": "code",
   "execution_count": 687,
   "metadata": {},
   "outputs": [
    {
     "name": "stderr",
     "output_type": "stream",
     "text": [
      "/home/goncalo/miniconda3/envs/DAA/lib/python3.10/site-packages/seaborn/_oldcore.py:1498: FutureWarning: is_categorical_dtype is deprecated and will be removed in a future version. Use isinstance(dtype, CategoricalDtype) instead\n",
      "  if pd.api.types.is_categorical_dtype(vector):\n",
      "/home/goncalo/miniconda3/envs/DAA/lib/python3.10/site-packages/seaborn/_oldcore.py:1498: FutureWarning: is_categorical_dtype is deprecated and will be removed in a future version. Use isinstance(dtype, CategoricalDtype) instead\n",
      "  if pd.api.types.is_categorical_dtype(vector):\n",
      "/home/goncalo/miniconda3/envs/DAA/lib/python3.10/site-packages/seaborn/_oldcore.py:1498: FutureWarning: is_categorical_dtype is deprecated and will be removed in a future version. Use isinstance(dtype, CategoricalDtype) instead\n",
      "  if pd.api.types.is_categorical_dtype(vector):\n"
     ]
    },
    {
     "data": {
      "image/png": "[encoded data removed]",
      "text/plain": [
       "<Figure size 640x480 with 1 Axes>"
      ]
     },
     "metadata": {},
     "output_type": "display_data"
    }
   ],
   "source": [
    "sns.barplot(x='Injeçao na rede (kWh)', y='pressure', data=treino)\n",
    "plt.show()"
   ]
  },
  {
   "cell_type": "markdown",
   "metadata": {},
   "source": [
    "### Relation: 'humidity' with 'Injeçao na rede (kWh)'"
   ]
  },
  {
   "cell_type": "code",
   "execution_count": 688,
   "metadata": {},
   "outputs": [
    {
     "name": "stderr",
     "output_type": "stream",
     "text": [
      "/home/goncalo/miniconda3/envs/DAA/lib/python3.10/site-packages/seaborn/_oldcore.py:1498: FutureWarning: is_categorical_dtype is deprecated and will be removed in a future version. Use isinstance(dtype, CategoricalDtype) instead\n",
      "  if pd.api.types.is_categorical_dtype(vector):\n",
      "/home/goncalo/miniconda3/envs/DAA/lib/python3.10/site-packages/seaborn/_oldcore.py:1498: FutureWarning: is_categorical_dtype is deprecated and will be removed in a future version. Use isinstance(dtype, CategoricalDtype) instead\n",
      "  if pd.api.types.is_categorical_dtype(vector):\n",
      "/home/goncalo/miniconda3/envs/DAA/lib/python3.10/site-packages/seaborn/_oldcore.py:1498: FutureWarning: is_categorical_dtype is deprecated and will be removed in a future version. Use isinstance(dtype, CategoricalDtype) instead\n",
      "  if pd.api.types.is_categorical_dtype(vector):\n"
     ]
    },
    {
     "data": {
      "image/png": "[encoded data removed]",
      "text/plain": [
       "<Figure size 640x480 with 1 Axes>"
      ]
     },
     "metadata": {},
     "output_type": "display_data"
    }
   ],
   "source": [
    "sns.barplot(x='Injeçao na rede (kWh)', y='humidity', data=treino)\n",
    "plt.show()"
   ]
  },
  {
   "cell_type": "markdown",
   "metadata": {},
   "source": [
    "### Relation: 'wind_speed' with 'Injeçao na rede (kWh)'"
   ]
  },
  {
   "cell_type": "code",
   "execution_count": 689,
   "metadata": {},
   "outputs": [
    {
     "name": "stderr",
     "output_type": "stream",
     "text": [
      "/home/goncalo/miniconda3/envs/DAA/lib/python3.10/site-packages/seaborn/_oldcore.py:1498: FutureWarning: is_categorical_dtype is deprecated and will be removed in a future version. Use isinstance(dtype, CategoricalDtype) instead\n",
      "  if pd.api.types.is_categorical_dtype(vector):\n",
      "/home/goncalo/miniconda3/envs/DAA/lib/python3.10/site-packages/seaborn/_oldcore.py:1498: FutureWarning: is_categorical_dtype is deprecated and will be removed in a future version. Use isinstance(dtype, CategoricalDtype) instead\n",
      "  if pd.api.types.is_categorical_dtype(vector):\n",
      "/home/goncalo/miniconda3/envs/DAA/lib/python3.10/site-packages/seaborn/_oldcore.py:1498: FutureWarning: is_categorical_dtype is deprecated and will be removed in a future version. Use isinstance(dtype, CategoricalDtype) instead\n",
      "  if pd.api.types.is_categorical_dtype(vector):\n"
     ]
    },
    {
     "data": {
      "image/png": "[encoded data removed]",
      "text/plain": [
       "<Figure size 640x480 with 1 Axes>"
      ]
     },
     "metadata": {},
     "output_type": "display_data"
    }
   ],
   "source": [
    "sns.barplot(x='Injeçao na rede (kWh)', y='wind_speed', data=treino)\n",
    "plt.show()"
   ]
  },
  {
   "cell_type": "markdown",
   "metadata": {},
   "source": [
    "We can check that the feature 'rain_1h', when the feature 'Injeçao na rede (kWh)' takes the value 'Very High', is very scattered."
   ]
  },
  {
   "cell_type": "markdown",
   "metadata": {},
   "source": [
    "### Relation: 'clouds_all' with 'Injeçao na rede (kWh)'"
   ]
  },
  {
   "cell_type": "code",
   "execution_count": 690,
   "metadata": {},
   "outputs": [
    {
     "name": "stderr",
     "output_type": "stream",
     "text": [
      "/home/goncalo/miniconda3/envs/DAA/lib/python3.10/site-packages/seaborn/_oldcore.py:1498: FutureWarning: is_categorical_dtype is deprecated and will be removed in a future version. Use isinstance(dtype, CategoricalDtype) instead\n",
      "  if pd.api.types.is_categorical_dtype(vector):\n",
      "/home/goncalo/miniconda3/envs/DAA/lib/python3.10/site-packages/seaborn/_oldcore.py:1498: FutureWarning: is_categorical_dtype is deprecated and will be removed in a future version. Use isinstance(dtype, CategoricalDtype) instead\n",
      "  if pd.api.types.is_categorical_dtype(vector):\n",
      "/home/goncalo/miniconda3/envs/DAA/lib/python3.10/site-packages/seaborn/_oldcore.py:1498: FutureWarning: is_categorical_dtype is deprecated and will be removed in a future version. Use isinstance(dtype, CategoricalDtype) instead\n",
      "  if pd.api.types.is_categorical_dtype(vector):\n"
     ]
    },
    {
     "data": {
      "image/png": "[encoded data removed]",
      "text/plain": [
       "<Figure size 640x480 with 1 Axes>"
      ]
     },
     "metadata": {},
     "output_type": "display_data"
    }
   ],
   "source": [
    "sns.barplot(x='Injeçao na rede (kWh)', y='clouds_all', data=treino)\n",
    "plt.show()"
   ]
  },
  {
   "cell_type": "markdown",
   "metadata": {},
   "source": [
    "### Relation: 'weather_description' with 'Injeçao na rede (kWh)'"
   ]
  },
  {
   "cell_type": "code",
   "execution_count": 691,
   "metadata": {},
   "outputs": [
    {
     "name": "stderr",
     "output_type": "stream",
     "text": [
      "/home/goncalo/miniconda3/envs/DAA/lib/python3.10/site-packages/seaborn/_oldcore.py:1498: FutureWarning: is_categorical_dtype is deprecated and will be removed in a future version. Use isinstance(dtype, CategoricalDtype) instead\n",
      "  if pd.api.types.is_categorical_dtype(vector):\n",
      "/home/goncalo/miniconda3/envs/DAA/lib/python3.10/site-packages/seaborn/_oldcore.py:1498: FutureWarning: is_categorical_dtype is deprecated and will be removed in a future version. Use isinstance(dtype, CategoricalDtype) instead\n",
      "  if pd.api.types.is_categorical_dtype(vector):\n",
      "/home/goncalo/miniconda3/envs/DAA/lib/python3.10/site-packages/seaborn/_oldcore.py:1498: FutureWarning: is_categorical_dtype is deprecated and will be removed in a future version. Use isinstance(dtype, CategoricalDtype) instead\n",
      "  if pd.api.types.is_categorical_dtype(vector):\n"
     ]
    },
    {
     "data": {
      "image/png": "[encoded data removed]",
      "text/plain": [
       "<Figure size 640x480 with 1 Axes>"
      ]
     },
     "metadata": {},
     "output_type": "display_data"
    }
   ],
   "source": [
    "w_d_order = ['sky is clear', 'few clouds', 'scattered clouds', 'broken clouds', 'overcast clouds', 'light rain', 'moderate rain', 'heavy intensity rain']\n",
    "\n",
    "sns.countplot(x='weather_description', order= w_d_order, hue='Injeçao na rede (kWh)', data=treino)\n",
    "plt.show()"
   ]
  },
  {
   "cell_type": "markdown",
   "metadata": {},
   "source": [
    "### Correlation Matrix"
   ]
  },
  {
   "cell_type": "code",
   "execution_count": 692,
   "metadata": {},
   "outputs": [
    {
     "data": {
      "image/png": "[encoded data removed]",
      "text/plain": [
       "<Figure size 640x480 with 2 Axes>"
      ]
     },
     "metadata": {},
     "output_type": "display_data"
    }
   ],
   "source": [
    "label_encoder_inr = preprocessing.LabelEncoder() \n",
    "label_encoder_wd = preprocessing.LabelEncoder()\n",
    "label_encoder_d = preprocessing.LabelEncoder()  \n",
    "label_encoder_s = preprocessing.LabelEncoder() \n",
    "label_encoder_m = preprocessing.LabelEncoder() \n",
    "\n",
    "treino['Injeçao na rede (kWh)'] = label_encoder_inr.fit_transform(treino['Injeçao na rede (kWh)'])\n",
    "treino['weather_description'] = label_encoder_wd.fit_transform(treino['weather_description'])\n",
    "treino['Date'] = label_encoder_d.fit_transform(treino['Date']) \n",
    "treino['Season'] = label_encoder_s.fit_transform(treino['Season']) \n",
    "treino['Month'] = label_encoder_m.fit_transform(treino['Month']) \n",
    "\n",
    "corr_matrix = treino.corr(numeric_only=True)\n",
    "sns.heatmap(corr_matrix, vmin=-1, vmax=1, square=True, annot=True)\n",
    "plt.show()"
   ]
  },
  {
   "cell_type": "code",
   "execution_count": 693,
   "metadata": {},
   "outputs": [
    {
     "data": {
      "text/plain": [
       "Hour                      -0.057440\n",
       "Season                     0.024691\n",
       "Month                     -0.015545\n",
       "Normal (kWh)               0.147976\n",
       "Horario Economico (kWh)    0.242812\n",
       "Autoconsumo (kWh)         -0.527046\n",
       "Injeçao na rede (kWh)      1.000000\n",
       "temp                      -0.209680\n",
       "feels_like                -0.195312\n",
       "temp_min                  -0.199771\n",
       "temp_max                  -0.193484\n",
       "pressure                  -0.040450\n",
       "humidity                   0.292897\n",
       "wind_speed                -0.070369\n",
       "clouds_all                 0.077215\n",
       "weather_description       -0.034752\n",
       "Name: Injeçao na rede (kWh), dtype: float64"
      ]
     },
     "execution_count": 693,
     "metadata": {},
     "output_type": "execute_result"
    }
   ],
   "source": [
    "treino[treino.columns[1:]].corr()['Injeçao na rede (kWh)'][:]"
   ]
  },
  {
   "cell_type": "code",
   "execution_count": 694,
   "metadata": {},
   "outputs": [
    {
     "data": {
      "text/html": [
       "<div>\n",
       "<style scoped>\n",
       "    .dataframe tbody tr th:only-of-type {\n",
       "        vertical-align: middle;\n",
       "    }\n",
       "\n",
       "    .dataframe tbody tr th {\n",
       "        vertical-align: top;\n",
       "    }\n",
       "\n",
       "    .dataframe thead th {\n",
       "        text-align: right;\n",
       "    }\n",
       "</style>\n",
       "<table border=\"1\" class=\"dataframe\">\n",
       "  <thead>\n",
       "    <tr style=\"text-align: right;\">\n",
       "      <th></th>\n",
       "      <th>Date</th>\n",
       "      <th>Hour</th>\n",
       "      <th>Season</th>\n",
       "      <th>Month</th>\n",
       "      <th>Normal (kWh)</th>\n",
       "      <th>Horario Economico (kWh)</th>\n",
       "      <th>Autoconsumo (kWh)</th>\n",
       "      <th>Injeçao na rede (kWh)</th>\n",
       "      <th>temp</th>\n",
       "      <th>feels_like</th>\n",
       "      <th>temp_min</th>\n",
       "      <th>temp_max</th>\n",
       "      <th>pressure</th>\n",
       "      <th>humidity</th>\n",
       "      <th>wind_speed</th>\n",
       "      <th>clouds_all</th>\n",
       "      <th>weather_description</th>\n",
       "    </tr>\n",
       "  </thead>\n",
       "  <tbody>\n",
       "    <tr>\n",
       "      <th>672</th>\n",
       "      <td>2021-09-29</td>\n",
       "      <td>0</td>\n",
       "      <td>Autumn</td>\n",
       "      <td>September</td>\n",
       "      <td>0.000</td>\n",
       "      <td>0.000</td>\n",
       "      <td>0.0</td>\n",
       "      <td>None</td>\n",
       "      <td>13.97</td>\n",
       "      <td>13.54</td>\n",
       "      <td>11.45</td>\n",
       "      <td>14.04</td>\n",
       "      <td>1027</td>\n",
       "      <td>81</td>\n",
       "      <td>1.96</td>\n",
       "      <td>87</td>\n",
       "      <td>overcast clouds</td>\n",
       "    </tr>\n",
       "    <tr>\n",
       "      <th>673</th>\n",
       "      <td>2021-09-29</td>\n",
       "      <td>1</td>\n",
       "      <td>Autumn</td>\n",
       "      <td>September</td>\n",
       "      <td>0.000</td>\n",
       "      <td>0.000</td>\n",
       "      <td>0.0</td>\n",
       "      <td>None</td>\n",
       "      <td>13.48</td>\n",
       "      <td>13.02</td>\n",
       "      <td>13.43</td>\n",
       "      <td>13.90</td>\n",
       "      <td>1028</td>\n",
       "      <td>82</td>\n",
       "      <td>1.83</td>\n",
       "      <td>91</td>\n",
       "      <td>overcast clouds</td>\n",
       "    </tr>\n",
       "    <tr>\n",
       "      <th>674</th>\n",
       "      <td>2021-09-29</td>\n",
       "      <td>2</td>\n",
       "      <td>Autumn</td>\n",
       "      <td>September</td>\n",
       "      <td>0.000</td>\n",
       "      <td>0.000</td>\n",
       "      <td>0.0</td>\n",
       "      <td>None</td>\n",
       "      <td>12.93</td>\n",
       "      <td>12.47</td>\n",
       "      <td>12.72</td>\n",
       "      <td>13.43</td>\n",
       "      <td>1027</td>\n",
       "      <td>84</td>\n",
       "      <td>1.96</td>\n",
       "      <td>93</td>\n",
       "      <td>overcast clouds</td>\n",
       "    </tr>\n",
       "    <tr>\n",
       "      <th>675</th>\n",
       "      <td>2021-09-29</td>\n",
       "      <td>3</td>\n",
       "      <td>Autumn</td>\n",
       "      <td>September</td>\n",
       "      <td>0.000</td>\n",
       "      <td>0.000</td>\n",
       "      <td>0.0</td>\n",
       "      <td>None</td>\n",
       "      <td>12.61</td>\n",
       "      <td>12.15</td>\n",
       "      <td>10.34</td>\n",
       "      <td>12.93</td>\n",
       "      <td>1027</td>\n",
       "      <td>85</td>\n",
       "      <td>1.85</td>\n",
       "      <td>95</td>\n",
       "      <td>overcast clouds</td>\n",
       "    </tr>\n",
       "    <tr>\n",
       "      <th>676</th>\n",
       "      <td>2021-09-29</td>\n",
       "      <td>4</td>\n",
       "      <td>Autumn</td>\n",
       "      <td>September</td>\n",
       "      <td>0.000</td>\n",
       "      <td>0.000</td>\n",
       "      <td>0.0</td>\n",
       "      <td>None</td>\n",
       "      <td>12.61</td>\n",
       "      <td>12.17</td>\n",
       "      <td>9.79</td>\n",
       "      <td>12.93</td>\n",
       "      <td>1027</td>\n",
       "      <td>86</td>\n",
       "      <td>1.83</td>\n",
       "      <td>93</td>\n",
       "      <td>overcast clouds</td>\n",
       "    </tr>\n",
       "    <tr>\n",
       "      <th>...</th>\n",
       "      <td>...</td>\n",
       "      <td>...</td>\n",
       "      <td>...</td>\n",
       "      <td>...</td>\n",
       "      <td>...</td>\n",
       "      <td>...</td>\n",
       "      <td>...</td>\n",
       "      <td>...</td>\n",
       "      <td>...</td>\n",
       "      <td>...</td>\n",
       "      <td>...</td>\n",
       "      <td>...</td>\n",
       "      <td>...</td>\n",
       "      <td>...</td>\n",
       "      <td>...</td>\n",
       "      <td>...</td>\n",
       "      <td>...</td>\n",
       "    </tr>\n",
       "    <tr>\n",
       "      <th>11683</th>\n",
       "      <td>2022-12-31</td>\n",
       "      <td>19</td>\n",
       "      <td>Winter</td>\n",
       "      <td>December</td>\n",
       "      <td>1.693</td>\n",
       "      <td>0.000</td>\n",
       "      <td>0.0</td>\n",
       "      <td>None</td>\n",
       "      <td>15.70</td>\n",
       "      <td>15.57</td>\n",
       "      <td>15.57</td>\n",
       "      <td>15.72</td>\n",
       "      <td>1018</td>\n",
       "      <td>86</td>\n",
       "      <td>5.56</td>\n",
       "      <td>100</td>\n",
       "      <td>moderate rain</td>\n",
       "    </tr>\n",
       "    <tr>\n",
       "      <th>11684</th>\n",
       "      <td>2022-12-31</td>\n",
       "      <td>20</td>\n",
       "      <td>Winter</td>\n",
       "      <td>December</td>\n",
       "      <td>1.327</td>\n",
       "      <td>0.000</td>\n",
       "      <td>0.0</td>\n",
       "      <td>None</td>\n",
       "      <td>15.55</td>\n",
       "      <td>15.43</td>\n",
       "      <td>12.72</td>\n",
       "      <td>15.70</td>\n",
       "      <td>1018</td>\n",
       "      <td>87</td>\n",
       "      <td>4.47</td>\n",
       "      <td>100</td>\n",
       "      <td>heavy intensity rain</td>\n",
       "    </tr>\n",
       "    <tr>\n",
       "      <th>11685</th>\n",
       "      <td>2022-12-31</td>\n",
       "      <td>21</td>\n",
       "      <td>Winter</td>\n",
       "      <td>December</td>\n",
       "      <td>0.757</td>\n",
       "      <td>0.000</td>\n",
       "      <td>0.0</td>\n",
       "      <td>None</td>\n",
       "      <td>13.45</td>\n",
       "      <td>13.28</td>\n",
       "      <td>12.23</td>\n",
       "      <td>13.99</td>\n",
       "      <td>1019</td>\n",
       "      <td>93</td>\n",
       "      <td>3.29</td>\n",
       "      <td>100</td>\n",
       "      <td>heavy intensity rain</td>\n",
       "    </tr>\n",
       "    <tr>\n",
       "      <th>11686</th>\n",
       "      <td>2022-12-31</td>\n",
       "      <td>22</td>\n",
       "      <td>Winter</td>\n",
       "      <td>December</td>\n",
       "      <td>0.000</td>\n",
       "      <td>0.675</td>\n",
       "      <td>0.0</td>\n",
       "      <td>None</td>\n",
       "      <td>12.93</td>\n",
       "      <td>12.73</td>\n",
       "      <td>12.23</td>\n",
       "      <td>13.43</td>\n",
       "      <td>1019</td>\n",
       "      <td>94</td>\n",
       "      <td>1.49</td>\n",
       "      <td>100</td>\n",
       "      <td>moderate rain</td>\n",
       "    </tr>\n",
       "    <tr>\n",
       "      <th>11687</th>\n",
       "      <td>2022-12-31</td>\n",
       "      <td>23</td>\n",
       "      <td>Winter</td>\n",
       "      <td>December</td>\n",
       "      <td>0.000</td>\n",
       "      <td>0.403</td>\n",
       "      <td>0.0</td>\n",
       "      <td>None</td>\n",
       "      <td>12.93</td>\n",
       "      <td>12.76</td>\n",
       "      <td>12.23</td>\n",
       "      <td>13.43</td>\n",
       "      <td>1019</td>\n",
       "      <td>95</td>\n",
       "      <td>1.93</td>\n",
       "      <td>100</td>\n",
       "      <td>heavy intensity rain</td>\n",
       "    </tr>\n",
       "  </tbody>\n",
       "</table>\n",
       "<p>11016 rows × 17 columns</p>\n",
       "</div>"
      ],
      "text/plain": [
       "             Date  Hour  Season      Month  Normal (kWh)  \\\n",
       "672    2021-09-29     0  Autumn  September         0.000   \n",
       "673    2021-09-29     1  Autumn  September         0.000   \n",
       "674    2021-09-29     2  Autumn  September         0.000   \n",
       "675    2021-09-29     3  Autumn  September         0.000   \n",
       "676    2021-09-29     4  Autumn  September         0.000   \n",
       "...           ...   ...     ...        ...           ...   \n",
       "11683  2022-12-31    19  Winter   December         1.693   \n",
       "11684  2022-12-31    20  Winter   December         1.327   \n",
       "11685  2022-12-31    21  Winter   December         0.757   \n",
       "11686  2022-12-31    22  Winter   December         0.000   \n",
       "11687  2022-12-31    23  Winter   December         0.000   \n",
       "\n",
       "       Horario Economico (kWh)  Autoconsumo (kWh) Injeçao na rede (kWh)  \\\n",
       "672                      0.000                0.0                  None   \n",
       "673                      0.000                0.0                  None   \n",
       "674                      0.000                0.0                  None   \n",
       "675                      0.000                0.0                  None   \n",
       "676                      0.000                0.0                  None   \n",
       "...                        ...                ...                   ...   \n",
       "11683                    0.000                0.0                  None   \n",
       "11684                    0.000                0.0                  None   \n",
       "11685                    0.000                0.0                  None   \n",
       "11686                    0.675                0.0                  None   \n",
       "11687                    0.403                0.0                  None   \n",
       "\n",
       "        temp  feels_like  temp_min  temp_max  pressure  humidity  wind_speed  \\\n",
       "672    13.97       13.54     11.45     14.04      1027        81        1.96   \n",
       "673    13.48       13.02     13.43     13.90      1028        82        1.83   \n",
       "674    12.93       12.47     12.72     13.43      1027        84        1.96   \n",
       "675    12.61       12.15     10.34     12.93      1027        85        1.85   \n",
       "676    12.61       12.17      9.79     12.93      1027        86        1.83   \n",
       "...      ...         ...       ...       ...       ...       ...         ...   \n",
       "11683  15.70       15.57     15.57     15.72      1018        86        5.56   \n",
       "11684  15.55       15.43     12.72     15.70      1018        87        4.47   \n",
       "11685  13.45       13.28     12.23     13.99      1019        93        3.29   \n",
       "11686  12.93       12.73     12.23     13.43      1019        94        1.49   \n",
       "11687  12.93       12.76     12.23     13.43      1019        95        1.93   \n",
       "\n",
       "       clouds_all   weather_description  \n",
       "672            87       overcast clouds  \n",
       "673            91       overcast clouds  \n",
       "674            93       overcast clouds  \n",
       "675            95       overcast clouds  \n",
       "676            93       overcast clouds  \n",
       "...           ...                   ...  \n",
       "11683         100         moderate rain  \n",
       "11684         100  heavy intensity rain  \n",
       "11685         100  heavy intensity rain  \n",
       "11686         100         moderate rain  \n",
       "11687         100  heavy intensity rain  \n",
       "\n",
       "[11016 rows x 17 columns]"
      ]
     },
     "execution_count": 694,
     "metadata": {},
     "output_type": "execute_result"
    }
   ],
   "source": [
    "treino['Injeçao na rede (kWh)']= label_encoder_inr.inverse_transform(treino['Injeçao na rede (kWh)'])\n",
    "treino['weather_description']= label_encoder_wd.inverse_transform(treino['weather_description'])\n",
    "treino['Date']= label_encoder_d.inverse_transform(treino['Date'])\n",
    "treino['Season']= label_encoder_s.inverse_transform(treino['Season'])\n",
    "treino['Month']= label_encoder_m.inverse_transform(treino['Month'])\n",
    "treino"
   ]
  },
  {
   "cell_type": "markdown",
   "metadata": {},
   "source": [
    "## Fase 4: Tratamento de Dados pré modelação"
   ]
  },
  {
   "cell_type": "markdown",
   "metadata": {},
   "source": [
    "We already noticed that the feature 'pressure' has little to no impact in the target feature 'Injeçao na rede (kWh)'. We can now remove that feature."
   ]
  },
  {
   "cell_type": "code",
   "execution_count": 695,
   "metadata": {},
   "outputs": [],
   "source": [
    "treino.drop(columns=['pressure'], inplace=True, axis=1)\n",
    "teste.drop(columns=['pressure'], inplace=True, axis=1)"
   ]
  },
  {
   "cell_type": "markdown",
   "metadata": {},
   "source": [
    "Dropping of features with super low correlation with the target feature"
   ]
  },
  {
   "cell_type": "code",
   "execution_count": 696,
   "metadata": {},
   "outputs": [],
   "source": [
    "columns_to_drop = ['Date', 'Hour', 'Season', 'Month', 'wind_speed', 'clouds_all', 'weather_description']\n",
    "\n",
    "treino.drop(columns=columns_to_drop, inplace=True, axis=1)\n",
    "teste.drop(columns=columns_to_drop, inplace=True, axis=1)"
   ]
  },
  {
   "cell_type": "markdown",
   "metadata": {},
   "source": [
    "Write the resulting datasets for later use."
   ]
  },
  {
   "cell_type": "code",
   "execution_count": 697,
   "metadata": {},
   "outputs": [],
   "source": [
    "treino.to_csv(f'datasets/treinoTratado.csv', index=False)\n",
    "teste.to_csv(f'datasets/testeTratado.csv', index=False)"
   ]
  }
 ],
 "metadata": {
  "kernelspec": {
   "display_name": "DAA",
   "language": "python",
   "name": "python3"
  },
  "language_info": {
   "codemirror_mode": {
    "name": "ipython",
    "version": 3
   },
   "file_extension": ".py",
   "mimetype": "text/x-python",
   "name": "python",
   "nbconvert_exporter": "python",
   "pygments_lexer": "ipython3",
   "version": "3.10.0"
  }
 },
 "nbformat": 4,
 "nbformat_minor": 2
}
