{
 "cells": [
  {
   "cell_type": "markdown",
   "metadata": {},
   "source": [
    "# XGBoost Used Cars"
   ]
  },
  {
   "cell_type": "markdown",
   "metadata": {},
   "source": [
    "## Reading data and modeling"
   ]
  },
  {
   "cell_type": "code",
   "execution_count": 1,
   "metadata": {},
   "outputs": [],
   "source": [
    "import sklearn as skl\n",
    "import pandas as pd\n",
    "import matplotlib.pyplot as plt\n",
    "import seaborn as sns\n",
    "from sklearn import preprocessing\n",
    "import numpy as np\n",
    "\n",
    "cars = pd.read_csv('../datasets/used_cars_tratado.csv')"
   ]
  },
  {
   "cell_type": "markdown",
   "metadata": {},
   "source": [
    "## Modeling"
   ]
  },
  {
   "cell_type": "code",
   "execution_count": 2,
   "metadata": {},
   "outputs": [],
   "source": [
    "from sklearn.model_selection import train_test_split\n",
    "X = cars.drop('Price', axis=1)\n",
    "y = cars['Price']\n",
    "\n",
    "X_train, X_test, y_train, y_test = train_test_split(X, y, test_size=0.2, random_state=2024)"
   ]
  },
  {
   "cell_type": "code",
   "execution_count": 3,
   "metadata": {},
   "outputs": [
    {
     "name": "stdout",
     "output_type": "stream",
     "text": [
      "Fitting 5 folds for each of 135 candidates, totalling 675 fits\n"
     ]
    },
    {
     "data": {
      "text/plain": [
       "(0.9482115015219016,\n",
       " {'learning_rate': 0.3, 'max_depth': 4, 'n_estimators': 100})"
      ]
     },
     "execution_count": 3,
     "metadata": {},
     "output_type": "execute_result"
    }
   ],
   "source": [
    "from sklearn.model_selection import GridSearchCV\n",
    "import xgboost as xgb\n",
    "\n",
    "xgb_estimator = xgb.XGBRegressor(random_state=2023)\n",
    "\n",
    "params = {\n",
    "    'n_estimators': [10, 50, 100], 'learning_rate': [0.05, 0.1, 0.3], 'max_depth': list(range(1,16))\n",
    "}\n",
    "\n",
    "grid = GridSearchCV(estimator=xgb_estimator,\n",
    "                    param_grid=params,\n",
    "                    cv=5,\n",
    "                    n_jobs=5,\n",
    "                    verbose=2)\n",
    "\n",
    "grid.fit(X_train, y_train)\n",
    "grid.best_score_, grid.best_params_"
   ]
  },
  {
   "cell_type": "code",
   "execution_count": 4,
   "metadata": {},
   "outputs": [
    {
     "name": "stdout",
     "output_type": "stream",
     "text": [
      "MAE:  200046.5646419249\n",
      "MSE:  353580343902.98236\n",
      "RMSE:  594626.222010922\n"
     ]
    }
   ],
   "source": [
    "from sklearn import metrics\n",
    "grid_predictions = grid.predict(X_test)\n",
    "\n",
    "print('MAE: ', metrics.mean_absolute_error(y_test, grid_predictions))\n",
    "print('MSE: ', metrics.mean_squared_error(y_test, grid_predictions))\n",
    "print('RMSE: ', np.sqrt(metrics.mean_squared_error(y_test, grid_predictions)))"
   ]
  },
  {
   "cell_type": "code",
   "execution_count": 5,
   "metadata": {},
   "outputs": [
    {
     "data": {
      "text/plain": [
       "<matplotlib.collections.PathCollection at 0x1b844c38d00>"
      ]
     },
     "execution_count": 5,
     "metadata": {},
     "output_type": "execute_result"
    },
    {
     "data": {
      "image/png": "[encoded data removed]",
      "text/plain": [
       "<Figure size 640x480 with 1 Axes>"
      ]
     },
     "metadata": {},
     "output_type": "display_data"
    }
   ],
   "source": [
    "plt.scatter(y_test, grid_predictions)"
   ]
  }
 ],
 "metadata": {
  "kernelspec": {
   "display_name": "grinch",
   "language": "python",
   "name": "python3"
  },
  "language_info": {
   "codemirror_mode": {
    "name": "ipython",
    "version": 3
   },
   "file_extension": ".py",
   "mimetype": "text/x-python",
   "name": "python",
   "nbconvert_exporter": "python",
   "pygments_lexer": "ipython3",
   "version": "3.10.0"
  }
 },
 "nbformat": 4,
 "nbformat_minor": 2
}
