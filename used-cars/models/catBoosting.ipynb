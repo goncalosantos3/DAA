{
 "cells": [
  {
   "cell_type": "markdown",
   "metadata": {},
   "source": [
    "# CatBoosting Used Cars"
   ]
  },
  {
   "cell_type": "markdown",
   "metadata": {},
   "source": [
    "## Reading data and imports"
   ]
  },
  {
   "cell_type": "code",
   "execution_count": 4,
   "metadata": {},
   "outputs": [],
   "source": [
    "import sklearn as skl\n",
    "import pandas as pd\n",
    "import matplotlib.pyplot as plt\n",
    "import seaborn as sns\n",
    "from sklearn import preprocessing\n",
    "import numpy as np\n",
    "\n",
    "cars = pd.read_csv('../datasets/used_cars_tratado.csv')"
   ]
  },
  {
   "cell_type": "markdown",
   "metadata": {},
   "source": [
    "## Modeling"
   ]
  },
  {
   "cell_type": "code",
   "execution_count": 5,
   "metadata": {},
   "outputs": [],
   "source": [
    "from sklearn.model_selection import train_test_split\n",
    "X = cars.drop('Price', axis=1)\n",
    "y = cars['Price']\n",
    "\n",
    "X_train, X_test, y_train, y_test = train_test_split(X, y, test_size=0.2, random_state=2024)"
   ]
  },
  {
   "cell_type": "code",
   "execution_count": 6,
   "metadata": {},
   "outputs": [
    {
     "name": "stdout",
     "output_type": "stream",
     "text": [
      "Fitting 5 folds for each of 52 candidates, totalling 260 fits\n",
      "0:\tlearn: 2628196.1524412\ttotal: 19.6ms\tremaining: 960ms\n",
      "1:\tlearn: 2413087.6571140\ttotal: 41.2ms\tremaining: 990ms\n",
      "2:\tlearn: 2220793.1426522\ttotal: 64.1ms\tremaining: 1s\n",
      "3:\tlearn: 2038914.3228034\ttotal: 86.2ms\tremaining: 991ms\n",
      "4:\tlearn: 1884194.3341782\ttotal: 108ms\tremaining: 972ms\n",
      "5:\tlearn: 1742483.4045520\ttotal: 127ms\tremaining: 933ms\n",
      "6:\tlearn: 1612489.4340938\ttotal: 148ms\tremaining: 911ms\n",
      "7:\tlearn: 1497354.9647470\ttotal: 167ms\tremaining: 879ms\n",
      "8:\tlearn: 1395240.9233035\ttotal: 190ms\tremaining: 868ms\n",
      "9:\tlearn: 1305949.6391751\ttotal: 211ms\tremaining: 845ms\n",
      "10:\tlearn: 1222863.5380122\ttotal: 231ms\tremaining: 818ms\n",
      "11:\tlearn: 1145527.4565235\ttotal: 259ms\tremaining: 819ms\n",
      "12:\tlearn: 1078577.1659273\ttotal: 281ms\tremaining: 800ms\n",
      "13:\tlearn: 1019713.7446518\ttotal: 300ms\tremaining: 772ms\n",
      "14:\tlearn: 967207.7120833\ttotal: 322ms\tremaining: 752ms\n",
      "15:\tlearn: 917832.4211774\ttotal: 342ms\tremaining: 727ms\n",
      "16:\tlearn: 875166.5208124\ttotal: 362ms\tremaining: 703ms\n",
      "17:\tlearn: 836835.5467479\ttotal: 383ms\tremaining: 681ms\n",
      "18:\tlearn: 804200.4175100\ttotal: 432ms\tremaining: 705ms\n",
      "19:\tlearn: 771947.8760595\ttotal: 500ms\tremaining: 750ms\n",
      "20:\tlearn: 746226.4442403\ttotal: 522ms\tremaining: 721ms\n",
      "21:\tlearn: 721540.9668248\ttotal: 542ms\tremaining: 690ms\n",
      "22:\tlearn: 697422.0591121\ttotal: 568ms\tremaining: 667ms\n",
      "23:\tlearn: 675649.7856330\ttotal: 588ms\tremaining: 637ms\n",
      "24:\tlearn: 655615.3320506\ttotal: 608ms\tremaining: 608ms\n",
      "25:\tlearn: 639479.7839968\ttotal: 628ms\tremaining: 579ms\n",
      "26:\tlearn: 623270.1866589\ttotal: 647ms\tremaining: 551ms\n",
      "27:\tlearn: 609936.1080576\ttotal: 666ms\tremaining: 523ms\n",
      "28:\tlearn: 597634.5367309\ttotal: 686ms\tremaining: 497ms\n",
      "29:\tlearn: 585179.1934450\ttotal: 706ms\tremaining: 471ms\n",
      "30:\tlearn: 575658.9986286\ttotal: 726ms\tremaining: 445ms\n",
      "31:\tlearn: 565837.8998149\ttotal: 749ms\tremaining: 421ms\n",
      "32:\tlearn: 556554.3408763\ttotal: 769ms\tremaining: 396ms\n",
      "33:\tlearn: 548062.6051143\ttotal: 788ms\tremaining: 371ms\n",
      "34:\tlearn: 539770.4292052\ttotal: 808ms\tremaining: 346ms\n",
      "35:\tlearn: 532278.8525879\ttotal: 829ms\tremaining: 322ms\n",
      "36:\tlearn: 526042.0218184\ttotal: 849ms\tremaining: 298ms\n",
      "37:\tlearn: 520745.6133812\ttotal: 874ms\tremaining: 276ms\n",
      "38:\tlearn: 514522.5169780\ttotal: 893ms\tremaining: 252ms\n",
      "39:\tlearn: 509110.3800649\ttotal: 914ms\tremaining: 228ms\n",
      "40:\tlearn: 504127.1113684\ttotal: 937ms\tremaining: 206ms\n",
      "41:\tlearn: 500066.9497662\ttotal: 958ms\tremaining: 182ms\n",
      "42:\tlearn: 495187.5465377\ttotal: 981ms\tremaining: 160ms\n",
      "43:\tlearn: 490347.3820185\ttotal: 1s\tremaining: 137ms\n",
      "44:\tlearn: 487132.2909314\ttotal: 1.02s\tremaining: 113ms\n",
      "45:\tlearn: 483210.6406507\ttotal: 1.04s\tremaining: 90.6ms\n",
      "46:\tlearn: 479963.0761410\ttotal: 1.06s\tremaining: 67.7ms\n",
      "47:\tlearn: 477038.9333747\ttotal: 1.08s\tremaining: 45.1ms\n",
      "48:\tlearn: 473057.7404965\ttotal: 1.1s\tremaining: 22.5ms\n",
      "49:\tlearn: 470173.2296562\ttotal: 1.12s\tremaining: 0us\n"
     ]
    },
    {
     "data": {
      "text/plain": [
       "(0.9447583485762706, {'depth': 10, 'iterations': 50, 'learning_rate': 0.1})"
      ]
     },
     "execution_count": 6,
     "metadata": {},
     "output_type": "execute_result"
    }
   ],
   "source": [
    "from sklearn.model_selection import GridSearchCV\n",
    "from catboost import CatBoostRegressor\n",
    "\n",
    "catboost_model = CatBoostRegressor(random_state=2024)\n",
    "\n",
    "params =  {\n",
    "    'iterations': [10, 50], 'depth': list(range(1,14)), 'learning_rate': [0.05, 0.1]\n",
    "}\n",
    "\n",
    "grid = GridSearchCV(estimator=catboost_model,\n",
    "                    param_grid=params,\n",
    "                    cv=5,\n",
    "                    n_jobs=5,\n",
    "                    verbose=2)\n",
    "\n",
    "grid.fit(X_train, y_train)\n",
    "grid.best_score_, grid.best_params_"
   ]
  },
  {
   "cell_type": "code",
   "execution_count": 7,
   "metadata": {},
   "outputs": [
    {
     "name": "stdout",
     "output_type": "stream",
     "text": [
      "MAE:  214617.50332635117\n",
      "MSE:  410888318351.52936\n",
      "RMSE:  641005.7085171156\n"
     ]
    }
   ],
   "source": [
    "from sklearn import metrics\n",
    "grid_predictions = grid.predict(X_test)\n",
    "\n",
    "print('MAE: ', metrics.mean_absolute_error(y_test, grid_predictions))\n",
    "print('MSE: ', metrics.mean_squared_error(y_test, grid_predictions))\n",
    "print('RMSE: ', np.sqrt(metrics.mean_squared_error(y_test, grid_predictions)))"
   ]
  },
  {
   "cell_type": "code",
   "execution_count": 9,
   "metadata": {},
   "outputs": [
    {
     "data": {
      "text/plain": [
       "<matplotlib.collections.PathCollection at 0x1bec35a9450>"
      ]
     },
     "execution_count": 9,
     "metadata": {},
     "output_type": "execute_result"
    },
    {
     "data": {
      "image/png": "[encoded data removed]",
      "text/plain": [
       "<Figure size 640x480 with 1 Axes>"
      ]
     },
     "metadata": {},
     "output_type": "display_data"
    }
   ],
   "source": [
    "plt.scatter(y_test, grid_predictions)"
   ]
  }
 ],
 "metadata": {
  "kernelspec": {
   "display_name": "DAA",
   "language": "python",
   "name": "python3"
  },
  "language_info": {
   "codemirror_mode": {
    "name": "ipython",
    "version": 3
   },
   "file_extension": ".py",
   "mimetype": "text/x-python",
   "name": "python",
   "nbconvert_exporter": "python",
   "pygments_lexer": "ipython3",
   "version": "3.10.0"
  }
 },
 "nbformat": 4,
 "nbformat_minor": 2
}
